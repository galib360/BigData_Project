{
 "cells": [
  {
   "cell_type": "code",
   "execution_count": 2,
   "metadata": {},
   "outputs": [
    {
     "ename": "ValueError",
     "evalue": "Cannot run multiple SparkContexts at once; existing SparkContext(app=pyspark-shell, master=local) created by __init__ at <ipython-input-1-6e15a40c594c>:4 ",
     "output_type": "error",
     "traceback": [
      "\u001b[1;31m---------------------------------------------------------------------------\u001b[0m",
      "\u001b[1;31mValueError\u001b[0m                                Traceback (most recent call last)",
      "\u001b[1;32m<ipython-input-2-3394e5ded84c>\u001b[0m in \u001b[0;36m<module>\u001b[1;34m\u001b[0m\n\u001b[0;32m      2\u001b[0m \u001b[1;32mfrom\u001b[0m \u001b[0mpyspark\u001b[0m\u001b[1;33m.\u001b[0m\u001b[0mcontext\u001b[0m \u001b[1;32mimport\u001b[0m \u001b[0mSparkContext\u001b[0m\u001b[1;33m\u001b[0m\u001b[1;33m\u001b[0m\u001b[0m\n\u001b[0;32m      3\u001b[0m \u001b[1;32mfrom\u001b[0m \u001b[0mpyspark\u001b[0m\u001b[1;33m.\u001b[0m\u001b[0msql\u001b[0m\u001b[1;33m.\u001b[0m\u001b[0msession\u001b[0m \u001b[1;32mimport\u001b[0m \u001b[0mSparkSession\u001b[0m\u001b[1;33m\u001b[0m\u001b[1;33m\u001b[0m\u001b[0m\n\u001b[1;32m----> 4\u001b[1;33m \u001b[0msc\u001b[0m \u001b[1;33m=\u001b[0m \u001b[0mSparkContext\u001b[0m\u001b[1;33m(\u001b[0m\u001b[1;34m'local'\u001b[0m\u001b[1;33m)\u001b[0m\u001b[1;33m\u001b[0m\u001b[1;33m\u001b[0m\u001b[0m\n\u001b[0m\u001b[0;32m      5\u001b[0m \u001b[0mspark\u001b[0m \u001b[1;33m=\u001b[0m \u001b[0mSparkSession\u001b[0m\u001b[1;33m(\u001b[0m\u001b[0msc\u001b[0m\u001b[1;33m)\u001b[0m\u001b[1;33m\u001b[0m\u001b[1;33m\u001b[0m\u001b[0m\n\u001b[0;32m      6\u001b[0m \u001b[1;31m#jan = spark.read.csv('yellow_tripdata_2017-01.csv', header=True, inferSchema = True)\u001b[0m\u001b[1;33m\u001b[0m\u001b[1;33m\u001b[0m\u001b[1;33m\u001b[0m\u001b[0m\n",
      "\u001b[1;32mc:\\users\\injam\\appdata\\local\\programs\\python\\python37\\lib\\site-packages\\pyspark\\context.py\u001b[0m in \u001b[0;36m__init__\u001b[1;34m(self, master, appName, sparkHome, pyFiles, environment, batchSize, serializer, conf, gateway, jsc, profiler_cls)\u001b[0m\n\u001b[0;32m    113\u001b[0m         \"\"\"\n\u001b[0;32m    114\u001b[0m         \u001b[0mself\u001b[0m\u001b[1;33m.\u001b[0m\u001b[0m_callsite\u001b[0m \u001b[1;33m=\u001b[0m \u001b[0mfirst_spark_call\u001b[0m\u001b[1;33m(\u001b[0m\u001b[1;33m)\u001b[0m \u001b[1;32mor\u001b[0m \u001b[0mCallSite\u001b[0m\u001b[1;33m(\u001b[0m\u001b[1;32mNone\u001b[0m\u001b[1;33m,\u001b[0m \u001b[1;32mNone\u001b[0m\u001b[1;33m,\u001b[0m \u001b[1;32mNone\u001b[0m\u001b[1;33m)\u001b[0m\u001b[1;33m\u001b[0m\u001b[1;33m\u001b[0m\u001b[0m\n\u001b[1;32m--> 115\u001b[1;33m         \u001b[0mSparkContext\u001b[0m\u001b[1;33m.\u001b[0m\u001b[0m_ensure_initialized\u001b[0m\u001b[1;33m(\u001b[0m\u001b[0mself\u001b[0m\u001b[1;33m,\u001b[0m \u001b[0mgateway\u001b[0m\u001b[1;33m=\u001b[0m\u001b[0mgateway\u001b[0m\u001b[1;33m,\u001b[0m \u001b[0mconf\u001b[0m\u001b[1;33m=\u001b[0m\u001b[0mconf\u001b[0m\u001b[1;33m)\u001b[0m\u001b[1;33m\u001b[0m\u001b[1;33m\u001b[0m\u001b[0m\n\u001b[0m\u001b[0;32m    116\u001b[0m         \u001b[1;32mtry\u001b[0m\u001b[1;33m:\u001b[0m\u001b[1;33m\u001b[0m\u001b[1;33m\u001b[0m\u001b[0m\n\u001b[0;32m    117\u001b[0m             self._do_init(master, appName, sparkHome, pyFiles, environment, batchSize, serializer,\n",
      "\u001b[1;32mc:\\users\\injam\\appdata\\local\\programs\\python\\python37\\lib\\site-packages\\pyspark\\context.py\u001b[0m in \u001b[0;36m_ensure_initialized\u001b[1;34m(cls, instance, gateway, conf)\u001b[0m\n\u001b[0;32m    312\u001b[0m                         \u001b[1;34m\" created by %s at %s:%s \"\u001b[0m\u001b[1;33m\u001b[0m\u001b[1;33m\u001b[0m\u001b[0m\n\u001b[0;32m    313\u001b[0m                         % (currentAppName, currentMaster,\n\u001b[1;32m--> 314\u001b[1;33m                             callsite.function, callsite.file, callsite.linenum))\n\u001b[0m\u001b[0;32m    315\u001b[0m                 \u001b[1;32melse\u001b[0m\u001b[1;33m:\u001b[0m\u001b[1;33m\u001b[0m\u001b[1;33m\u001b[0m\u001b[0m\n\u001b[0;32m    316\u001b[0m                     \u001b[0mSparkContext\u001b[0m\u001b[1;33m.\u001b[0m\u001b[0m_active_spark_context\u001b[0m \u001b[1;33m=\u001b[0m \u001b[0minstance\u001b[0m\u001b[1;33m\u001b[0m\u001b[1;33m\u001b[0m\u001b[0m\n",
      "\u001b[1;31mValueError\u001b[0m: Cannot run multiple SparkContexts at once; existing SparkContext(app=pyspark-shell, master=local) created by __init__ at <ipython-input-1-6e15a40c594c>:4 "
     ]
    }
   ],
   "source": [
    "import pyspark\n",
    "from pyspark.context import SparkContext\n",
    "from pyspark.sql.session import SparkSession\n",
    "sc = SparkContext('local')\n",
    "spark = SparkSession(sc)\n",
    "#jan = spark.read.csv('yellow_tripdata_2017-01.csv', header=True, inferSchema = True)\n",
    "#feb = spark.read.csv('yellow_tripdata_2017-02.csv', header=True, inferSchema = True)\n",
    "jan = spark.read.csv('Jan17.csv', header=True, inferSchema = True)\n",
    "feb = spark.read.csv('Feb17.csv', header=True, inferSchema = True)\n",
    "display(jan)"
   ]
  },
  {
   "cell_type": "code",
   "execution_count": 3,
   "metadata": {},
   "outputs": [
    {
     "name": "stdout",
     "output_type": "stream",
     "text": [
      "112\n",
      "143\n",
      "255\n",
      "157\n",
      "+---+\n",
      "| id|\n",
      "+---+\n",
      "|148|\n",
      "|243|\n",
      "|137|\n",
      "| 65|\n",
      "|255|\n",
      "|133|\n",
      "| 78|\n",
      "|211|\n",
      "|193|\n",
      "|115|\n",
      "|210|\n",
      "| 26|\n",
      "|192|\n",
      "|159|\n",
      "|236|\n",
      "| 12|\n",
      "|223|\n",
      "| 91|\n",
      "|209|\n",
      "|128|\n",
      "+---+\n",
      "only showing top 20 rows\n",
      "\n"
     ]
    }
   ],
   "source": [
    "vertexP = jan.select(\"PULocationID\").distinct()\n",
    "vertexP = vertexP.selectExpr(\"PULocationID as id\")\n",
    "print(vertexP.count())\n",
    "vertexD = jan.select(\"DOLocationID\").distinct()\n",
    "vertexD = vertexD.selectExpr(\"DOLocationID as id\")\n",
    "print(vertexD.count())\n",
    "if vertexD.count() > vertexP.count():\n",
    "  vertex = vertexD.unionAll(vertexP)\n",
    "else : vertex = vertexP.unionAll(vertexD)\n",
    "print(vertex.count())\n",
    "vertex = vertex.select(\"id\").distinct()\n",
    "print(vertex.count())\n",
    "vertex.show()"
   ]
  },
  {
   "cell_type": "code",
   "execution_count": 4,
   "metadata": {},
   "outputs": [
    {
     "name": "stdout",
     "output_type": "stream",
     "text": [
      "+---+---+------+\n",
      "|src|dst|weight|\n",
      "+---+---+------+\n",
      "| 25| 61|     1|\n",
      "|236|238|     3|\n",
      "| 49| 49|     1|\n",
      "|163|263|     1|\n",
      "|229| 36|     1|\n",
      "|162| 80|     1|\n",
      "| 43|  7|     1|\n",
      "|249|107|     2|\n",
      "|170|140|     1|\n",
      "|238|120|     1|\n",
      "|148|249|     1|\n",
      "|230|162|     1|\n",
      "| 68| 74|     1|\n",
      "|158|234|     1|\n",
      "|132|132|     1|\n",
      "|158| 87|     1|\n",
      "| 48| 75|     2|\n",
      "|239|234|     1|\n",
      "| 45| 71|     1|\n",
      "|129| 48|     1|\n",
      "+---+---+------+\n",
      "only showing top 20 rows\n",
      "\n"
     ]
    }
   ],
   "source": [
    "Edge = jan.select('PULocationID', 'DOLocationID')\n",
    "Edge.groupBy('PULocationID', 'DOLocationID')\n",
    "Edge = Edge.selectExpr(\"PULocationID as src\", \"DOLocationID as dst\")\n",
    "edge = jan.groupBy('PULocationID', 'DOLocationID').count()\n",
    "edge = edge.selectExpr(\"PULocationID as src\", \"DOLocationID as dst\", \"count as weight\")\n",
    "edge.show()"
   ]
  },
  {
   "cell_type": "code",
   "execution_count": 5,
   "metadata": {},
   "outputs": [
    {
     "ename": "Py4JJavaError",
     "evalue": "An error occurred while calling o85.loadClass.\n: java.lang.ClassNotFoundException: org.graphframes.GraphFramePythonAPI\r\n\tat java.net.URLClassLoader.findClass(URLClassLoader.java:381)\r\n\tat java.lang.ClassLoader.loadClass(ClassLoader.java:424)\r\n\tat java.lang.ClassLoader.loadClass(ClassLoader.java:357)\r\n\tat sun.reflect.NativeMethodAccessorImpl.invoke0(Native Method)\r\n\tat sun.reflect.NativeMethodAccessorImpl.invoke(NativeMethodAccessorImpl.java:62)\r\n\tat sun.reflect.DelegatingMethodAccessorImpl.invoke(DelegatingMethodAccessorImpl.java:43)\r\n\tat java.lang.reflect.Method.invoke(Method.java:498)\r\n\tat py4j.reflection.MethodInvoker.invoke(MethodInvoker.java:244)\r\n\tat py4j.reflection.ReflectionEngine.invoke(ReflectionEngine.java:357)\r\n\tat py4j.Gateway.invoke(Gateway.java:282)\r\n\tat py4j.commands.AbstractCommand.invokeMethod(AbstractCommand.java:132)\r\n\tat py4j.commands.CallCommand.execute(CallCommand.java:79)\r\n\tat py4j.GatewayConnection.run(GatewayConnection.java:238)\r\n\tat java.lang.Thread.run(Thread.java:748)\r\n",
     "output_type": "error",
     "traceback": [
      "\u001b[1;31m---------------------------------------------------------------------------\u001b[0m",
      "\u001b[1;31mPy4JJavaError\u001b[0m                             Traceback (most recent call last)",
      "\u001b[1;32m<ipython-input-5-d730bf415fdf>\u001b[0m in \u001b[0;36m<module>\u001b[1;34m\u001b[0m\n\u001b[0;32m      3\u001b[0m \u001b[1;32mfrom\u001b[0m \u001b[0mgraphframes\u001b[0m \u001b[1;32mimport\u001b[0m \u001b[1;33m*\u001b[0m\u001b[1;33m\u001b[0m\u001b[1;33m\u001b[0m\u001b[0m\n\u001b[0;32m      4\u001b[0m \u001b[1;33m\u001b[0m\u001b[0m\n\u001b[1;32m----> 5\u001b[1;33m \u001b[0mgraph\u001b[0m \u001b[1;33m=\u001b[0m \u001b[0mGraphFrame\u001b[0m\u001b[1;33m(\u001b[0m\u001b[0mvertex\u001b[0m\u001b[1;33m,\u001b[0m\u001b[0mEdge\u001b[0m\u001b[1;33m)\u001b[0m\u001b[1;33m\u001b[0m\u001b[1;33m\u001b[0m\u001b[0m\n\u001b[0m\u001b[0;32m      6\u001b[0m \u001b[0mvertex\u001b[0m\u001b[1;33m.\u001b[0m\u001b[0mcache\u001b[0m\u001b[1;33m(\u001b[0m\u001b[1;33m)\u001b[0m\u001b[1;33m\u001b[0m\u001b[1;33m\u001b[0m\u001b[0m\n\u001b[0;32m      7\u001b[0m \u001b[0mEdge\u001b[0m\u001b[1;33m.\u001b[0m\u001b[0mcache\u001b[0m\u001b[1;33m(\u001b[0m\u001b[1;33m)\u001b[0m\u001b[1;33m\u001b[0m\u001b[1;33m\u001b[0m\u001b[0m\n",
      "\u001b[1;32mc:\\users\\injam\\appdata\\local\\programs\\python\\python37\\lib\\site-packages\\graphframes\\graphframe.py\u001b[0m in \u001b[0;36m__init__\u001b[1;34m(self, v, e)\u001b[0m\n\u001b[0;32m     63\u001b[0m         \u001b[0mself\u001b[0m\u001b[1;33m.\u001b[0m\u001b[0m_sqlContext\u001b[0m \u001b[1;33m=\u001b[0m \u001b[0mv\u001b[0m\u001b[1;33m.\u001b[0m\u001b[0msql_ctx\u001b[0m\u001b[1;33m\u001b[0m\u001b[1;33m\u001b[0m\u001b[0m\n\u001b[0;32m     64\u001b[0m         \u001b[0mself\u001b[0m\u001b[1;33m.\u001b[0m\u001b[0m_sc\u001b[0m \u001b[1;33m=\u001b[0m \u001b[0mself\u001b[0m\u001b[1;33m.\u001b[0m\u001b[0m_sqlContext\u001b[0m\u001b[1;33m.\u001b[0m\u001b[0m_sc\u001b[0m\u001b[1;33m\u001b[0m\u001b[1;33m\u001b[0m\u001b[0m\n\u001b[1;32m---> 65\u001b[1;33m         \u001b[0mself\u001b[0m\u001b[1;33m.\u001b[0m\u001b[0m_jvm_gf_api\u001b[0m \u001b[1;33m=\u001b[0m \u001b[0m_java_api\u001b[0m\u001b[1;33m(\u001b[0m\u001b[0mself\u001b[0m\u001b[1;33m.\u001b[0m\u001b[0m_sc\u001b[0m\u001b[1;33m)\u001b[0m\u001b[1;33m\u001b[0m\u001b[1;33m\u001b[0m\u001b[0m\n\u001b[0m\u001b[0;32m     66\u001b[0m \u001b[1;33m\u001b[0m\u001b[0m\n\u001b[0;32m     67\u001b[0m         \u001b[0mself\u001b[0m\u001b[1;33m.\u001b[0m\u001b[0mID\u001b[0m \u001b[1;33m=\u001b[0m \u001b[0mself\u001b[0m\u001b[1;33m.\u001b[0m\u001b[0m_jvm_gf_api\u001b[0m\u001b[1;33m.\u001b[0m\u001b[0mID\u001b[0m\u001b[1;33m(\u001b[0m\u001b[1;33m)\u001b[0m\u001b[1;33m\u001b[0m\u001b[1;33m\u001b[0m\u001b[0m\n",
      "\u001b[1;32mc:\\users\\injam\\appdata\\local\\programs\\python\\python37\\lib\\site-packages\\graphframes\\graphframe.py\u001b[0m in \u001b[0;36m_java_api\u001b[1;34m(jsc)\u001b[0m\n\u001b[0;32m     36\u001b[0m \u001b[1;32mdef\u001b[0m \u001b[0m_java_api\u001b[0m\u001b[1;33m(\u001b[0m\u001b[0mjsc\u001b[0m\u001b[1;33m)\u001b[0m\u001b[1;33m:\u001b[0m\u001b[1;33m\u001b[0m\u001b[1;33m\u001b[0m\u001b[0m\n\u001b[0;32m     37\u001b[0m     \u001b[0mjavaClassName\u001b[0m \u001b[1;33m=\u001b[0m \u001b[1;34m\"org.graphframes.GraphFramePythonAPI\"\u001b[0m\u001b[1;33m\u001b[0m\u001b[1;33m\u001b[0m\u001b[0m\n\u001b[1;32m---> 38\u001b[1;33m     \u001b[1;32mreturn\u001b[0m \u001b[0mjsc\u001b[0m\u001b[1;33m.\u001b[0m\u001b[0m_jvm\u001b[0m\u001b[1;33m.\u001b[0m\u001b[0mThread\u001b[0m\u001b[1;33m.\u001b[0m\u001b[0mcurrentThread\u001b[0m\u001b[1;33m(\u001b[0m\u001b[1;33m)\u001b[0m\u001b[1;33m.\u001b[0m\u001b[0mgetContextClassLoader\u001b[0m\u001b[1;33m(\u001b[0m\u001b[1;33m)\u001b[0m\u001b[1;33m.\u001b[0m\u001b[0mloadClass\u001b[0m\u001b[1;33m(\u001b[0m\u001b[0mjavaClassName\u001b[0m\u001b[1;33m)\u001b[0m\u001b[0;31m \u001b[0m\u001b[0;31m\\\u001b[0m\u001b[1;33m\u001b[0m\u001b[1;33m\u001b[0m\u001b[0m\n\u001b[0m\u001b[0;32m     39\u001b[0m             \u001b[1;33m.\u001b[0m\u001b[0mnewInstance\u001b[0m\u001b[1;33m(\u001b[0m\u001b[1;33m)\u001b[0m\u001b[1;33m\u001b[0m\u001b[1;33m\u001b[0m\u001b[0m\n\u001b[0;32m     40\u001b[0m \u001b[1;33m\u001b[0m\u001b[0m\n",
      "\u001b[1;32mc:\\users\\injam\\appdata\\local\\programs\\python\\python37\\lib\\site-packages\\py4j\\java_gateway.py\u001b[0m in \u001b[0;36m__call__\u001b[1;34m(self, *args)\u001b[0m\n\u001b[0;32m   1255\u001b[0m         \u001b[0manswer\u001b[0m \u001b[1;33m=\u001b[0m \u001b[0mself\u001b[0m\u001b[1;33m.\u001b[0m\u001b[0mgateway_client\u001b[0m\u001b[1;33m.\u001b[0m\u001b[0msend_command\u001b[0m\u001b[1;33m(\u001b[0m\u001b[0mcommand\u001b[0m\u001b[1;33m)\u001b[0m\u001b[1;33m\u001b[0m\u001b[1;33m\u001b[0m\u001b[0m\n\u001b[0;32m   1256\u001b[0m         return_value = get_return_value(\n\u001b[1;32m-> 1257\u001b[1;33m             answer, self.gateway_client, self.target_id, self.name)\n\u001b[0m\u001b[0;32m   1258\u001b[0m \u001b[1;33m\u001b[0m\u001b[0m\n\u001b[0;32m   1259\u001b[0m         \u001b[1;32mfor\u001b[0m \u001b[0mtemp_arg\u001b[0m \u001b[1;32min\u001b[0m \u001b[0mtemp_args\u001b[0m\u001b[1;33m:\u001b[0m\u001b[1;33m\u001b[0m\u001b[1;33m\u001b[0m\u001b[0m\n",
      "\u001b[1;32mc:\\users\\injam\\appdata\\local\\programs\\python\\python37\\lib\\site-packages\\pyspark\\sql\\utils.py\u001b[0m in \u001b[0;36mdeco\u001b[1;34m(*a, **kw)\u001b[0m\n\u001b[0;32m     61\u001b[0m     \u001b[1;32mdef\u001b[0m \u001b[0mdeco\u001b[0m\u001b[1;33m(\u001b[0m\u001b[1;33m*\u001b[0m\u001b[0ma\u001b[0m\u001b[1;33m,\u001b[0m \u001b[1;33m**\u001b[0m\u001b[0mkw\u001b[0m\u001b[1;33m)\u001b[0m\u001b[1;33m:\u001b[0m\u001b[1;33m\u001b[0m\u001b[1;33m\u001b[0m\u001b[0m\n\u001b[0;32m     62\u001b[0m         \u001b[1;32mtry\u001b[0m\u001b[1;33m:\u001b[0m\u001b[1;33m\u001b[0m\u001b[1;33m\u001b[0m\u001b[0m\n\u001b[1;32m---> 63\u001b[1;33m             \u001b[1;32mreturn\u001b[0m \u001b[0mf\u001b[0m\u001b[1;33m(\u001b[0m\u001b[1;33m*\u001b[0m\u001b[0ma\u001b[0m\u001b[1;33m,\u001b[0m \u001b[1;33m**\u001b[0m\u001b[0mkw\u001b[0m\u001b[1;33m)\u001b[0m\u001b[1;33m\u001b[0m\u001b[1;33m\u001b[0m\u001b[0m\n\u001b[0m\u001b[0;32m     64\u001b[0m         \u001b[1;32mexcept\u001b[0m \u001b[0mpy4j\u001b[0m\u001b[1;33m.\u001b[0m\u001b[0mprotocol\u001b[0m\u001b[1;33m.\u001b[0m\u001b[0mPy4JJavaError\u001b[0m \u001b[1;32mas\u001b[0m \u001b[0me\u001b[0m\u001b[1;33m:\u001b[0m\u001b[1;33m\u001b[0m\u001b[1;33m\u001b[0m\u001b[0m\n\u001b[0;32m     65\u001b[0m             \u001b[0ms\u001b[0m \u001b[1;33m=\u001b[0m \u001b[0me\u001b[0m\u001b[1;33m.\u001b[0m\u001b[0mjava_exception\u001b[0m\u001b[1;33m.\u001b[0m\u001b[0mtoString\u001b[0m\u001b[1;33m(\u001b[0m\u001b[1;33m)\u001b[0m\u001b[1;33m\u001b[0m\u001b[1;33m\u001b[0m\u001b[0m\n",
      "\u001b[1;32mc:\\users\\injam\\appdata\\local\\programs\\python\\python37\\lib\\site-packages\\py4j\\protocol.py\u001b[0m in \u001b[0;36mget_return_value\u001b[1;34m(answer, gateway_client, target_id, name)\u001b[0m\n\u001b[0;32m    326\u001b[0m                 raise Py4JJavaError(\n\u001b[0;32m    327\u001b[0m                     \u001b[1;34m\"An error occurred while calling {0}{1}{2}.\\n\"\u001b[0m\u001b[1;33m.\u001b[0m\u001b[1;33m\u001b[0m\u001b[1;33m\u001b[0m\u001b[0m\n\u001b[1;32m--> 328\u001b[1;33m                     format(target_id, \".\", name), value)\n\u001b[0m\u001b[0;32m    329\u001b[0m             \u001b[1;32melse\u001b[0m\u001b[1;33m:\u001b[0m\u001b[1;33m\u001b[0m\u001b[1;33m\u001b[0m\u001b[0m\n\u001b[0;32m    330\u001b[0m                 raise Py4JError(\n",
      "\u001b[1;31mPy4JJavaError\u001b[0m: An error occurred while calling o85.loadClass.\n: java.lang.ClassNotFoundException: org.graphframes.GraphFramePythonAPI\r\n\tat java.net.URLClassLoader.findClass(URLClassLoader.java:381)\r\n\tat java.lang.ClassLoader.loadClass(ClassLoader.java:424)\r\n\tat java.lang.ClassLoader.loadClass(ClassLoader.java:357)\r\n\tat sun.reflect.NativeMethodAccessorImpl.invoke0(Native Method)\r\n\tat sun.reflect.NativeMethodAccessorImpl.invoke(NativeMethodAccessorImpl.java:62)\r\n\tat sun.reflect.DelegatingMethodAccessorImpl.invoke(DelegatingMethodAccessorImpl.java:43)\r\n\tat java.lang.reflect.Method.invoke(Method.java:498)\r\n\tat py4j.reflection.MethodInvoker.invoke(MethodInvoker.java:244)\r\n\tat py4j.reflection.ReflectionEngine.invoke(ReflectionEngine.java:357)\r\n\tat py4j.Gateway.invoke(Gateway.java:282)\r\n\tat py4j.commands.AbstractCommand.invokeMethod(AbstractCommand.java:132)\r\n\tat py4j.commands.CallCommand.execute(CallCommand.java:79)\r\n\tat py4j.GatewayConnection.run(GatewayConnection.java:238)\r\n\tat java.lang.Thread.run(Thread.java:748)\r\n"
     ]
    }
   ],
   "source": [
    "from pyspark.sql import SQLContext\n",
    "from pyspark import SparkContext\n",
    "from graphframes import * \n",
    "\n",
    "graph = GraphFrame(vertex,Edge)\n",
    "vertex.cache()\n",
    "Edge.cache()"
   ]
  },
  {
   "cell_type": "code",
   "execution_count": 6,
   "metadata": {},
   "outputs": [],
   "source": [
    "spark.stop()"
   ]
  },
  {
   "cell_type": "code",
   "execution_count": 8,
   "metadata": {},
   "outputs": [],
   "source": [
    "loc = spark.read.csv('taxi _zone_lookup.csv', header=True, inferSchema = True)\n",
    "\n",
    "jan = jan.drop('VendorID','store_and_fwd_flag' ,'improvement_surcharge')"
   ]
  },
  {
   "cell_type": "code",
   "execution_count": 12,
   "metadata": {},
   "outputs": [
    {
     "data": {
      "text/plain": [
       "DataFrame[tpep_pickup_datetime: string, tpep_dropoff_datetime: string, passenger_count: int, trip_distance: double, RatecodeID: int, PULocationID: int, DOLocationID: int, payment_type: int, fare_amount: double, extra: double, mta_tax: double, tip_amount: double, tolls_amount: double, total_amount: double, PUDate: string, PUTime: string, DODate: string, DOTime: string]"
      ]
     },
     "metadata": {},
     "output_type": "display_data"
    }
   ],
   "source": [
    "import pyspark.sql.functions\n",
    "split_col = pyspark.sql.functions.split(jan['tpep_pickup_datetime'], ' ')\n",
    "jan = jan.withColumn('PUDate', split_col.getItem(0))\n",
    "jan = jan.withColumn('PUTime', split_col.getItem(1))\n",
    "split_col = pyspark.sql.functions.split(jan['tpep_dropoff_datetime'], ' ')\n",
    "jan = jan.withColumn('DODate', split_col.getItem(0))\n",
    "jan = jan.withColumn('DOTime', split_col.getItem(1))\n",
    "display(jan)"
   ]
  },
  {
   "cell_type": "code",
   "execution_count": 13,
   "metadata": {},
   "outputs": [
    {
     "name": "stdout",
     "output_type": "stream",
     "text": [
      "+---------------+-------------+----------+------------+------------+------------+-----------+-----+-------+----------+------------+------------+--------+------+--------+------+\n",
      "|passenger_count|trip_distance|RatecodeID|PULocationID|DOLocationID|payment_type|fare_amount|extra|mta_tax|tip_amount|tolls_amount|total_amount|  PUDate|PUTime|  DODate|DOTime|\n",
      "+---------------+-------------+----------+------------+------------+------------+-----------+-----+-------+----------+------------+------------+--------+------+--------+------+\n",
      "|              1|          3.3|         1|         263|         161|           1|       12.5|  0.0|    0.5|       2.0|         0.0|        15.3|09-01-17| 11:13|09-01-17| 11:25|\n",
      "|              1|          0.9|         1|         186|         234|           1|        5.0|  0.0|    0.5|      1.45|         0.0|        7.25|09-01-17| 11:32|09-01-17| 11:36|\n",
      "|              1|          1.1|         1|         164|         161|           1|        5.5|  0.0|    0.5|       1.0|         0.0|         7.3|09-01-17| 11:38|09-01-17| 11:42|\n",
      "|              1|          1.1|         1|         236|          75|           1|        6.0|  0.0|    0.5|       1.7|         0.0|         8.5|09-01-17| 11:52|09-01-17| 11:57|\n",
      "|              1|         0.02|         2|         249|         234|           2|       52.0|  0.0|    0.5|       0.0|         0.0|        52.8|01-01-17|  0:00|01-01-17|  0:00|\n",
      "|              1|          0.5|         1|          48|          48|           2|        4.0|  0.5|    0.5|       0.0|         0.0|         5.3|01-01-17|  0:00|01-01-17|  0:03|\n",
      "|              4|         7.75|         1|         186|          36|           1|       22.0|  0.5|    0.5|      4.66|         0.0|       27.96|01-01-17|  0:00|01-01-17|  0:39|\n",
      "|              1|          0.8|         1|         162|         161|           1|        6.0|  0.5|    0.5|      1.45|         0.0|        8.75|01-01-17|  0:00|01-01-17|  0:06|\n",
      "|              2|          0.9|         1|          48|          50|           1|        7.0|  0.5|    0.5|       0.0|         0.0|         8.3|01-01-17|  0:00|01-01-17|  0:08|\n",
      "|              5|         1.76|         1|         140|          74|           2|        7.0|  0.5|    0.5|       0.0|         0.0|         8.3|01-01-17|  0:00|01-01-17|  0:05|\n",
      "|              1|         8.47|         1|         138|         262|           1|       24.0|  0.5|    0.5|      7.71|        5.54|       38.55|01-01-17|  0:00|01-01-17|  0:15|\n",
      "|              2|          2.4|         1|         142|         236|           2|       10.5|  0.5|    0.5|       0.0|         0.0|        11.8|01-01-17|  0:00|01-01-17|  0:11|\n",
      "|              2|         12.6|         5|         161|         265|           1|       60.0|  0.0|    0.0|      10.0|         0.0|        70.3|01-01-17|  0:00|01-01-17|  0:23|\n",
      "|              1|          0.9|         1|         234|         186|           1|        7.0|  0.5|    0.5|      2.05|         0.0|       10.35|01-01-17|  0:00|01-01-17|  0:08|\n",
      "|              4|         2.43|         1|         141|         107|           1|        9.5|  0.5|    0.5|       2.7|         0.0|        13.5|01-01-17|  0:00|01-01-17|  0:09|\n",
      "|              2|          2.6|         1|          79|         163|           1|       12.5|  0.5|    0.5|      2.76|         0.0|       16.56|01-01-17|  0:00|01-01-17|  0:16|\n",
      "|              5|         4.25|         1|         148|          36|           2|       16.5|  0.5|    0.5|       0.0|         0.0|        17.8|01-01-17|  0:00|01-01-17|  0:18|\n",
      "|              1|         0.65|         1|          48|          68|           1|        6.5|  0.5|    0.5|       1.7|         0.0|         9.5|01-01-17|  0:00|01-01-17|  0:07|\n",
      "|              1|         3.42|         1|         230|         148|           1|       22.5|  0.5|    0.5|       0.0|         0.0|        23.8|01-01-17|  0:00|01-01-17|  0:34|\n",
      "|              1|          6.6|         1|         186|         232|           2|       23.0|  0.5|    0.5|       0.0|         0.0|        24.3|01-01-17|  0:00|01-01-17|  0:24|\n",
      "+---------------+-------------+----------+------------+------------+------------+-----------+-----+-------+----------+------------+------------+--------+------+--------+------+\n",
      "only showing top 20 rows\n",
      "\n"
     ]
    }
   ],
   "source": [
    "jan = jan.drop('tpep_pickup_datetime','tpep_dropoff_datetime')\n",
    "jan.show()"
   ]
  },
  {
   "cell_type": "code",
   "execution_count": 14,
   "metadata": {},
   "outputs": [
    {
     "name": "stdout",
     "output_type": "stream",
     "text": [
      "+-------+---------+--------------------+-------+---------+--------------------+---------------+--------+----------+-----+-----+------------+----+-----+-------+----+----+----------+--------+------+--------+------+\n",
      "|PULocID|PUBorough|              PUZone|DOLocID|DOBorough|              DOZone|passenger_count|distance|RateCodeID|srcID|dstID|payment_type|fare|extra|mta_tax| tip|toll|total_fare|  PUDate|PUTime|  DODate|DOTime|\n",
      "+-------+---------+--------------------+-------+---------+--------------------+---------------+--------+----------+-----+-----+------------+----+-----+-------+----+----+----------+--------+------+--------+------+\n",
      "|    263|Manhattan|      Yorkville West|    161|Manhattan|      Midtown Center|              1|     3.3|         1|  263|  161|           1|12.5|  0.0|    0.5| 2.0| 0.0|      15.3|09-01-17| 11:13|09-01-17| 11:25|\n",
      "|    186|Manhattan|Penn Station/Madi...|    234|Manhattan|            Union Sq|              1|     0.9|         1|  186|  234|           1| 5.0|  0.0|    0.5|1.45| 0.0|      7.25|09-01-17| 11:32|09-01-17| 11:36|\n",
      "|    164|Manhattan|       Midtown South|    161|Manhattan|      Midtown Center|              1|     1.1|         1|  164|  161|           1| 5.5|  0.0|    0.5| 1.0| 0.0|       7.3|09-01-17| 11:38|09-01-17| 11:42|\n",
      "|    236|Manhattan|Upper East Side N...|     75|Manhattan|   East Harlem South|              1|     1.1|         1|  236|   75|           1| 6.0|  0.0|    0.5| 1.7| 0.0|       8.5|09-01-17| 11:52|09-01-17| 11:57|\n",
      "|    249|Manhattan|        West Village|    234|Manhattan|            Union Sq|              1|    0.02|         2|  249|  234|           2|52.0|  0.0|    0.5| 0.0| 0.0|      52.8|01-01-17|  0:00|01-01-17|  0:00|\n",
      "|     48|Manhattan|        Clinton East|     48|Manhattan|        Clinton East|              1|     0.5|         1|   48|   48|           2| 4.0|  0.5|    0.5| 0.0| 0.0|       5.3|01-01-17|  0:00|01-01-17|  0:03|\n",
      "|    186|Manhattan|Penn Station/Madi...|     36| Brooklyn|      Bushwick North|              4|    7.75|         1|  186|   36|           1|22.0|  0.5|    0.5|4.66| 0.0|     27.96|01-01-17|  0:00|01-01-17|  0:39|\n",
      "|    162|Manhattan|        Midtown East|    161|Manhattan|      Midtown Center|              1|     0.8|         1|  162|  161|           1| 6.0|  0.5|    0.5|1.45| 0.0|      8.75|01-01-17|  0:00|01-01-17|  0:06|\n",
      "|     48|Manhattan|        Clinton East|     50|Manhattan|        Clinton West|              2|     0.9|         1|   48|   50|           1| 7.0|  0.5|    0.5| 0.0| 0.0|       8.3|01-01-17|  0:00|01-01-17|  0:08|\n",
      "|    140|Manhattan|     Lenox Hill East|     74|Manhattan|   East Harlem North|              5|    1.76|         1|  140|   74|           2| 7.0|  0.5|    0.5| 0.0| 0.0|       8.3|01-01-17|  0:00|01-01-17|  0:05|\n",
      "|    138|   Queens|   LaGuardia Airport|    262|Manhattan|      Yorkville East|              1|    8.47|         1|  138|  262|           1|24.0|  0.5|    0.5|7.71|5.54|     38.55|01-01-17|  0:00|01-01-17|  0:15|\n",
      "|    142|Manhattan| Lincoln Square East|    236|Manhattan|Upper East Side N...|              2|     2.4|         1|  142|  236|           2|10.5|  0.5|    0.5| 0.0| 0.0|      11.8|01-01-17|  0:00|01-01-17|  0:11|\n",
      "|    161|Manhattan|      Midtown Center|    265|  Unknown|                  NA|              2|    12.6|         5|  161|  265|           1|60.0|  0.0|    0.0|10.0| 0.0|      70.3|01-01-17|  0:00|01-01-17|  0:23|\n",
      "|    234|Manhattan|            Union Sq|    186|Manhattan|Penn Station/Madi...|              1|     0.9|         1|  234|  186|           1| 7.0|  0.5|    0.5|2.05| 0.0|     10.35|01-01-17|  0:00|01-01-17|  0:08|\n",
      "|    141|Manhattan|     Lenox Hill West|    107|Manhattan|            Gramercy|              4|    2.43|         1|  141|  107|           1| 9.5|  0.5|    0.5| 2.7| 0.0|      13.5|01-01-17|  0:00|01-01-17|  0:09|\n",
      "|     79|Manhattan|        East Village|    163|Manhattan|       Midtown North|              2|     2.6|         1|   79|  163|           1|12.5|  0.5|    0.5|2.76| 0.0|     16.56|01-01-17|  0:00|01-01-17|  0:16|\n",
      "|    148|Manhattan|     Lower East Side|     36| Brooklyn|      Bushwick North|              5|    4.25|         1|  148|   36|           2|16.5|  0.5|    0.5| 0.0| 0.0|      17.8|01-01-17|  0:00|01-01-17|  0:18|\n",
      "|     48|Manhattan|        Clinton East|     68|Manhattan|        East Chelsea|              1|    0.65|         1|   48|   68|           1| 6.5|  0.5|    0.5| 1.7| 0.0|       9.5|01-01-17|  0:00|01-01-17|  0:07|\n",
      "|    230|Manhattan|Times Sq/Theatre ...|    148|Manhattan|     Lower East Side|              1|    3.42|         1|  230|  148|           1|22.5|  0.5|    0.5| 0.0| 0.0|      23.8|01-01-17|  0:00|01-01-17|  0:34|\n",
      "|    186|Manhattan|Penn Station/Madi...|    232|Manhattan|Two Bridges/Sewar...|              1|     6.6|         1|  186|  232|           2|23.0|  0.5|    0.5| 0.0| 0.0|      24.3|01-01-17|  0:00|01-01-17|  0:24|\n",
      "+-------+---------+--------------------+-------+---------+--------------------+---------------+--------+----------+-----+-----+------------+----+-----+-------+----+----+----------+--------+------+--------+------+\n",
      "only showing top 20 rows\n",
      "\n"
     ]
    }
   ],
   "source": [
    "df_joined = jan.join(loc,[jan.PULocationID==loc.LocationID],'left_outer')\n",
    "df_joined = df_joined.selectExpr(\"LocationID as PULocID\", \"Borough as PUBorough\", \"Zone as PUZone\", \"passenger_count as passenger_count\", \"trip_distance as distance\", \"RateCodeID as RateCodeID\", \"PULocationID as srcID\", \"DOLocationID as dstID\", \"payment_type as payment_type\", \"fare_amount as fare\", \"extra as extra\", \"mta_tax as mta_tax\", \"tip_amount as tip\", \"tolls_amount as toll\", \"total_amount as total_fare\", \"PUDate as PUDate\", \"PUTime as PUTime\", \"DODate as DODate\", \"DOTime as DOTime\")\n",
    "df_joined = df_joined.join(loc,[df_joined.dstID==loc.LocationID],'left_outer')\n",
    "df_joined = df_joined.selectExpr(\"PULocID as PULocID\", \"PUBorough as PUBorough\", \"PUZone as PUZone\", \"LocationID as DOLocID\", \"Borough as DOBorough\", \"Zone as DOZone\", \"passenger_count as passenger_count\", \"distance as distance\", \"RateCodeID as RateCodeID\", \"srcID as srcID\", \"dstID as dstID\", \"payment_type as payment_type\", \"fare as fare\", \"extra as extra\", \"mta_tax as mta_tax\", \"tip as tip\", \"toll as toll\", \"total_fare as total_fare\", \"PUDate as PUDate\", \"PUTime as PUTime\", \"DODate as DODate\", \"DOTime as DOTime\")\n",
    "df_joined.show()"
   ]
  },
  {
   "cell_type": "code",
   "execution_count": 15,
   "metadata": {},
   "outputs": [
    {
     "name": "stdout",
     "output_type": "stream",
     "text": [
      "+--------------------+--------------------+---------------+\n",
      "|              PUZone|              DOZone|avg(total_fare)|\n",
      "+--------------------+--------------------+---------------+\n",
      "|        Midtown East|Meatpacking/West ...|          17.75|\n",
      "|           Sunnyside|         Old Astoria|           12.8|\n",
      "|            Gramercy|            Flatiron|            7.3|\n",
      "|        East Village|         JFK Airport|           62.8|\n",
      "|     Jackson Heights|        Clinton East|           21.8|\n",
      "|   East Harlem North|            Union Sq|           22.8|\n",
      "| Little Italy/NoLiTa|         Murray Hill|           15.3|\n",
      "|Penn Station/Madi...|        Clinton East|           26.3|\n",
      "|        Clinton East|   East Harlem South|          14.55|\n",
      "|         JFK Airport|      Bushwick North|           40.3|\n",
      "|        East Village|    Sunset Park West|           27.8|\n",
      "|       Midtown South|   East Harlem South|          15.33|\n",
      "|Upper East Side S...|Upper West Side N...|          15.38|\n",
      "|   East Harlem North|     Lenox Hill West|           11.3|\n",
      "|        Midtown East|     Lenox Hill East|            9.0|\n",
      "|Washington Height...|Washington Height...|            4.3|\n",
      "| UN/Turtle Bay South|Meatpacking/West ...|          14.76|\n",
      "|     Lenox Hill East|Penn Station/Madi...|           12.8|\n",
      "|             Gowanus|Central Harlem North|           40.8|\n",
      "|Upper West Side N...|       Midtown North|            9.8|\n",
      "+--------------------+--------------------+---------------+\n",
      "only showing top 20 rows\n",
      "\n"
     ]
    }
   ],
   "source": [
    "byTotalFare = df_joined.groupBy('PUZone', 'DOZone').avg('total_fare')\n",
    "byTotalFare.show()"
   ]
  },
  {
   "cell_type": "code",
   "execution_count": 16,
   "metadata": {},
   "outputs": [
    {
     "name": "stdout",
     "output_type": "stream",
     "text": [
      "+--------------------+--------------------+-------------+\n",
      "|              PUZone|              DOZone|max(distance)|\n",
      "+--------------------+--------------------+-------------+\n",
      "|        Midtown East|Meatpacking/West ...|          2.9|\n",
      "|           Sunnyside|         Old Astoria|         2.94|\n",
      "|            Gramercy|            Flatiron|          1.0|\n",
      "|        East Village|         JFK Airport|         17.7|\n",
      "|     Jackson Heights|        Clinton East|          6.2|\n",
      "|   East Harlem North|            Union Sq|         6.28|\n",
      "| Little Italy/NoLiTa|         Murray Hill|         2.82|\n",
      "|Penn Station/Madi...|        Clinton East|         2.36|\n",
      "|        Clinton East|   East Harlem South|          3.9|\n",
      "|         JFK Airport|      Bushwick North|        14.49|\n",
      "|        East Village|    Sunset Park West|         8.92|\n",
      "|       Midtown South|   East Harlem South|          4.0|\n",
      "|Upper East Side S...|Upper West Side N...|         3.13|\n",
      "|   East Harlem North|     Lenox Hill West|          3.0|\n",
      "|        Midtown East|     Lenox Hill East|          2.0|\n",
      "|Washington Height...|Washington Height...|          0.1|\n",
      "| UN/Turtle Bay South|Meatpacking/West ...|         2.68|\n",
      "|     Lenox Hill East|Penn Station/Madi...|         3.47|\n",
      "|             Gowanus|Central Harlem North|        14.72|\n",
      "|Upper West Side N...|       Midtown North|         2.01|\n",
      "+--------------------+--------------------+-------------+\n",
      "only showing top 20 rows\n",
      "\n"
     ]
    }
   ],
   "source": [
    "byDistance = df_joined.groupBy('PUZone', 'DOZone').max('distance')\n",
    "byDistance.show()"
   ]
  },
  {
   "cell_type": "code",
   "execution_count": 7,
   "metadata": {},
   "outputs": [
    {
     "name": "stdout",
     "output_type": "stream",
     "text": [
      "+--------+--------------------+---------------------+---------------+-------------+----------+------------------+------------+------------+------------+-----------+-----+-------+----------+------------+---------------------+------------+\n",
      "|VendorID|tpep_pickup_datetime|tpep_dropoff_datetime|passenger_count|trip_distance|RatecodeID|store_and_fwd_flag|PULocationID|DOLocationID|payment_type|fare_amount|extra|mta_tax|tip_amount|tolls_amount|improvement_surcharge|total_amount|\n",
      "+--------+--------------------+---------------------+---------------+-------------+----------+------------------+------------+------------+------------+-----------+-----+-------+----------+------------+---------------------+------------+\n",
      "|       1| 2017-01-09 11:13:28|  2017-01-09 11:25:45|              1|          3.3|         1|                 N|         263|         161|           1|       12.5|  0.0|    0.5|       2.0|         0.0|                  0.3|        15.3|\n",
      "|       1| 2017-01-09 11:32:27|  2017-01-09 11:36:01|              1|          0.9|         1|                 N|         186|         234|           1|        5.0|  0.0|    0.5|      1.45|         0.0|                  0.3|        7.25|\n",
      "|       1| 2017-01-09 11:38:20|  2017-01-09 11:42:05|              1|          1.1|         1|                 N|         164|         161|           1|        5.5|  0.0|    0.5|       1.0|         0.0|                  0.3|         7.3|\n",
      "|       1| 2017-01-09 11:52:13|  2017-01-09 11:57:36|              1|          1.1|         1|                 N|         236|          75|           1|        6.0|  0.0|    0.5|       1.7|         0.0|                  0.3|         8.5|\n",
      "|       2| 2017-01-01 00:00:00|  2017-01-01 00:00:00|              1|         0.02|         2|                 N|         249|         234|           2|       52.0|  0.0|    0.5|       0.0|         0.0|                  0.3|        52.8|\n",
      "|       1| 2017-01-01 00:00:02|  2017-01-01 00:03:50|              1|          0.5|         1|                 N|          48|          48|           2|        4.0|  0.5|    0.5|       0.0|         0.0|                  0.3|         5.3|\n",
      "|       2| 2017-01-01 00:00:02|  2017-01-01 00:39:22|              4|         7.75|         1|                 N|         186|          36|           1|       22.0|  0.5|    0.5|      4.66|         0.0|                  0.3|       27.96|\n",
      "|       1| 2017-01-01 00:00:03|  2017-01-01 00:06:58|              1|          0.8|         1|                 N|         162|         161|           1|        6.0|  0.5|    0.5|      1.45|         0.0|                  0.3|        8.75|\n",
      "|       1| 2017-01-01 00:00:05|  2017-01-01 00:08:33|              2|          0.9|         1|                 N|          48|          50|           1|        7.0|  0.5|    0.5|       0.0|         0.0|                  0.3|         8.3|\n",
      "|       2| 2017-01-01 00:00:05|  2017-01-01 00:05:04|              5|         1.76|         1|                 N|         140|          74|           2|        7.0|  0.5|    0.5|       0.0|         0.0|                  0.3|         8.3|\n",
      "+--------+--------------------+---------------------+---------------+-------------+----------+------------------+------------+------------+------------+-----------+-----+-------+----------+------------+---------------------+------------+\n",
      "only showing top 10 rows\n",
      "\n"
     ]
    }
   ],
   "source": [
    "import pyspark\n",
    "from pyspark.context import SparkContext\n",
    "from pyspark.sql.session import SparkSession\n",
    "sc = SparkContext('local')\n",
    "spark = SparkSession(sc)\n",
    "jan = spark.read.csv('../bigdata/yellow_tripdata_2017-01.csv', header=True, inferSchema = True)\n",
    "jan.show(10)"
   ]
  },
  {
   "cell_type": "code",
   "execution_count": 9,
   "metadata": {},
   "outputs": [],
   "source": [
    "loc = spark.read.csv('taxi _zone_lookup.csv', header=True, inferSchema = True)"
   ]
  },
  {
   "cell_type": "code",
   "execution_count": 10,
   "metadata": {},
   "outputs": [
    {
     "name": "stdout",
     "output_type": "stream",
     "text": [
      "+--------------------+--------------------+-----+-----+------------------+\n",
      "|                 src|                 dst|count|month|          avg_fare|\n",
      "+--------------------+--------------------+-----+-----+------------------+\n",
      "|Allerton/Pelham G...|        East Tremont|    1|    1|              11.8|\n",
      "|        Battery Park|         Fort Greene|   10|    1|20.003000000000004|\n",
      "|        Battery Park|     Windsor Terrace|    4|    1|            30.445|\n",
      "|   Battery Park City|        East Village| 1716|    1| 18.92319930069934|\n",
      "|        Bloomingdale|           Chinatown|    7|    1| 32.61714285714286|\n",
      "|        Bloomingdale|     Mariners Harbor|    1|    1|             85.42|\n",
      "|           Bronxdale|         Eastchester|    1|    1|               9.3|\n",
      "|  Brooklyn Navy Yard|          Kensington|    1|    1|              18.3|\n",
      "|      Bushwick North|    Hamilton Heights|    4|    1|           53.8475|\n",
      "|      Bushwick South|Long Island City/...|    5|    1|            22.432|\n",
      "|     Carroll Gardens|Upper West Side S...|    9|    1| 38.09444444444445|\n",
      "|      Central Harlem|         Brownsville|    2|    1|            68.005|\n",
      "|Central Harlem North|   Crotona Park East|   18|    1|22.465000000000003|\n",
      "|Central Harlem North|        Far Rockaway|    1|    1|             72.84|\n",
      "|Central Harlem North|           Flatlands|    1|    1|             88.34|\n",
      "|Central Harlem North|              Inwood|   68|    1|18.413676470588236|\n",
      "|        Central Park|Briarwood/Jamaica...|    2|    1|             50.82|\n",
      "|        Clinton Hill|  Brooklyn Navy Yard|   17|    1| 7.828235294117646|\n",
      "|        Clinton Hill|      Central Harlem|    2|    1|             50.84|\n",
      "|        Clinton West|             Madison|    6|    1|52.306666666666665|\n",
      "+--------------------+--------------------+-----+-----+------------------+\n",
      "only showing top 20 rows\n",
      "\n"
     ]
    }
   ],
   "source": [
    "import pyspark.sql.functions\n",
    "\n",
    "split_col = pyspark.sql.functions.split(jan['tpep_pickup_datetime'], ' ')\n",
    "jan = jan.withColumn('PUDate', split_col.getItem(0))\n",
    "jan = jan.withColumn('PUTime', split_col.getItem(1))\n",
    "split_col = pyspark.sql.functions.split(jan['tpep_dropoff_datetime'], ' ')\n",
    "jan = jan.withColumn('DODate', split_col.getItem(0))\n",
    "jan = jan.withColumn('DOTime', split_col.getItem(1))\n",
    "\n",
    "jan = jan.drop('tpep_pickup_datetime','tpep_dropoff_datetime')\n",
    "\n",
    "df_joined = jan.join(loc,[jan.PULocationID==loc.LocationID],'left_outer')\n",
    "df_joined = df_joined.selectExpr(\"LocationID as PULocID\", \"Borough as PUBorough\", \"Zone as PUZone\", \"passenger_count as passenger_count\", \"trip_distance as distance\", \"RateCodeID as RateCodeID\", \"PULocationID as srcID\", \"DOLocationID as dstID\", \"payment_type as payment_type\", \"fare_amount as fare\", \"extra as extra\", \"mta_tax as mta_tax\", \"tip_amount as tip\", \"tolls_amount as toll\", \"total_amount as total_fare\", \"PUDate as PUDate\", \"PUTime as PUTime\", \"DODate as DODate\", \"DOTime as DOTime\")\n",
    "df_joined = df_joined.join(loc,[df_joined.dstID==loc.LocationID],'left_outer')\n",
    "df_joined = df_joined.selectExpr(\"PULocID as PULocID\", \"PUBorough as PUBorough\", \"PUZone as PUZone\", \"LocationID as DOLocID\", \"Borough as DOBorough\", \"Zone as DOZone\", \"passenger_count as passenger_count\", \"distance as distance\", \"RateCodeID as RateCodeID\", \"srcID as srcID\", \"dstID as dstID\", \"payment_type as payment_type\", \"fare as fare\", \"extra as extra\", \"mta_tax as mta_tax\", \"tip as tip\", \"toll as toll\", \"total_fare as total_fare\", \"PUDate as PUDate\", \"PUTime as PUTime\", \"DODate as DODate\", \"DOTime as DOTime\")\n",
    "\n",
    "byTotalFare = df_joined.groupBy('PUZone', 'DOZone').avg('total_fare')\n",
    "byDistance = df_joined.groupBy('PUZone', 'DOZone').max('distance')\n",
    "\n",
    "from pyspark.sql.functions import lit\n",
    "df_joined = df_joined.withColumn(\"month\",lit(1))\n",
    "\n",
    "Graph = df_joined.select('PUZone', 'DOZone', 'month')\n",
    "Graph = Graph.groupBy('PUZone', 'DOZone').count()\n",
    "Graph = Graph.withColumn(\"month\",lit(1))\n",
    "Graph = Graph.selectExpr(\"PUZone as src\", \"DOZone as dst\", \"count as count\", \"month as month\")\n",
    "\n",
    "byTotalFare = df_joined.groupBy('PUZone', 'DOZone').avg('total_fare')\n",
    "Graph = Graph.join(byTotalFare,[Graph.src==byTotalFare.PUZone, Graph.dst==byTotalFare.DOZone],'left_outer')\n",
    "Graph = Graph.drop('PUZone', 'DOZone')\n",
    "Graph = Graph.withColumnRenamed(\"avg(total_fare)\", \"avg_fare\")\n",
    "\n",
    "Graph.show()"
   ]
  },
  {
   "cell_type": "code",
   "execution_count": 12,
   "metadata": {},
   "outputs": [
    {
     "name": "stdout",
     "output_type": "stream",
     "text": [
      "+--------------------+--------------------+------------+-----+\n",
      "|              PUZone|              DOZone|max_distance|month|\n",
      "+--------------------+--------------------+------------+-----+\n",
      "|Springfield Garde...|                  NA|      264.71|    1|\n",
      "|          Ocean Hill|Two Bridges/Sewar...|       180.7|    1|\n",
      "|         JFK Airport| UN/Turtle Bay South|       173.2|    1|\n",
      "|     Mariners Harbor|                  NA|      156.17|    1|\n",
      "|        Clinton East|                  NA|       151.7|    1|\n",
      "|Flushing Meadows-...|                  NA|      143.45|    1|\n",
      "|                  NA|                  NA|       143.4|    1|\n",
      "|         JFK Airport|                  NA|       143.4|    1|\n",
      "|       Richmond Hill|                  NA|       141.8|    1|\n",
      "|         JFK Airport|                  NA|      139.17|    1|\n",
      "+--------------------+--------------------+------------+-----+\n",
      "\n"
     ]
    }
   ],
   "source": [
    "########## max distance\n",
    "max_dist = df_joined.orderBy('distance', ascending=False)\n",
    "max_dist = max_dist.limit(10)\n",
    "max_dist = max_dist.withColumnRenamed(\"distance\", \"max_distance\")\n",
    "max_dist = max_dist.select('PUZone', 'DOZone', 'max_distance', 'month')\n",
    "max_dist.show()"
   ]
  },
  {
   "cell_type": "code",
   "execution_count": 13,
   "metadata": {},
   "outputs": [
    {
     "name": "stdout",
     "output_type": "stream",
     "text": [
      "+--------------------+--------------------+--------+-----+\n",
      "|              PUZone|              DOZone|max_fare|month|\n",
      "+--------------------+--------------------+--------+-----+\n",
      "|Upper West Side S...|                  NV|625901.6|    1|\n",
      "|Two Bridges/Sewar...|Washington Height...|538580.0|    1|\n",
      "|Upper East Side S...|     Lenox Hill West|  9001.3|    1|\n",
      "|                  NV|                  NV| 8043.84|    1|\n",
      "|       Midtown North|Times Sq/Theatre ...|  3009.8|    1|\n",
      "|                  NV|                  NV|  3009.3|    1|\n",
      "|           Sunnyside|           Sunnyside| 2000.28|    1|\n",
      "|           Sunnyside|           Sunnyside| 2000.28|    1|\n",
      "|           Sunnyside|           Sunnyside| 2000.28|    1|\n",
      "|           Sunnyside|           Sunnyside| 1000.29|    1|\n",
      "+--------------------+--------------------+--------+-----+\n",
      "\n"
     ]
    }
   ],
   "source": [
    "######max fare\n",
    "max_fare = df_joined.orderBy('total_fare', ascending=False)\n",
    "max_fare = max_fare.limit(10)\n",
    "max_fare = max_fare.withColumnRenamed(\"total_fare\", \"max_fare\")\n",
    "max_fare = max_fare.select('PUZone', 'DOZone', 'max_fare', 'month')\n",
    "max_fare.show()"
   ]
  },
  {
   "cell_type": "code",
   "execution_count": 14,
   "metadata": {},
   "outputs": [],
   "source": [
    "#### manipulate time\n",
    "split_col = pyspark.sql.functions.split(df_joined['PUTime'], ':')\n",
    "df_joined = df_joined.withColumn('PUHour', split_col.getItem(0))\n",
    "\n",
    "from pyspark.sql.functions import when\n",
    "\n",
    "df_joined = df_joined.withColumn(\"PUHour\", when((df_joined[\"PUHour\"] >=0) & (df_joined[\"PUHour\"] <6), 'midnight').otherwise(df_joined[\"PUHour\"]))\n",
    "df_joined = df_joined.withColumn(\"PUHour\", when((df_joined[\"PUHour\"] >=6) & (df_joined[\"PUHour\"] <12), 'morning').otherwise(df_joined[\"PUHour\"]))\n",
    "df_joined = df_joined.withColumn(\"PUHour\", when((df_joined[\"PUHour\"] >=12) & (df_joined[\"PUHour\"] <18), 'afternoon').otherwise(df_joined[\"PUHour\"]))\n",
    "df_joined = df_joined.withColumn(\"PUHour\", when((df_joined[\"PUHour\"] >=18) & (df_joined[\"PUHour\"] <=23), 'evening').otherwise(df_joined[\"PUHour\"]))"
   ]
  },
  {
   "cell_type": "code",
   "execution_count": 15,
   "metadata": {},
   "outputs": [],
   "source": [
    "###### by time\n",
    "PUByTime = df_joined.groupBy('PUHour', 'PUZone', 'month').count()\n",
    "PUByTime = PUByTime.orderBy('count', ascending=False)"
   ]
  },
  {
   "cell_type": "code",
   "execution_count": 17,
   "metadata": {},
   "outputs": [
    {
     "name": "stdout",
     "output_type": "stream",
     "text": [
      "+--------------------+-----+------+\n",
      "|              PUZone|month| count|\n",
      "+--------------------+-----+------+\n",
      "|Upper East Side S...|    1|380663|\n",
      "|Upper East Side N...|    1|363649|\n",
      "|      Midtown Center|    1|360995|\n",
      "|Penn Station/Madi...|    1|339970|\n",
      "|Times Sq/Theatre ...|    1|334079|\n",
      "|            Union Sq|    1|333035|\n",
      "|        Midtown East|    1|330946|\n",
      "|         Murray Hill|    1|306244|\n",
      "|        East Village|    1|303580|\n",
      "|        Clinton East|    1|297414|\n",
      "| Lincoln Square East|    1|277230|\n",
      "|Upper West Side S...|    1|252264|\n",
      "|       Midtown North|    1|250939|\n",
      "|            Gramercy|    1|238695|\n",
      "|       Midtown South|    1|227768|\n",
      "|         JFK Airport|    1|227167|\n",
      "|     Lenox Hill West|    1|226739|\n",
      "|        East Chelsea|    1|224558|\n",
      "|   LaGuardia Airport|    1|212193|\n",
      "|        West Village|    1|211629|\n",
      "+--------------------+-----+------+\n",
      "only showing top 20 rows\n",
      "\n"
     ]
    }
   ],
   "source": [
    "####### best PU locs\n",
    "best_locs = df_joined.groupBy('PUZone', 'month').count()\n",
    "best_locs = best_locs.orderBy('count', ascending=False)\n",
    "best_locs.show()"
   ]
  },
  {
   "cell_type": "code",
   "execution_count": 18,
   "metadata": {},
   "outputs": [],
   "source": [
    "#####################################################  Feb\n",
    "\n",
    "jan = spark.read.csv('../bigdata/yellow_tripdata_2017-02.csv', header=True, inferSchema = True)\n",
    "jan = jan.drop('VendorID','store_and_fwd_flag' ,'improvement_surcharge')\n",
    "\n",
    "import pyspark.sql.functions\n",
    "\n",
    "split_col = pyspark.sql.functions.split(jan['tpep_pickup_datetime'], ' ')\n",
    "jan = jan.withColumn('PUDate', split_col.getItem(0))\n",
    "jan = jan.withColumn('PUTime', split_col.getItem(1))\n",
    "split_col = pyspark.sql.functions.split(jan['tpep_dropoff_datetime'], ' ')\n",
    "jan = jan.withColumn('DODate', split_col.getItem(0))\n",
    "jan = jan.withColumn('DOTime', split_col.getItem(1))\n",
    "\n",
    "jan = jan.drop('tpep_pickup_datetime','tpep_dropoff_datetime')\n",
    "\n",
    "df_joined = jan.join(loc,[jan.PULocationID==loc.LocationID],'left_outer')\n",
    "df_joined = df_joined.selectExpr(\"LocationID as PULocID\", \"Borough as PUBorough\", \"Zone as PUZone\", \"passenger_count as passenger_count\", \"trip_distance as distance\", \"RateCodeID as RateCodeID\", \"PULocationID as srcID\", \"DOLocationID as dstID\", \"payment_type as payment_type\", \"fare_amount as fare\", \"extra as extra\", \"mta_tax as mta_tax\", \"tip_amount as tip\", \"tolls_amount as toll\", \"total_amount as total_fare\", \"PUDate as PUDate\", \"PUTime as PUTime\", \"DODate as DODate\", \"DOTime as DOTime\")\n",
    "df_joined = df_joined.join(loc,[df_joined.dstID==loc.LocationID],'left_outer')\n",
    "df_joined = df_joined.selectExpr(\"PULocID as PULocID\", \"PUBorough as PUBorough\", \"PUZone as PUZone\", \"LocationID as DOLocID\", \"Borough as DOBorough\", \"Zone as DOZone\", \"passenger_count as passenger_count\", \"distance as distance\", \"RateCodeID as RateCodeID\", \"srcID as srcID\", \"dstID as dstID\", \"payment_type as payment_type\", \"fare as fare\", \"extra as extra\", \"mta_tax as mta_tax\", \"tip as tip\", \"toll as toll\", \"total_fare as total_fare\", \"PUDate as PUDate\", \"PUTime as PUTime\", \"DODate as DODate\", \"DOTime as DOTime\")\n",
    "\n",
    "byTotalFare = df_joined.groupBy('PUZone', 'DOZone').avg('total_fare')\n",
    "byDistance = df_joined.groupBy('PUZone', 'DOZone').max('distance')\n",
    "\n",
    "from pyspark.sql.functions import lit\n",
    "df_joined = df_joined.withColumn(\"month\",lit(2))\n",
    "\n",
    "Grapht = df_joined.select('PUZone', 'DOZone', 'month')\n",
    "Grapht = Grapht.groupBy('PUZone', 'DOZone').count()\n",
    "Grapht = Grapht.withColumn(\"month\",lit(2))\n",
    "Grapht = Grapht.selectExpr(\"PUZone as src\", \"DOZone as dst\", \"count as count\", \"month as month\")\n",
    "\n",
    "byTotalFare = df_joined.groupBy('PUZone', 'DOZone').avg('total_fare')\n",
    "Grapht = Grapht.join(byTotalFare,[Grapht.src==byTotalFare.PUZone, Grapht.dst==byTotalFare.DOZone],'left_outer')\n",
    "Grapht = Grapht.drop('PUZone', 'DOZone')\n",
    "Grapht = Grapht.withColumnRenamed(\"avg(total_fare)\", \"avg_fare\")\n",
    "Graph = Graph.union(Grapht)\n",
    "\n",
    "########## max distance\n",
    "max_distt = df_joined.orderBy('distance', ascending=False)\n",
    "max_distt = max_distt.limit(10)\n",
    "max_distt = max_distt.withColumnRenamed(\"distance\", \"max_distance\")\n",
    "max_distt = max_distt.select('PUZone', 'DOZone', 'max_distance', 'month')\n",
    "max_dist = max_dist.union(max_distt)\n",
    "\n",
    "######max fare\n",
    "max_faret = df_joined.orderBy('total_fare', ascending=False)\n",
    "max_faret = max_faret.limit(10)\n",
    "max_faret = max_faret.withColumnRenamed(\"total_fare\", \"max_fare\")\n",
    "max_faret = max_faret.select('PUZone', 'DOZone', 'max_fare', 'month')\n",
    "max_fare = max_fare.union(max_faret)\n",
    "\n",
    "#### manipulate time\n",
    "split_col = pyspark.sql.functions.split(df_joined['PUTime'], ':')\n",
    "df_joined = df_joined.withColumn('PUHour', split_col.getItem(0))\n",
    "\n",
    "from pyspark.sql.functions import when\n",
    "\n",
    "df_joined = df_joined.withColumn(\"PUHour\", when((df_joined[\"PUHour\"] >=0) & (df_joined[\"PUHour\"] <6), 'midnight').otherwise(df_joined[\"PUHour\"]))\n",
    "df_joined = df_joined.withColumn(\"PUHour\", when((df_joined[\"PUHour\"] >=6) & (df_joined[\"PUHour\"] <12), 'morning').otherwise(df_joined[\"PUHour\"]))\n",
    "df_joined = df_joined.withColumn(\"PUHour\", when((df_joined[\"PUHour\"] >=12) & (df_joined[\"PUHour\"] <18), 'afternoon').otherwise(df_joined[\"PUHour\"]))\n",
    "df_joined = df_joined.withColumn(\"PUHour\", when((df_joined[\"PUHour\"] >=18) & (df_joined[\"PUHour\"] <=23), 'evening').otherwise(df_joined[\"PUHour\"]))\n",
    "\n",
    "###### by time\n",
    "PUByTimet = df_joined.groupBy('PUHour', 'PUZone', 'month').count()\n",
    "PUByTimet = PUByTimet.orderBy('count', ascending=False)\n",
    "PUByTime = PUByTime.union(PUByTimet)\n",
    "\n",
    "####### best PU locs\n",
    "best_locst = df_joined.groupBy('PUZone', 'month').count()\n",
    "best_locs = best_locs.union(best_locst)"
   ]
  },
  {
   "cell_type": "code",
   "execution_count": 27,
   "metadata": {},
   "outputs": [],
   "source": [
    "import pandas as pd\n",
    "Graph.toPandas().to_csv('mycsv.csv', index=False)"
   ]
  },
  {
   "cell_type": "code",
   "execution_count": 30,
   "metadata": {},
   "outputs": [
    {
     "name": "stdout",
     "output_type": "stream",
     "text": [
      "+-------+---------+--------------------+-------+---------+--------------------+---------------+--------+----------+-----+-----+------------+----+-----+-------+----+----+----------+----------+--------+----------+--------+-----+---------+\n",
      "|PULocID|PUBorough|              PUZone|DOLocID|DOBorough|              DOZone|passenger_count|distance|RateCodeID|srcID|dstID|payment_type|fare|extra|mta_tax| tip|toll|total_fare|    PUDate|  PUTime|    DODate|  DOTime|month|   PUHour|\n",
      "+-------+---------+--------------------+-------+---------+--------------------+---------------+--------+----------+-----+-----+------------+----+-----+-------+----+----+----------+----------+--------+----------+--------+-----+---------+\n",
      "|     87|Manhattan|Financial Distric...|    246|Manhattan|West Chelsea/Huds...|              1|    3.29|         1|   87|  246|           1|14.0|  0.0|    0.5| 1.5| 0.0|      16.3|2017-02-03|02:03:50|2017-02-03|02:20:55|    2| midnight|\n",
      "|     68|Manhattan|        East Chelsea|    239|Manhattan|Upper West Side S...|              1|     2.8|         1|   68|  239|           2|15.0|  0.0|    0.5| 0.0| 0.0|      15.8|2017-02-03|02:26:04|2017-02-03|02:46:47|    2| midnight|\n",
      "|    239|Manhattan|Upper West Side S...|     43|Manhattan|        Central Park|              1|     0.9|         1|  239|   43|           1| 6.0|  0.0|    0.5|1.36| 0.0|      8.16|2017-02-03|02:49:51|2017-02-03|09:56:17|    2| midnight|\n",
      "|    163|Manhattan|       Midtown North|    230|Manhattan|Times Sq/Theatre ...|              1|    0.72|         1|  163|  230|           1| 8.0|  0.0|    0.5|1.76| 0.0|     10.56|2017-02-03|04:41:54|2017-02-03|04:52:41|    2| midnight|\n",
      "|    186|Manhattan|Penn Station/Madi...|    230|Manhattan|Times Sq/Theatre ...|              1|     1.1|         1|  186|  230|           1|11.0|  0.0|    0.5|3.54| 0.0|     15.34|2017-02-03|04:57:38|2017-02-03|12:16:14|    2| midnight|\n",
      "|    141|Manhattan|     Lenox Hill West|    162|Manhattan|        Midtown East|              1|    0.93|         1|  141|  162|           2| 9.0|  0.0|    0.5| 0.0| 0.0|       9.8|2017-02-21|14:50:07|2017-02-21|15:03:08|    2|afternoon|\n",
      "|    234|Manhattan|            Union Sq|     68|Manhattan|        East Chelsea|              6|    0.84|         1|  234|   68|           1| 5.0|  0.5|    0.5|0.88| 0.0|      7.18|2017-02-21|23:23:09|2017-02-21|23:26:18|    2|  evening|\n",
      "|    249|Manhattan|        West Village|    161|Manhattan|      Midtown Center|              6|    2.01|         1|  249|  161|           1|10.0|  0.5|    0.5|2.82| 0.0|     14.12|2017-02-21|23:28:20|2017-02-21|23:39:56|    2|  evening|\n",
      "|    144|Manhattan| Little Italy/NoLiTa|     87|Manhattan|Financial Distric...|              6|    1.52|         1|  144|   87|           1| 7.0|  0.5|    0.5|2.08| 0.0|     10.38|2017-02-21|23:55:03|2017-02-22|00:01:38|    2|  evening|\n",
      "|    230|Manhattan|Times Sq/Theatre ...|     68|Manhattan|        East Chelsea|              1|    1.01|         1|  230|   68|           1| 8.0|  0.0|    0.5|2.64| 0.0|     11.44|2017-02-24|12:17:57|2017-02-24|12:28:02|    2|afternoon|\n",
      "|     68|Manhattan|        East Chelsea|     68|Manhattan|        East Chelsea|              1|    0.72|         1|   68|   68|           1| 4.5|  0.0|    0.5|1.59| 0.0|      6.89|2017-02-24|12:29:32|2017-02-24|12:33:03|    2|afternoon|\n",
      "|    231|Manhattan|TriBeCa/Civic Center|    113|Manhattan|Greenwich Village...|              1|     1.6|         1|  231|  113|           1| 9.0|  0.0|    0.5|1.96| 0.0|     11.76|2017-02-24|12:47:50|2017-02-24|12:59:48|    2|afternoon|\n",
      "|    113|Manhattan|Greenwich Village...|    239|Manhattan|Upper West Side S...|              1|    4.31|         1|  113|  239|           1|34.5|  0.0|    0.5| 3.0| 0.0|      38.3|2017-02-24|13:03:57|2017-02-24|22:04:42|    2|afternoon|\n",
      "|    138|   Queens|   LaGuardia Airport|    162|Manhattan|        Midtown East|              1|    10.3|         1|  138|  162|           2|30.5|  0.5|    0.5| 0.0|5.54|     37.34|2017-02-01|00:00:00|2017-02-01|00:20:43|    2| midnight|\n",
      "|    132|   Queens|         JFK Airport|    123| Brooklyn|           Homecrest|              1|   16.05|         1|  132|  123|           2|44.0|  0.5|    0.5| 0.0| 0.0|      45.3|2017-02-01|00:00:00|2017-02-01|00:24:23|    2| midnight|\n",
      "|    148|Manhattan|     Lower East Side|     68|Manhattan|        East Chelsea|              1|     2.4|         1|  148|   68|           1|12.0|  0.5|    0.5| 3.0| 0.0|      16.3|2017-02-01|00:00:01|2017-02-01|00:14:45|    2| midnight|\n",
      "|    137|Manhattan|            Kips Bay|    213|    Bronx|Soundview/Castle ...|              1|    10.4|         1|  137|  213|           1|30.5|  0.5|    0.5|6.35| 0.0|     38.15|2017-02-01|00:00:01|2017-02-01|00:21:12|    2| midnight|\n",
      "|    170|Manhattan|         Murray Hill|    170|Manhattan|         Murray Hill|              4|    0.76|         1|  170|  170|           1| 5.5|  0.5|    0.5|1.36| 0.0|      8.16|2017-02-01|00:00:01|2017-02-01|00:05:29|    2| midnight|\n",
      "|    230|Manhattan|Times Sq/Theatre ...|     79|Manhattan|        East Village|              2|     2.8|         1|  230|   79|           1|10.5|  0.5|    0.5|2.36| 0.0|     14.16|2017-02-01|00:00:02|2017-02-01|00:10:45|    2| midnight|\n",
      "|    142|Manhattan| Lincoln Square East|    246|Manhattan|West Chelsea/Huds...|              1|    2.48|         1|  142|  246|           2| 9.5|  0.5|    0.5| 0.0| 0.0|      10.8|2017-02-01|00:00:03|2017-02-01|00:07:27|    2| midnight|\n",
      "+-------+---------+--------------------+-------+---------+--------------------+---------------+--------+----------+-----+-----+------------+----+-----+-------+----+----+----------+----------+--------+----------+--------+-----+---------+\n",
      "only showing top 20 rows\n",
      "\n"
     ]
    }
   ],
   "source": [
    "df_joined.show()"
   ]
  },
  {
   "cell_type": "code",
   "execution_count": 32,
   "metadata": {},
   "outputs": [
    {
     "name": "stdout",
     "output_type": "stream",
     "text": [
      "+-------+---------+--------------------+-------+---------+--------------------+---------------+--------+----------+-----+-----+------------+----+-----+-------+----+----+----------+----------+--------+----------+--------+-----+---------+--------------------+\n",
      "|PULocID|PUBorough|              PUZone|DOLocID|DOBorough|              DOZone|passenger_count|distance|RateCodeID|srcID|dstID|payment_type|fare|extra|mta_tax| tip|toll|total_fare|    PUDate|  PUTime|    DODate|  DOTime|month|   PUHour|            features|\n",
      "+-------+---------+--------------------+-------+---------+--------------------+---------------+--------+----------+-----+-----+------------+----+-----+-------+----+----+----------+----------+--------+----------+--------+-----+---------+--------------------+\n",
      "|     87|Manhattan|Financial Distric...|    246|Manhattan|West Chelsea/Huds...|              1|    3.29|         1|   87|  246|           1|14.0|  0.0|    0.5| 1.5| 0.0|      16.3|2017-02-03|02:03:50|2017-02-03|02:20:55|    2| midnight|[1.0,3.29,1.0,87....|\n",
      "|     68|Manhattan|        East Chelsea|    239|Manhattan|Upper West Side S...|              1|     2.8|         1|   68|  239|           2|15.0|  0.0|    0.5| 0.0| 0.0|      15.8|2017-02-03|02:26:04|2017-02-03|02:46:47|    2| midnight|[1.0,2.8,1.0,68.0...|\n",
      "|    239|Manhattan|Upper West Side S...|     43|Manhattan|        Central Park|              1|     0.9|         1|  239|   43|           1| 6.0|  0.0|    0.5|1.36| 0.0|      8.16|2017-02-03|02:49:51|2017-02-03|09:56:17|    2| midnight|[1.0,0.9,1.0,239....|\n",
      "|    163|Manhattan|       Midtown North|    230|Manhattan|Times Sq/Theatre ...|              1|    0.72|         1|  163|  230|           1| 8.0|  0.0|    0.5|1.76| 0.0|     10.56|2017-02-03|04:41:54|2017-02-03|04:52:41|    2| midnight|[1.0,0.72,1.0,163...|\n",
      "|    186|Manhattan|Penn Station/Madi...|    230|Manhattan|Times Sq/Theatre ...|              1|     1.1|         1|  186|  230|           1|11.0|  0.0|    0.5|3.54| 0.0|     15.34|2017-02-03|04:57:38|2017-02-03|12:16:14|    2| midnight|[1.0,1.1,1.0,186....|\n",
      "|    141|Manhattan|     Lenox Hill West|    162|Manhattan|        Midtown East|              1|    0.93|         1|  141|  162|           2| 9.0|  0.0|    0.5| 0.0| 0.0|       9.8|2017-02-21|14:50:07|2017-02-21|15:03:08|    2|afternoon|[1.0,0.93,1.0,141...|\n",
      "|    234|Manhattan|            Union Sq|     68|Manhattan|        East Chelsea|              6|    0.84|         1|  234|   68|           1| 5.0|  0.5|    0.5|0.88| 0.0|      7.18|2017-02-21|23:23:09|2017-02-21|23:26:18|    2|  evening|[6.0,0.84,1.0,234...|\n",
      "|    249|Manhattan|        West Village|    161|Manhattan|      Midtown Center|              6|    2.01|         1|  249|  161|           1|10.0|  0.5|    0.5|2.82| 0.0|     14.12|2017-02-21|23:28:20|2017-02-21|23:39:56|    2|  evening|[6.0,2.01,1.0,249...|\n",
      "|    144|Manhattan| Little Italy/NoLiTa|     87|Manhattan|Financial Distric...|              6|    1.52|         1|  144|   87|           1| 7.0|  0.5|    0.5|2.08| 0.0|     10.38|2017-02-21|23:55:03|2017-02-22|00:01:38|    2|  evening|[6.0,1.52,1.0,144...|\n",
      "|    230|Manhattan|Times Sq/Theatre ...|     68|Manhattan|        East Chelsea|              1|    1.01|         1|  230|   68|           1| 8.0|  0.0|    0.5|2.64| 0.0|     11.44|2017-02-24|12:17:57|2017-02-24|12:28:02|    2|afternoon|[1.0,1.01,1.0,230...|\n",
      "|     68|Manhattan|        East Chelsea|     68|Manhattan|        East Chelsea|              1|    0.72|         1|   68|   68|           1| 4.5|  0.0|    0.5|1.59| 0.0|      6.89|2017-02-24|12:29:32|2017-02-24|12:33:03|    2|afternoon|[1.0,0.72,1.0,68....|\n",
      "|    231|Manhattan|TriBeCa/Civic Center|    113|Manhattan|Greenwich Village...|              1|     1.6|         1|  231|  113|           1| 9.0|  0.0|    0.5|1.96| 0.0|     11.76|2017-02-24|12:47:50|2017-02-24|12:59:48|    2|afternoon|[1.0,1.6,1.0,231....|\n",
      "|    113|Manhattan|Greenwich Village...|    239|Manhattan|Upper West Side S...|              1|    4.31|         1|  113|  239|           1|34.5|  0.0|    0.5| 3.0| 0.0|      38.3|2017-02-24|13:03:57|2017-02-24|22:04:42|    2|afternoon|[1.0,4.31,1.0,113...|\n",
      "|    138|   Queens|   LaGuardia Airport|    162|Manhattan|        Midtown East|              1|    10.3|         1|  138|  162|           2|30.5|  0.5|    0.5| 0.0|5.54|     37.34|2017-02-01|00:00:00|2017-02-01|00:20:43|    2| midnight|[1.0,10.3,1.0,138...|\n",
      "|    132|   Queens|         JFK Airport|    123| Brooklyn|           Homecrest|              1|   16.05|         1|  132|  123|           2|44.0|  0.5|    0.5| 0.0| 0.0|      45.3|2017-02-01|00:00:00|2017-02-01|00:24:23|    2| midnight|[1.0,16.05,1.0,13...|\n",
      "|    148|Manhattan|     Lower East Side|     68|Manhattan|        East Chelsea|              1|     2.4|         1|  148|   68|           1|12.0|  0.5|    0.5| 3.0| 0.0|      16.3|2017-02-01|00:00:01|2017-02-01|00:14:45|    2| midnight|[1.0,2.4,1.0,148....|\n",
      "|    137|Manhattan|            Kips Bay|    213|    Bronx|Soundview/Castle ...|              1|    10.4|         1|  137|  213|           1|30.5|  0.5|    0.5|6.35| 0.0|     38.15|2017-02-01|00:00:01|2017-02-01|00:21:12|    2| midnight|[1.0,10.4,1.0,137...|\n",
      "|    170|Manhattan|         Murray Hill|    170|Manhattan|         Murray Hill|              4|    0.76|         1|  170|  170|           1| 5.5|  0.5|    0.5|1.36| 0.0|      8.16|2017-02-01|00:00:01|2017-02-01|00:05:29|    2| midnight|[4.0,0.76,1.0,170...|\n",
      "|    230|Manhattan|Times Sq/Theatre ...|     79|Manhattan|        East Village|              2|     2.8|         1|  230|   79|           1|10.5|  0.5|    0.5|2.36| 0.0|     14.16|2017-02-01|00:00:02|2017-02-01|00:10:45|    2| midnight|[2.0,2.8,1.0,230....|\n",
      "|    142|Manhattan| Lincoln Square East|    246|Manhattan|West Chelsea/Huds...|              1|    2.48|         1|  142|  246|           2| 9.5|  0.5|    0.5| 0.0| 0.0|      10.8|2017-02-01|00:00:03|2017-02-01|00:07:27|    2| midnight|[1.0,2.48,1.0,142...|\n",
      "+-------+---------+--------------------+-------+---------+--------------------+---------------+--------+----------+-----+-----+------------+----+-----+-------+----+----+----------+----------+--------+----------+--------+-----+---------+--------------------+\n",
      "only showing top 20 rows\n",
      "\n"
     ]
    }
   ],
   "source": [
    "### Clustering\n",
    "\n",
    "from pyspark.ml.feature import VectorAssembler\n",
    "\n",
    "#vecAssembler = VectorAssembler(inputCols=[\"PULocID\", \"PUBorough\", \"PUZone\", \"DOLocID\",\"DOBorough\", \"DOZone\", \"passenger_count\" ,\"distance\" , \"RateCodeID\", \"srcID\", \"dstID\", \"payment_type\", \"fare\" ,\"extra\", \"mta_tax\",  \"tip\",\"toll\",\"total_fare\", \"PUDate\", \"PUTime\",\"DODate\",\"DOTime\",\"month\" ,\"PUHour\"], outputCol=\"features\")\n",
    "vecAssembler = VectorAssembler(inputCols=[\"passenger_count\" ,\"distance\" , \"RateCodeID\", \"srcID\", \"dstID\", \"payment_type\", \"fare\" ,\"extra\", \"mta_tax\",\"tip\",\"toll\",\"total_fare\",\"month\"], outputCol=\"features\")\n",
    "new_df = vecAssembler.transform(df_joined)\n",
    "new_df.show()"
   ]
  },
  {
   "cell_type": "code",
   "execution_count": 33,
   "metadata": {},
   "outputs": [],
   "source": [
    "from pyspark.ml.clustering import KMeans\n",
    "\n",
    "kmeans = KMeans(k=3, seed=1)  # 2 clusters here\n",
    "model = kmeans.fit(new_df.select('features'))"
   ]
  },
  {
   "cell_type": "code",
   "execution_count": 34,
   "metadata": {},
   "outputs": [
    {
     "name": "stdout",
     "output_type": "stream",
     "text": [
      "+-------+---------+--------------------+-------+---------+--------------------+---------------+--------+----------+-----+-----+------------+----+-----+-------+----+----+----------+----------+--------+----------+--------+-----+---------+--------------------+----------+\n",
      "|PULocID|PUBorough|              PUZone|DOLocID|DOBorough|              DOZone|passenger_count|distance|RateCodeID|srcID|dstID|payment_type|fare|extra|mta_tax| tip|toll|total_fare|    PUDate|  PUTime|    DODate|  DOTime|month|   PUHour|            features|prediction|\n",
      "+-------+---------+--------------------+-------+---------+--------------------+---------------+--------+----------+-----+-----+------------+----+-----+-------+----+----+----------+----------+--------+----------+--------+-----+---------+--------------------+----------+\n",
      "|     87|Manhattan|Financial Distric...|    246|Manhattan|West Chelsea/Huds...|              1|    3.29|         1|   87|  246|           1|14.0|  0.0|    0.5| 1.5| 0.0|      16.3|2017-02-03|02:03:50|2017-02-03|02:20:55|    2| midnight|[1.0,3.29,1.0,87....|         0|\n",
      "|     68|Manhattan|        East Chelsea|    239|Manhattan|Upper West Side S...|              1|     2.8|         1|   68|  239|           2|15.0|  0.0|    0.5| 0.0| 0.0|      15.8|2017-02-03|02:26:04|2017-02-03|02:46:47|    2| midnight|[1.0,2.8,1.0,68.0...|         0|\n",
      "|    239|Manhattan|Upper West Side S...|     43|Manhattan|        Central Park|              1|     0.9|         1|  239|   43|           1| 6.0|  0.0|    0.5|1.36| 0.0|      8.16|2017-02-03|02:49:51|2017-02-03|09:56:17|    2| midnight|[1.0,0.9,1.0,239....|         0|\n",
      "|    163|Manhattan|       Midtown North|    230|Manhattan|Times Sq/Theatre ...|              1|    0.72|         1|  163|  230|           1| 8.0|  0.0|    0.5|1.76| 0.0|     10.56|2017-02-03|04:41:54|2017-02-03|04:52:41|    2| midnight|[1.0,0.72,1.0,163...|         0|\n",
      "|    186|Manhattan|Penn Station/Madi...|    230|Manhattan|Times Sq/Theatre ...|              1|     1.1|         1|  186|  230|           1|11.0|  0.0|    0.5|3.54| 0.0|     15.34|2017-02-03|04:57:38|2017-02-03|12:16:14|    2| midnight|[1.0,1.1,1.0,186....|         0|\n",
      "|    141|Manhattan|     Lenox Hill West|    162|Manhattan|        Midtown East|              1|    0.93|         1|  141|  162|           2| 9.0|  0.0|    0.5| 0.0| 0.0|       9.8|2017-02-21|14:50:07|2017-02-21|15:03:08|    2|afternoon|[1.0,0.93,1.0,141...|         0|\n",
      "|    234|Manhattan|            Union Sq|     68|Manhattan|        East Chelsea|              6|    0.84|         1|  234|   68|           1| 5.0|  0.5|    0.5|0.88| 0.0|      7.18|2017-02-21|23:23:09|2017-02-21|23:26:18|    2|  evening|[6.0,0.84,1.0,234...|         0|\n",
      "|    249|Manhattan|        West Village|    161|Manhattan|      Midtown Center|              6|    2.01|         1|  249|  161|           1|10.0|  0.5|    0.5|2.82| 0.0|     14.12|2017-02-21|23:28:20|2017-02-21|23:39:56|    2|  evening|[6.0,2.01,1.0,249...|         0|\n",
      "|    144|Manhattan| Little Italy/NoLiTa|     87|Manhattan|Financial Distric...|              6|    1.52|         1|  144|   87|           1| 7.0|  0.5|    0.5|2.08| 0.0|     10.38|2017-02-21|23:55:03|2017-02-22|00:01:38|    2|  evening|[6.0,1.52,1.0,144...|         0|\n",
      "|    230|Manhattan|Times Sq/Theatre ...|     68|Manhattan|        East Chelsea|              1|    1.01|         1|  230|   68|           1| 8.0|  0.0|    0.5|2.64| 0.0|     11.44|2017-02-24|12:17:57|2017-02-24|12:28:02|    2|afternoon|[1.0,1.01,1.0,230...|         0|\n",
      "|     68|Manhattan|        East Chelsea|     68|Manhattan|        East Chelsea|              1|    0.72|         1|   68|   68|           1| 4.5|  0.0|    0.5|1.59| 0.0|      6.89|2017-02-24|12:29:32|2017-02-24|12:33:03|    2|afternoon|[1.0,0.72,1.0,68....|         0|\n",
      "|    231|Manhattan|TriBeCa/Civic Center|    113|Manhattan|Greenwich Village...|              1|     1.6|         1|  231|  113|           1| 9.0|  0.0|    0.5|1.96| 0.0|     11.76|2017-02-24|12:47:50|2017-02-24|12:59:48|    2|afternoon|[1.0,1.6,1.0,231....|         0|\n",
      "|    113|Manhattan|Greenwich Village...|    239|Manhattan|Upper West Side S...|              1|    4.31|         1|  113|  239|           1|34.5|  0.0|    0.5| 3.0| 0.0|      38.3|2017-02-24|13:03:57|2017-02-24|22:04:42|    2|afternoon|[1.0,4.31,1.0,113...|         0|\n",
      "|    138|   Queens|   LaGuardia Airport|    162|Manhattan|        Midtown East|              1|    10.3|         1|  138|  162|           2|30.5|  0.5|    0.5| 0.0|5.54|     37.34|2017-02-01|00:00:00|2017-02-01|00:20:43|    2| midnight|[1.0,10.3,1.0,138...|         0|\n",
      "|    132|   Queens|         JFK Airport|    123| Brooklyn|           Homecrest|              1|   16.05|         1|  132|  123|           2|44.0|  0.5|    0.5| 0.0| 0.0|      45.3|2017-02-01|00:00:00|2017-02-01|00:24:23|    2| midnight|[1.0,16.05,1.0,13...|         0|\n",
      "|    148|Manhattan|     Lower East Side|     68|Manhattan|        East Chelsea|              1|     2.4|         1|  148|   68|           1|12.0|  0.5|    0.5| 3.0| 0.0|      16.3|2017-02-01|00:00:01|2017-02-01|00:14:45|    2| midnight|[1.0,2.4,1.0,148....|         0|\n",
      "|    137|Manhattan|            Kips Bay|    213|    Bronx|Soundview/Castle ...|              1|    10.4|         1|  137|  213|           1|30.5|  0.5|    0.5|6.35| 0.0|     38.15|2017-02-01|00:00:01|2017-02-01|00:21:12|    2| midnight|[1.0,10.4,1.0,137...|         0|\n",
      "|    170|Manhattan|         Murray Hill|    170|Manhattan|         Murray Hill|              4|    0.76|         1|  170|  170|           1| 5.5|  0.5|    0.5|1.36| 0.0|      8.16|2017-02-01|00:00:01|2017-02-01|00:05:29|    2| midnight|[4.0,0.76,1.0,170...|         0|\n",
      "|    230|Manhattan|Times Sq/Theatre ...|     79|Manhattan|        East Village|              2|     2.8|         1|  230|   79|           1|10.5|  0.5|    0.5|2.36| 0.0|     14.16|2017-02-01|00:00:02|2017-02-01|00:10:45|    2| midnight|[2.0,2.8,1.0,230....|         0|\n",
      "|    142|Manhattan| Lincoln Square East|    246|Manhattan|West Chelsea/Huds...|              1|    2.48|         1|  142|  246|           2| 9.5|  0.5|    0.5| 0.0| 0.0|      10.8|2017-02-01|00:00:03|2017-02-01|00:07:27|    2| midnight|[1.0,2.48,1.0,142...|         0|\n",
      "+-------+---------+--------------------+-------+---------+--------------------+---------------+--------+----------+-----+-----+------------+----+-----+-------+----+----+----------+----------+--------+----------+--------+-----+---------+--------------------+----------+\n",
      "only showing top 20 rows\n",
      "\n"
     ]
    }
   ],
   "source": [
    "transformed = model.transform(new_df)\n",
    "transformed.show()"
   ]
  },
  {
   "cell_type": "code",
   "execution_count": null,
   "metadata": {},
   "outputs": [],
   "source": []
  }
 ],
 "metadata": {
  "kernelspec": {
   "display_name": "Python 3",
   "language": "python",
   "name": "python3"
  },
  "language_info": {
   "codemirror_mode": {
    "name": "ipython",
    "version": 3
   },
   "file_extension": ".py",
   "mimetype": "text/x-python",
   "name": "python",
   "nbconvert_exporter": "python",
   "pygments_lexer": "ipython3",
   "version": "3.7.2"
  }
 },
 "nbformat": 4,
 "nbformat_minor": 2
}
