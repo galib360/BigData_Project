{
 "cells": [
  {
   "cell_type": "code",
   "execution_count": 2,
   "metadata": {},
   "outputs": [],
   "source": [
    "#########START\n",
    "#spark.stop()\n",
    "import pyspark\n",
    "from pyspark.context import SparkContext\n",
    "from pyspark.sql.session import SparkSession\n",
    "sc = SparkContext('local')\n",
    "spark = SparkSession(sc)\n",
    "jan = spark.read.csv('../bigdata/yellow_tripdata_2017-01.csv', header=True, inferSchema = True)\n",
    "\n",
    "loc = spark.read.csv('taxi _zone_lookup.csv', header=True, inferSchema = True)\n"
   ]
  },
  {
   "cell_type": "code",
   "execution_count": 3,
   "metadata": {},
   "outputs": [
    {
     "name": "stdout",
     "output_type": "stream",
     "text": [
      "+-------+---------+--------------------+-------+---------+--------------------+---------------+--------+----------+-----+-----+------------+----+-----+-------+----+----+----------+----------+--------+----------+--------+\n",
      "|PULocID|PUBorough|              PUZone|DOLocID|DOBorough|              DOZone|passenger_count|distance|RateCodeID|srcID|dstID|payment_type|fare|extra|mta_tax| tip|toll|total_fare|    PUDate|  PUTime|    DODate|  DOTime|\n",
      "+-------+---------+--------------------+-------+---------+--------------------+---------------+--------+----------+-----+-----+------------+----+-----+-------+----+----+----------+----------+--------+----------+--------+\n",
      "|    263|Manhattan|      Yorkville West|    161|Manhattan|      Midtown Center|              1|     3.3|         1|  263|  161|           1|12.5|  0.0|    0.5| 2.0| 0.0|      15.3|2017-01-09|11:13:28|2017-01-09|11:25:45|\n",
      "|    186|Manhattan|Penn Station/Madi...|    234|Manhattan|            Union Sq|              1|     0.9|         1|  186|  234|           1| 5.0|  0.0|    0.5|1.45| 0.0|      7.25|2017-01-09|11:32:27|2017-01-09|11:36:01|\n",
      "|    164|Manhattan|       Midtown South|    161|Manhattan|      Midtown Center|              1|     1.1|         1|  164|  161|           1| 5.5|  0.0|    0.5| 1.0| 0.0|       7.3|2017-01-09|11:38:20|2017-01-09|11:42:05|\n",
      "|    236|Manhattan|Upper East Side N...|     75|Manhattan|   East Harlem South|              1|     1.1|         1|  236|   75|           1| 6.0|  0.0|    0.5| 1.7| 0.0|       8.5|2017-01-09|11:52:13|2017-01-09|11:57:36|\n",
      "|    249|Manhattan|        West Village|    234|Manhattan|            Union Sq|              1|    0.02|         2|  249|  234|           2|52.0|  0.0|    0.5| 0.0| 0.0|      52.8|2017-01-01|00:00:00|2017-01-01|00:00:00|\n",
      "|     48|Manhattan|        Clinton East|     48|Manhattan|        Clinton East|              1|     0.5|         1|   48|   48|           2| 4.0|  0.5|    0.5| 0.0| 0.0|       5.3|2017-01-01|00:00:02|2017-01-01|00:03:50|\n",
      "|    186|Manhattan|Penn Station/Madi...|     36| Brooklyn|      Bushwick North|              4|    7.75|         1|  186|   36|           1|22.0|  0.5|    0.5|4.66| 0.0|     27.96|2017-01-01|00:00:02|2017-01-01|00:39:22|\n",
      "|    162|Manhattan|        Midtown East|    161|Manhattan|      Midtown Center|              1|     0.8|         1|  162|  161|           1| 6.0|  0.5|    0.5|1.45| 0.0|      8.75|2017-01-01|00:00:03|2017-01-01|00:06:58|\n",
      "|     48|Manhattan|        Clinton East|     50|Manhattan|        Clinton West|              2|     0.9|         1|   48|   50|           1| 7.0|  0.5|    0.5| 0.0| 0.0|       8.3|2017-01-01|00:00:05|2017-01-01|00:08:33|\n",
      "|    140|Manhattan|     Lenox Hill East|     74|Manhattan|   East Harlem North|              5|    1.76|         1|  140|   74|           2| 7.0|  0.5|    0.5| 0.0| 0.0|       8.3|2017-01-01|00:00:05|2017-01-01|00:05:04|\n",
      "|    138|   Queens|   LaGuardia Airport|    262|Manhattan|      Yorkville East|              1|    8.47|         1|  138|  262|           1|24.0|  0.5|    0.5|7.71|5.54|     38.55|2017-01-01|00:00:05|2017-01-01|00:15:36|\n",
      "|    142|Manhattan| Lincoln Square East|    236|Manhattan|Upper East Side N...|              2|     2.4|         1|  142|  236|           2|10.5|  0.5|    0.5| 0.0| 0.0|      11.8|2017-01-01|00:00:06|2017-01-01|00:11:56|\n",
      "|    161|Manhattan|      Midtown Center|    265|  Unknown|                  NA|              2|    12.6|         5|  161|  265|           1|60.0|  0.0|    0.0|10.0| 0.0|      70.3|2017-01-01|00:00:06|2017-01-01|00:23:37|\n",
      "|    234|Manhattan|            Union Sq|    186|Manhattan|Penn Station/Madi...|              1|     0.9|         1|  234|  186|           1| 7.0|  0.5|    0.5|2.05| 0.0|     10.35|2017-01-01|00:00:06|2017-01-01|00:08:53|\n",
      "|    141|Manhattan|     Lenox Hill West|    107|Manhattan|            Gramercy|              4|    2.43|         1|  141|  107|           1| 9.5|  0.5|    0.5| 2.7| 0.0|      13.5|2017-01-01|00:00:06|2017-01-01|00:09:30|\n",
      "|     79|Manhattan|        East Village|    163|Manhattan|       Midtown North|              2|     2.6|         1|   79|  163|           1|12.5|  0.5|    0.5|2.76| 0.0|     16.56|2017-01-01|00:00:06|2017-01-01|00:16:05|\n",
      "|    148|Manhattan|     Lower East Side|     36| Brooklyn|      Bushwick North|              5|    4.25|         1|  148|   36|           2|16.5|  0.5|    0.5| 0.0| 0.0|      17.8|2017-01-01|00:00:06|2017-01-01|00:18:12|\n",
      "|     48|Manhattan|        Clinton East|     68|Manhattan|        East Chelsea|              1|    0.65|         1|   48|   68|           1| 6.5|  0.5|    0.5| 1.7| 0.0|       9.5|2017-01-01|00:00:07|2017-01-01|00:07:42|\n",
      "|    230|Manhattan|Times Sq/Theatre ...|    148|Manhattan|     Lower East Side|              1|    3.42|         1|  230|  148|           1|22.5|  0.5|    0.5| 0.0| 0.0|      23.8|2017-01-01|00:00:09|2017-01-01|00:34:21|\n",
      "|    186|Manhattan|Penn Station/Madi...|    232|Manhattan|Two Bridges/Sewar...|              1|     6.6|         1|  186|  232|           2|23.0|  0.5|    0.5| 0.0| 0.0|      24.3|2017-01-01|00:00:10|2017-01-01|00:24:52|\n",
      "+-------+---------+--------------------+-------+---------+--------------------+---------------+--------+----------+-----+-----+------------+----+-----+-------+----+----+----------+----------+--------+----------+--------+\n",
      "only showing top 20 rows\n",
      "\n"
     ]
    }
   ],
   "source": [
    "import pyspark.sql.functions\n",
    "\n",
    "split_col = pyspark.sql.functions.split(jan['tpep_pickup_datetime'], ' ')\n",
    "jan = jan.withColumn('PUDate', split_col.getItem(0))\n",
    "jan = jan.withColumn('PUTime', split_col.getItem(1))\n",
    "split_col = pyspark.sql.functions.split(jan['tpep_dropoff_datetime'], ' ')\n",
    "jan = jan.withColumn('DODate', split_col.getItem(0))\n",
    "jan = jan.withColumn('DOTime', split_col.getItem(1))\n",
    "\n",
    "jan = jan.drop('tpep_pickup_datetime','tpep_dropoff_datetime')\n",
    "\n",
    "df_joined = jan.join(loc,[jan.PULocationID==loc.LocationID],'left_outer')\n",
    "df_joined = df_joined.selectExpr(\"LocationID as PULocID\", \"Borough as PUBorough\", \"Zone as PUZone\", \"passenger_count as passenger_count\", \"trip_distance as distance\", \"RateCodeID as RateCodeID\", \"PULocationID as srcID\", \"DOLocationID as dstID\", \"payment_type as payment_type\", \"fare_amount as fare\", \"extra as extra\", \"mta_tax as mta_tax\", \"tip_amount as tip\", \"tolls_amount as toll\", \"total_amount as total_fare\", \"PUDate as PUDate\", \"PUTime as PUTime\", \"DODate as DODate\", \"DOTime as DOTime\")\n",
    "df_joined = df_joined.join(loc,[df_joined.dstID==loc.LocationID],'left_outer')\n",
    "df_joined = df_joined.selectExpr(\"PULocID as PULocID\", \"PUBorough as PUBorough\", \"PUZone as PUZone\", \"LocationID as DOLocID\", \"Borough as DOBorough\", \"Zone as DOZone\", \"passenger_count as passenger_count\", \"distance as distance\", \"RateCodeID as RateCodeID\", \"srcID as srcID\", \"dstID as dstID\", \"payment_type as payment_type\", \"fare as fare\", \"extra as extra\", \"mta_tax as mta_tax\", \"tip as tip\", \"toll as toll\", \"total_fare as total_fare\", \"PUDate as PUDate\", \"PUTime as PUTime\", \"DODate as DODate\", \"DOTime as DOTime\")\n",
    "df_joined.show()"
   ]
  },
  {
   "cell_type": "code",
   "execution_count": 4,
   "metadata": {},
   "outputs": [
    {
     "name": "stdout",
     "output_type": "stream",
     "text": [
      "+--------------------+--------------------+-----+-----+------------------+\n",
      "|                 src|                 dst|count|month|          avg_fare|\n",
      "+--------------------+--------------------+-----+-----+------------------+\n",
      "|Allerton/Pelham G...|        East Tremont|    1|    1|              11.8|\n",
      "|        Battery Park|         Fort Greene|   10|    1|20.003000000000004|\n",
      "|        Battery Park|     Windsor Terrace|    4|    1|            30.445|\n",
      "|   Battery Park City|        East Village| 1716|    1| 18.92319930069934|\n",
      "|        Bloomingdale|           Chinatown|    7|    1| 32.61714285714286|\n",
      "|        Bloomingdale|     Mariners Harbor|    1|    1|             85.42|\n",
      "|           Bronxdale|         Eastchester|    1|    1|               9.3|\n",
      "|  Brooklyn Navy Yard|          Kensington|    1|    1|              18.3|\n",
      "|      Bushwick North|    Hamilton Heights|    4|    1|           53.8475|\n",
      "|      Bushwick South|Long Island City/...|    5|    1|            22.432|\n",
      "|     Carroll Gardens|Upper West Side S...|    9|    1| 38.09444444444445|\n",
      "|      Central Harlem|         Brownsville|    2|    1|            68.005|\n",
      "|Central Harlem North|   Crotona Park East|   18|    1|22.465000000000003|\n",
      "|Central Harlem North|        Far Rockaway|    1|    1|             72.84|\n",
      "|Central Harlem North|           Flatlands|    1|    1|             88.34|\n",
      "|Central Harlem North|              Inwood|   68|    1|18.413676470588236|\n",
      "|        Central Park|Briarwood/Jamaica...|    2|    1|             50.82|\n",
      "|        Clinton Hill|  Brooklyn Navy Yard|   17|    1| 7.828235294117646|\n",
      "|        Clinton Hill|      Central Harlem|    2|    1|             50.84|\n",
      "|        Clinton West|             Madison|    6|    1|52.306666666666665|\n",
      "+--------------------+--------------------+-----+-----+------------------+\n",
      "only showing top 20 rows\n",
      "\n"
     ]
    }
   ],
   "source": [
    "byTotalFare = df_joined.groupBy('PUZone', 'DOZone').avg('total_fare')\n",
    "byDistance = df_joined.groupBy('PUZone', 'DOZone').max('distance')\n",
    "\n",
    "from pyspark.sql.functions import lit\n",
    "df_joined = df_joined.withColumn(\"month\",lit(1))\n",
    "\n",
    "Graph = df_joined.select('PUZone', 'DOZone', 'month')\n",
    "Graph = Graph.groupBy('PUZone', 'DOZone').count()\n",
    "Graph = Graph.withColumn(\"month\",lit(1))\n",
    "Graph = Graph.selectExpr(\"PUZone as src\", \"DOZone as dst\", \"count as count\", \"month as month\")\n",
    "\n",
    "byTotalFare = df_joined.groupBy('PUZone', 'DOZone').avg('total_fare')\n",
    "Graph = Graph.join(byTotalFare,[Graph.src==byTotalFare.PUZone, Graph.dst==byTotalFare.DOZone],'left_outer')\n",
    "Graph = Graph.drop('PUZone', 'DOZone')\n",
    "Graph = Graph.withColumnRenamed(\"avg(total_fare)\", \"avg_fare\")\n",
    "Graph.show()"
   ]
  },
  {
   "cell_type": "code",
   "execution_count": 5,
   "metadata": {},
   "outputs": [
    {
     "name": "stdout",
     "output_type": "stream",
     "text": [
      "+--------------------+--------------------+------------+-----+\n",
      "|              PUZone|              DOZone|max_distance|month|\n",
      "+--------------------+--------------------+------------+-----+\n",
      "|Springfield Garde...|                  NA|      264.71|    1|\n",
      "|          Ocean Hill|Two Bridges/Sewar...|       180.7|    1|\n",
      "|         JFK Airport| UN/Turtle Bay South|       173.2|    1|\n",
      "|     Mariners Harbor|                  NA|      156.17|    1|\n",
      "|        Clinton East|                  NA|       151.7|    1|\n",
      "|Flushing Meadows-...|                  NA|      143.45|    1|\n",
      "|                  NA|                  NA|       143.4|    1|\n",
      "|         JFK Airport|                  NA|       143.4|    1|\n",
      "|       Richmond Hill|                  NA|       141.8|    1|\n",
      "|         JFK Airport|                  NA|      139.17|    1|\n",
      "+--------------------+--------------------+------------+-----+\n",
      "\n"
     ]
    }
   ],
   "source": [
    "\n",
    "########## max distance\n",
    "max_dist = df_joined.orderBy('distance', ascending=False)\n",
    "max_dist = max_dist.limit(10)\n",
    "max_dist = max_dist.withColumnRenamed(\"distance\", \"max_distance\")\n",
    "max_dist = max_dist.select('PUZone', 'DOZone', 'max_distance', 'month')\n",
    "max_dist.show()"
   ]
  },
  {
   "cell_type": "code",
   "execution_count": 6,
   "metadata": {},
   "outputs": [
    {
     "name": "stdout",
     "output_type": "stream",
     "text": [
      "+--------------------+--------------------+--------+-----+\n",
      "|              PUZone|              DOZone|max_fare|month|\n",
      "+--------------------+--------------------+--------+-----+\n",
      "|Upper West Side S...|                  NV|625901.6|    1|\n",
      "|Two Bridges/Sewar...|Washington Height...|538580.0|    1|\n",
      "|Upper East Side S...|     Lenox Hill West|  9001.3|    1|\n",
      "|                  NV|                  NV| 8043.84|    1|\n",
      "|       Midtown North|Times Sq/Theatre ...|  3009.8|    1|\n",
      "|                  NV|                  NV|  3009.3|    1|\n",
      "|           Sunnyside|           Sunnyside| 2000.28|    1|\n",
      "|           Sunnyside|           Sunnyside| 2000.28|    1|\n",
      "|           Sunnyside|           Sunnyside| 2000.28|    1|\n",
      "|           Sunnyside|           Sunnyside| 1000.29|    1|\n",
      "+--------------------+--------------------+--------+-----+\n",
      "\n"
     ]
    }
   ],
   "source": [
    "\n",
    "######max fare\n",
    "max_fare = df_joined.orderBy('total_fare', ascending=False)\n",
    "max_fare = max_fare.limit(10)\n",
    "max_fare = max_fare.withColumnRenamed(\"total_fare\", \"max_fare\")\n",
    "max_fare = max_fare.select('PUZone', 'DOZone', 'max_fare', 'month')\n",
    "max_fare.show()"
   ]
  },
  {
   "cell_type": "code",
   "execution_count": 7,
   "metadata": {},
   "outputs": [
    {
     "name": "stdout",
     "output_type": "stream",
     "text": [
      "+-------+---------+--------------------+-------+---------+-----------------+---------------+--------+----------+-----+-----+------------+----+-----+-------+----+----+----------+----------+--------+----------+--------+-----+--------+-------+\n",
      "|PULocID|PUBorough|              PUZone|DOLocID|DOBorough|           DOZone|passenger_count|distance|RateCodeID|srcID|dstID|payment_type|fare|extra|mta_tax| tip|toll|total_fare|    PUDate|  PUTime|    DODate|  DOTime|month|  PUHour|PUClock|\n",
      "+-------+---------+--------------------+-------+---------+-----------------+---------------+--------+----------+-----+-----+------------+----+-----+-------+----+----+----------+----------+--------+----------+--------+-----+--------+-------+\n",
      "|    263|Manhattan|      Yorkville West|    161|Manhattan|   Midtown Center|              1|     3.3|         1|  263|  161|           1|12.5|  0.0|    0.5| 2.0| 0.0|      15.3|2017-01-09|11:13:28|2017-01-09|11:25:45|    1| morning|     11|\n",
      "|    186|Manhattan|Penn Station/Madi...|    234|Manhattan|         Union Sq|              1|     0.9|         1|  186|  234|           1| 5.0|  0.0|    0.5|1.45| 0.0|      7.25|2017-01-09|11:32:27|2017-01-09|11:36:01|    1| morning|     11|\n",
      "|    164|Manhattan|       Midtown South|    161|Manhattan|   Midtown Center|              1|     1.1|         1|  164|  161|           1| 5.5|  0.0|    0.5| 1.0| 0.0|       7.3|2017-01-09|11:38:20|2017-01-09|11:42:05|    1| morning|     11|\n",
      "|    236|Manhattan|Upper East Side N...|     75|Manhattan|East Harlem South|              1|     1.1|         1|  236|   75|           1| 6.0|  0.0|    0.5| 1.7| 0.0|       8.5|2017-01-09|11:52:13|2017-01-09|11:57:36|    1| morning|     11|\n",
      "|    249|Manhattan|        West Village|    234|Manhattan|         Union Sq|              1|    0.02|         2|  249|  234|           2|52.0|  0.0|    0.5| 0.0| 0.0|      52.8|2017-01-01|00:00:00|2017-01-01|00:00:00|    1|midnight|     00|\n",
      "|     48|Manhattan|        Clinton East|     48|Manhattan|     Clinton East|              1|     0.5|         1|   48|   48|           2| 4.0|  0.5|    0.5| 0.0| 0.0|       5.3|2017-01-01|00:00:02|2017-01-01|00:03:50|    1|midnight|     00|\n",
      "|    186|Manhattan|Penn Station/Madi...|     36| Brooklyn|   Bushwick North|              4|    7.75|         1|  186|   36|           1|22.0|  0.5|    0.5|4.66| 0.0|     27.96|2017-01-01|00:00:02|2017-01-01|00:39:22|    1|midnight|     00|\n",
      "|    162|Manhattan|        Midtown East|    161|Manhattan|   Midtown Center|              1|     0.8|         1|  162|  161|           1| 6.0|  0.5|    0.5|1.45| 0.0|      8.75|2017-01-01|00:00:03|2017-01-01|00:06:58|    1|midnight|     00|\n",
      "|     48|Manhattan|        Clinton East|     50|Manhattan|     Clinton West|              2|     0.9|         1|   48|   50|           1| 7.0|  0.5|    0.5| 0.0| 0.0|       8.3|2017-01-01|00:00:05|2017-01-01|00:08:33|    1|midnight|     00|\n",
      "|    140|Manhattan|     Lenox Hill East|     74|Manhattan|East Harlem North|              5|    1.76|         1|  140|   74|           2| 7.0|  0.5|    0.5| 0.0| 0.0|       8.3|2017-01-01|00:00:05|2017-01-01|00:05:04|    1|midnight|     00|\n",
      "+-------+---------+--------------------+-------+---------+-----------------+---------------+--------+----------+-----+-----+------------+----+-----+-------+----+----+----------+----------+--------+----------+--------+-----+--------+-------+\n",
      "only showing top 10 rows\n",
      "\n"
     ]
    }
   ],
   "source": [
    "#### manipulate time\n",
    "split_col = pyspark.sql.functions.split(df_joined['PUTime'], ':')\n",
    "df_joined = df_joined.withColumn('PUHour', split_col.getItem(0))\n",
    "df_joined = df_joined.withColumn('PUClock', split_col.getItem(0))\n",
    "\n",
    "from pyspark.sql.functions import when\n",
    "\n",
    "df_joined = df_joined.withColumn(\"PUHour\", when((df_joined[\"PUHour\"] >=0) & (df_joined[\"PUHour\"] <6), 'midnight').otherwise(df_joined[\"PUHour\"]))\n",
    "df_joined = df_joined.withColumn(\"PUHour\", when((df_joined[\"PUHour\"] >=6) & (df_joined[\"PUHour\"] <12), 'morning').otherwise(df_joined[\"PUHour\"]))\n",
    "df_joined = df_joined.withColumn(\"PUHour\", when((df_joined[\"PUHour\"] >=12) & (df_joined[\"PUHour\"] <18), 'afternoon').otherwise(df_joined[\"PUHour\"]))\n",
    "df_joined = df_joined.withColumn(\"PUHour\", when((df_joined[\"PUHour\"] >=18) & (df_joined[\"PUHour\"] <=23), 'evening').otherwise(df_joined[\"PUHour\"]))\n",
    "\n",
    "df_joined.show(10)"
   ]
  },
  {
   "cell_type": "code",
   "execution_count": 8,
   "metadata": {},
   "outputs": [
    {
     "name": "stdout",
     "output_type": "stream",
     "text": [
      "+---------+--------------------+-----+------+\n",
      "|   PUHour|              PUZone|month| count|\n",
      "+---------+--------------------+-----+------+\n",
      "|afternoon|Upper East Side S...|    1|157826|\n",
      "|afternoon|Upper East Side N...|    1|151358|\n",
      "|  evening|Times Sq/Theatre ...|    1|136867|\n",
      "|  evening|      Midtown Center|    1|136487|\n",
      "|afternoon|      Midtown Center|    1|134284|\n",
      "|  evening|            Union Sq|    1|129806|\n",
      "|  evening|        Midtown East|    1|123194|\n",
      "|  morning|Upper East Side N...|    1|115309|\n",
      "|afternoon|        Midtown East|    1|110824|\n",
      "|  evening|        East Village|    1|110726|\n",
      "+---------+--------------------+-----+------+\n",
      "only showing top 10 rows\n",
      "\n"
     ]
    }
   ],
   "source": [
    "###### by time\n",
    "PUByTime = df_joined.groupBy('PUHour', 'PUZone', 'month').count()\n",
    "PUByTime = PUByTime.orderBy('count', ascending=False)\n",
    "PUByTime.show(10)"
   ]
  },
  {
   "cell_type": "code",
   "execution_count": 9,
   "metadata": {},
   "outputs": [
    {
     "name": "stdout",
     "output_type": "stream",
     "text": [
      "+--------------------+-----+------+\n",
      "|              PUZone|month| count|\n",
      "+--------------------+-----+------+\n",
      "|Upper East Side S...|    1|380663|\n",
      "|Upper East Side N...|    1|363649|\n",
      "|      Midtown Center|    1|360995|\n",
      "|Penn Station/Madi...|    1|339970|\n",
      "|Times Sq/Theatre ...|    1|334079|\n",
      "|            Union Sq|    1|333035|\n",
      "|        Midtown East|    1|330946|\n",
      "|         Murray Hill|    1|306244|\n",
      "|        East Village|    1|303580|\n",
      "|        Clinton East|    1|297414|\n",
      "+--------------------+-----+------+\n",
      "only showing top 10 rows\n",
      "\n"
     ]
    }
   ],
   "source": [
    "####### best PU locs\n",
    "best_locs = df_joined.groupBy('PUZone', 'month').count()\n",
    "best_locs = best_locs.orderBy('count', ascending=False)\n",
    "best_locs.show(10)"
   ]
  },
  {
   "cell_type": "code",
   "execution_count": 10,
   "metadata": {},
   "outputs": [
    {
     "name": "stdout",
     "output_type": "stream",
     "text": [
      "258\n",
      "261\n",
      "519\n",
      "261\n",
      "+--------------------+\n",
      "|                Zone|\n",
      "+--------------------+\n",
      "|           Homecrest|\n",
      "|Governor's Island...|\n",
      "|              Corona|\n",
      "|    Bensonhurst West|\n",
      "|         Westerleigh|\n",
      "|      Newark Airport|\n",
      "|          Douglaston|\n",
      "|Charleston/Totten...|\n",
      "|          Mount Hope|\n",
      "|      Pelham Parkway|\n",
      "|East Concourse/Co...|\n",
      "|         Marble Hill|\n",
      "|           Rego Park|\n",
      "|Upper East Side S...|\n",
      "|       Dyker Heights|\n",
      "|Heartland Village...|\n",
      "|   Kew Gardens Hills|\n",
      "|     Jackson Heights|\n",
      "|             Bayside|\n",
      "|TriBeCa/Civic Center|\n",
      "+--------------------+\n",
      "only showing top 20 rows\n",
      "\n"
     ]
    }
   ],
   "source": [
    "vertexP = df_joined.select(\"PUZone\").distinct()\n",
    "vertexP = vertexP.selectExpr(\"PUZone as Zone\")\n",
    "print(vertexP.count())\n",
    "vertexD = df_joined.select(\"DOZone\").distinct()\n",
    "vertexD = vertexD.selectExpr(\"DOZone as Zone\")\n",
    "print(vertexD.count())\n",
    "if vertexD.count() > vertexP.count():\n",
    "  vertex = vertexD.unionAll(vertexP)\n",
    "else : vertex = vertexP.unionAll(vertexD)\n",
    "print(vertex.count())\n",
    "vertex = vertex.select(\"Zone\").distinct()\n",
    "print(vertex.count())\n",
    "vertex.toPandas().to_csv('Zones.csv', index=False)\n",
    "vertex.show()"
   ]
  },
  {
   "cell_type": "code",
   "execution_count": 11,
   "metadata": {},
   "outputs": [
    {
     "name": "stdout",
     "output_type": "stream",
     "text": [
      "+--------------------+--------------------+------+\n",
      "|                 src|                 dst|weight|\n",
      "+--------------------+--------------------+------+\n",
      "|        Midtown East|Meatpacking/West ...|  1918|\n",
      "|           Sunnyside|         Old Astoria|   246|\n",
      "|            Gramercy|            Flatiron|  7191|\n",
      "|        East Village|         JFK Airport|  1107|\n",
      "|     Jackson Heights|        Clinton East|    23|\n",
      "|   East Harlem North|            Union Sq|   159|\n",
      "| UN/Turtle Bay South|          Park Slope|   300|\n",
      "|        East Village|              Corona|    56|\n",
      "|Times Sq/Theatre ...|Long Island City/...|   905|\n",
      "|       Midtown North|            Flatiron|  2685|\n",
      "|TriBeCa/Civic Center|     Lenox Hill East|   983|\n",
      "|            Union Sq|Financial Distric...|  2575|\n",
      "|Sutton Place/Turt...|             Maspeth|    78|\n",
      "|Upper West Side S...|    Garment District|  1562|\n",
      "|         Old Astoria|Times Sq/Theatre ...|    51|\n",
      "|   Battery Park City|        East Village|  1716|\n",
      "|Central Harlem North|              Inwood|    68|\n",
      "|    Garment District|            Gramercy|  3520|\n",
      "|      Middle Village|      Middle Village|    30|\n",
      "| Lincoln Square West|Meatpacking/West ...|   424|\n",
      "+--------------------+--------------------+------+\n",
      "only showing top 20 rows\n",
      "\n"
     ]
    }
   ],
   "source": [
    "edge = df_joined.groupBy('PUZone', 'DOZone').count()\n",
    "edge = edge.selectExpr(\"PUZone as src\", \"DOZone as dst\", \"count as weight\")\n",
    "edge.toPandas().to_csv('Edges_jan.csv', index=False)\n",
    "edge.show()"
   ]
  },
  {
   "cell_type": "code",
   "execution_count": 12,
   "metadata": {},
   "outputs": [],
   "source": [
    "#####################################################  \n",
    "### Feb\n",
    "\n",
    "jan = spark.read.csv('../bigdata/yellow_tripdata_2017-02.csv', header=True, inferSchema = True)\n",
    "jan = jan.drop('VendorID','store_and_fwd_flag' ,'improvement_surcharge')\n",
    "\n",
    "import pyspark.sql.functions\n",
    "\n",
    "split_col = pyspark.sql.functions.split(jan['tpep_pickup_datetime'], ' ')\n",
    "jan = jan.withColumn('PUDate', split_col.getItem(0))\n",
    "jan = jan.withColumn('PUTime', split_col.getItem(1))\n",
    "split_col = pyspark.sql.functions.split(jan['tpep_dropoff_datetime'], ' ')\n",
    "jan = jan.withColumn('DODate', split_col.getItem(0))\n",
    "jan = jan.withColumn('DOTime', split_col.getItem(1))\n",
    "\n",
    "jan = jan.drop('tpep_pickup_datetime','tpep_dropoff_datetime')\n"
   ]
  },
  {
   "cell_type": "code",
   "execution_count": 13,
   "metadata": {},
   "outputs": [
    {
     "name": "stdout",
     "output_type": "stream",
     "text": [
      "+-------+---------+--------------------+-------+---------+--------------------+---------------+--------+----------+-----+-----+------------+----+-----+-------+----+----+----------+----------+--------+----------+--------+\n",
      "|PULocID|PUBorough|              PUZone|DOLocID|DOBorough|              DOZone|passenger_count|distance|RateCodeID|srcID|dstID|payment_type|fare|extra|mta_tax| tip|toll|total_fare|    PUDate|  PUTime|    DODate|  DOTime|\n",
      "+-------+---------+--------------------+-------+---------+--------------------+---------------+--------+----------+-----+-----+------------+----+-----+-------+----+----+----------+----------+--------+----------+--------+\n",
      "|     87|Manhattan|Financial Distric...|    246|Manhattan|West Chelsea/Huds...|              1|    3.29|         1|   87|  246|           1|14.0|  0.0|    0.5| 1.5| 0.0|      16.3|2017-02-03|02:03:50|2017-02-03|02:20:55|\n",
      "|     68|Manhattan|        East Chelsea|    239|Manhattan|Upper West Side S...|              1|     2.8|         1|   68|  239|           2|15.0|  0.0|    0.5| 0.0| 0.0|      15.8|2017-02-03|02:26:04|2017-02-03|02:46:47|\n",
      "|    239|Manhattan|Upper West Side S...|     43|Manhattan|        Central Park|              1|     0.9|         1|  239|   43|           1| 6.0|  0.0|    0.5|1.36| 0.0|      8.16|2017-02-03|02:49:51|2017-02-03|09:56:17|\n",
      "|    163|Manhattan|       Midtown North|    230|Manhattan|Times Sq/Theatre ...|              1|    0.72|         1|  163|  230|           1| 8.0|  0.0|    0.5|1.76| 0.0|     10.56|2017-02-03|04:41:54|2017-02-03|04:52:41|\n",
      "|    186|Manhattan|Penn Station/Madi...|    230|Manhattan|Times Sq/Theatre ...|              1|     1.1|         1|  186|  230|           1|11.0|  0.0|    0.5|3.54| 0.0|     15.34|2017-02-03|04:57:38|2017-02-03|12:16:14|\n",
      "|    141|Manhattan|     Lenox Hill West|    162|Manhattan|        Midtown East|              1|    0.93|         1|  141|  162|           2| 9.0|  0.0|    0.5| 0.0| 0.0|       9.8|2017-02-21|14:50:07|2017-02-21|15:03:08|\n",
      "|    234|Manhattan|            Union Sq|     68|Manhattan|        East Chelsea|              6|    0.84|         1|  234|   68|           1| 5.0|  0.5|    0.5|0.88| 0.0|      7.18|2017-02-21|23:23:09|2017-02-21|23:26:18|\n",
      "|    249|Manhattan|        West Village|    161|Manhattan|      Midtown Center|              6|    2.01|         1|  249|  161|           1|10.0|  0.5|    0.5|2.82| 0.0|     14.12|2017-02-21|23:28:20|2017-02-21|23:39:56|\n",
      "|    144|Manhattan| Little Italy/NoLiTa|     87|Manhattan|Financial Distric...|              6|    1.52|         1|  144|   87|           1| 7.0|  0.5|    0.5|2.08| 0.0|     10.38|2017-02-21|23:55:03|2017-02-22|00:01:38|\n",
      "|    230|Manhattan|Times Sq/Theatre ...|     68|Manhattan|        East Chelsea|              1|    1.01|         1|  230|   68|           1| 8.0|  0.0|    0.5|2.64| 0.0|     11.44|2017-02-24|12:17:57|2017-02-24|12:28:02|\n",
      "|     68|Manhattan|        East Chelsea|     68|Manhattan|        East Chelsea|              1|    0.72|         1|   68|   68|           1| 4.5|  0.0|    0.5|1.59| 0.0|      6.89|2017-02-24|12:29:32|2017-02-24|12:33:03|\n",
      "|    231|Manhattan|TriBeCa/Civic Center|    113|Manhattan|Greenwich Village...|              1|     1.6|         1|  231|  113|           1| 9.0|  0.0|    0.5|1.96| 0.0|     11.76|2017-02-24|12:47:50|2017-02-24|12:59:48|\n",
      "|    113|Manhattan|Greenwich Village...|    239|Manhattan|Upper West Side S...|              1|    4.31|         1|  113|  239|           1|34.5|  0.0|    0.5| 3.0| 0.0|      38.3|2017-02-24|13:03:57|2017-02-24|22:04:42|\n",
      "|    138|   Queens|   LaGuardia Airport|    162|Manhattan|        Midtown East|              1|    10.3|         1|  138|  162|           2|30.5|  0.5|    0.5| 0.0|5.54|     37.34|2017-02-01|00:00:00|2017-02-01|00:20:43|\n",
      "|    132|   Queens|         JFK Airport|    123| Brooklyn|           Homecrest|              1|   16.05|         1|  132|  123|           2|44.0|  0.5|    0.5| 0.0| 0.0|      45.3|2017-02-01|00:00:00|2017-02-01|00:24:23|\n",
      "|    148|Manhattan|     Lower East Side|     68|Manhattan|        East Chelsea|              1|     2.4|         1|  148|   68|           1|12.0|  0.5|    0.5| 3.0| 0.0|      16.3|2017-02-01|00:00:01|2017-02-01|00:14:45|\n",
      "|    137|Manhattan|            Kips Bay|    213|    Bronx|Soundview/Castle ...|              1|    10.4|         1|  137|  213|           1|30.5|  0.5|    0.5|6.35| 0.0|     38.15|2017-02-01|00:00:01|2017-02-01|00:21:12|\n",
      "|    170|Manhattan|         Murray Hill|    170|Manhattan|         Murray Hill|              4|    0.76|         1|  170|  170|           1| 5.5|  0.5|    0.5|1.36| 0.0|      8.16|2017-02-01|00:00:01|2017-02-01|00:05:29|\n",
      "|    230|Manhattan|Times Sq/Theatre ...|     79|Manhattan|        East Village|              2|     2.8|         1|  230|   79|           1|10.5|  0.5|    0.5|2.36| 0.0|     14.16|2017-02-01|00:00:02|2017-02-01|00:10:45|\n",
      "|    142|Manhattan| Lincoln Square East|    246|Manhattan|West Chelsea/Huds...|              1|    2.48|         1|  142|  246|           2| 9.5|  0.5|    0.5| 0.0| 0.0|      10.8|2017-02-01|00:00:03|2017-02-01|00:07:27|\n",
      "+-------+---------+--------------------+-------+---------+--------------------+---------------+--------+----------+-----+-----+------------+----+-----+-------+----+----+----------+----------+--------+----------+--------+\n",
      "only showing top 20 rows\n",
      "\n"
     ]
    }
   ],
   "source": [
    "df_joined = jan.join(loc,[jan.PULocationID==loc.LocationID],'left_outer')\n",
    "df_joined = df_joined.selectExpr(\"LocationID as PULocID\", \"Borough as PUBorough\", \"Zone as PUZone\", \"passenger_count as passenger_count\", \"trip_distance as distance\", \"RateCodeID as RateCodeID\", \"PULocationID as srcID\", \"DOLocationID as dstID\", \"payment_type as payment_type\", \"fare_amount as fare\", \"extra as extra\", \"mta_tax as mta_tax\", \"tip_amount as tip\", \"tolls_amount as toll\", \"total_amount as total_fare\", \"PUDate as PUDate\", \"PUTime as PUTime\", \"DODate as DODate\", \"DOTime as DOTime\")\n",
    "df_joined = df_joined.join(loc,[df_joined.dstID==loc.LocationID],'left_outer')\n",
    "df_joined = df_joined.selectExpr(\"PULocID as PULocID\", \"PUBorough as PUBorough\", \"PUZone as PUZone\", \"LocationID as DOLocID\", \"Borough as DOBorough\", \"Zone as DOZone\", \"passenger_count as passenger_count\", \"distance as distance\", \"RateCodeID as RateCodeID\", \"srcID as srcID\", \"dstID as dstID\", \"payment_type as payment_type\", \"fare as fare\", \"extra as extra\", \"mta_tax as mta_tax\", \"tip as tip\", \"toll as toll\", \"total_fare as total_fare\", \"PUDate as PUDate\", \"PUTime as PUTime\", \"DODate as DODate\", \"DOTime as DOTime\")\n",
    "df_joined.show()"
   ]
  },
  {
   "cell_type": "code",
   "execution_count": 14,
   "metadata": {},
   "outputs": [
    {
     "name": "stdout",
     "output_type": "stream",
     "text": [
      "+--------------------+--------------------+-----+-----+------------------+\n",
      "|                 src|                 dst|count|month|          avg_fare|\n",
      "+--------------------+--------------------+-----+-----+------------------+\n",
      "|Allerton/Pelham G...|        East Tremont|    1|    1|              11.8|\n",
      "|        Battery Park|         Fort Greene|   10|    1|20.003000000000004|\n",
      "|        Battery Park|     Windsor Terrace|    4|    1|            30.445|\n",
      "|   Battery Park City|        East Village| 1716|    1| 18.92319930069934|\n",
      "|        Bloomingdale|           Chinatown|    7|    1| 32.61714285714286|\n",
      "|        Bloomingdale|     Mariners Harbor|    1|    1|             85.42|\n",
      "|           Bronxdale|         Eastchester|    1|    1|               9.3|\n",
      "|  Brooklyn Navy Yard|          Kensington|    1|    1|              18.3|\n",
      "|      Bushwick North|    Hamilton Heights|    4|    1|           53.8475|\n",
      "|      Bushwick South|Long Island City/...|    5|    1|            22.432|\n",
      "|     Carroll Gardens|Upper West Side S...|    9|    1| 38.09444444444445|\n",
      "|      Central Harlem|         Brownsville|    2|    1|            68.005|\n",
      "|Central Harlem North|   Crotona Park East|   18|    1|22.465000000000003|\n",
      "|Central Harlem North|        Far Rockaway|    1|    1|             72.84|\n",
      "|Central Harlem North|           Flatlands|    1|    1|             88.34|\n",
      "|Central Harlem North|              Inwood|   68|    1|18.413676470588236|\n",
      "|        Central Park|Briarwood/Jamaica...|    2|    1|             50.82|\n",
      "|        Clinton Hill|  Brooklyn Navy Yard|   17|    1| 7.828235294117646|\n",
      "|        Clinton Hill|      Central Harlem|    2|    1|             50.84|\n",
      "|        Clinton West|             Madison|    6|    1|52.306666666666665|\n",
      "+--------------------+--------------------+-----+-----+------------------+\n",
      "only showing top 20 rows\n",
      "\n"
     ]
    }
   ],
   "source": [
    "byTotalFare = df_joined.groupBy('PUZone', 'DOZone').avg('total_fare')\n",
    "byDistance = df_joined.groupBy('PUZone', 'DOZone').max('distance')\n",
    "\n",
    "from pyspark.sql.functions import lit\n",
    "df_joined = df_joined.withColumn(\"month\",lit(2))\n",
    "\n",
    "Grapht = df_joined.select('PUZone', 'DOZone', 'month')\n",
    "Grapht = Grapht.groupBy('PUZone', 'DOZone').count()\n",
    "Grapht = Grapht.withColumn(\"month\",lit(2))\n",
    "Grapht = Grapht.selectExpr(\"PUZone as src\", \"DOZone as dst\", \"count as count\", \"month as month\")\n",
    "\n",
    "byTotalFare = df_joined.groupBy('PUZone', 'DOZone').avg('total_fare')\n",
    "Grapht = Grapht.join(byTotalFare,[Grapht.src==byTotalFare.PUZone, Grapht.dst==byTotalFare.DOZone],'left_outer')\n",
    "Grapht = Grapht.drop('PUZone', 'DOZone')\n",
    "Grapht = Grapht.withColumnRenamed(\"avg(total_fare)\", \"avg_fare\")\n",
    "Graph = Graph.union(Grapht)\n",
    "Graph.show()"
   ]
  },
  {
   "cell_type": "code",
   "execution_count": 15,
   "metadata": {},
   "outputs": [
    {
     "name": "stdout",
     "output_type": "stream",
     "text": [
      "+--------------------+--------------------+------------+-----+\n",
      "|              PUZone|              DOZone|max_distance|month|\n",
      "+--------------------+--------------------+------------+-----+\n",
      "|Springfield Garde...|                  NA|      264.71|    1|\n",
      "|          Ocean Hill|Two Bridges/Sewar...|       180.7|    1|\n",
      "|         JFK Airport| UN/Turtle Bay South|       173.2|    1|\n",
      "|     Mariners Harbor|                  NA|      156.17|    1|\n",
      "|        Clinton East|                  NA|       151.7|    1|\n",
      "|Flushing Meadows-...|                  NA|      143.45|    1|\n",
      "|                  NA|                  NA|       143.4|    1|\n",
      "|         JFK Airport|                  NA|       143.4|    1|\n",
      "|       Richmond Hill|                  NA|       141.8|    1|\n",
      "|         JFK Airport|                  NA|      139.17|    1|\n",
      "|Prospect-Lefferts...|        Clinton Hill|       324.0|    2|\n",
      "|           Bay Ridge|                  NA|      298.47|    2|\n",
      "|             Bedford|             Bedford|       282.0|    2|\n",
      "|            Gramercy|                  NA|       221.7|    2|\n",
      "|    Garment District|                  NA|      196.73|    2|\n",
      "|      Sheepshead Bay|             Bedford|       190.2|    2|\n",
      "|Mott Haven/Port M...|                  NA|       182.3|    2|\n",
      "| Little Italy/NoLiTa|                  NA|       142.3|    2|\n",
      "| Little Italy/NoLiTa| Little Italy/NoLiTa|       138.4|    2|\n",
      "|         JFK Airport|  World Trade Center|      132.58|    2|\n",
      "+--------------------+--------------------+------------+-----+\n",
      "\n"
     ]
    }
   ],
   "source": [
    "########## max distance\n",
    "max_distt = df_joined.orderBy('distance', ascending=False)\n",
    "max_distt = max_distt.limit(10)\n",
    "max_distt = max_distt.withColumnRenamed(\"distance\", \"max_distance\")\n",
    "max_distt = max_distt.select('PUZone', 'DOZone', 'max_distance', 'month')\n",
    "max_dist = max_dist.union(max_distt)\n",
    "max_dist.show()"
   ]
  },
  {
   "cell_type": "code",
   "execution_count": 16,
   "metadata": {},
   "outputs": [
    {
     "name": "stdout",
     "output_type": "stream",
     "text": [
      "+--------------------+--------------------+---------+-----+\n",
      "|              PUZone|              DOZone| max_fare|month|\n",
      "+--------------------+--------------------+---------+-----+\n",
      "|Upper West Side S...|                  NV| 625901.6|    1|\n",
      "|Two Bridges/Sewar...|Washington Height...| 538580.0|    1|\n",
      "|Upper East Side S...|     Lenox Hill West|   9001.3|    1|\n",
      "|                  NV|                  NV|  8043.84|    1|\n",
      "|       Midtown North|Times Sq/Theatre ...|   3009.8|    1|\n",
      "|                  NV|                  NV|   3009.3|    1|\n",
      "|           Sunnyside|           Sunnyside|  2000.28|    1|\n",
      "|           Sunnyside|           Sunnyside|  2000.28|    1|\n",
      "|           Sunnyside|           Sunnyside|  2000.28|    1|\n",
      "|           Sunnyside|           Sunnyside|  1000.29|    1|\n",
      "|            Union Sq|      Midtown Center|361772.02|    2|\n",
      "|Upper East Side N...|Upper West Side S...|335545.21|    2|\n",
      "|Upper West Side N...|      Midtown Center|171856.99|    2|\n",
      "|Upper East Side N...|            Gramercy|   8018.6|    2|\n",
      "|                  NV|                  NV|   8009.3|    2|\n",
      "|                  NV|                  NV|   8005.8|    2|\n",
      "|Upper West Side N...| Lincoln Square West|  7003.51|    2|\n",
      "|            Gramercy|            Kips Bay|   6722.4|    2|\n",
      "|                  NV|                  NV|  5447.82|    2|\n",
      "|             Bedford|             Bedford|  1206.24|    2|\n",
      "+--------------------+--------------------+---------+-----+\n",
      "\n"
     ]
    }
   ],
   "source": [
    "######max fare\n",
    "max_faret = df_joined.orderBy('total_fare', ascending=False)\n",
    "max_faret = max_faret.limit(10)\n",
    "max_faret = max_faret.withColumnRenamed(\"total_fare\", \"max_fare\")\n",
    "max_faret = max_faret.select('PUZone', 'DOZone', 'max_fare', 'month')\n",
    "max_fare = max_fare.union(max_faret)\n",
    "max_fare.show()"
   ]
  },
  {
   "cell_type": "code",
   "execution_count": 17,
   "metadata": {},
   "outputs": [
    {
     "name": "stdout",
     "output_type": "stream",
     "text": [
      "+-------+---------+--------------------+-------+---------+--------------------+---------------+--------+----------+-----+-----+------------+----+-----+-------+----+----+----------+----------+--------+----------+--------+-----+---------+\n",
      "|PULocID|PUBorough|              PUZone|DOLocID|DOBorough|              DOZone|passenger_count|distance|RateCodeID|srcID|dstID|payment_type|fare|extra|mta_tax| tip|toll|total_fare|    PUDate|  PUTime|    DODate|  DOTime|month|   PUHour|\n",
      "+-------+---------+--------------------+-------+---------+--------------------+---------------+--------+----------+-----+-----+------------+----+-----+-------+----+----+----------+----------+--------+----------+--------+-----+---------+\n",
      "|     87|Manhattan|Financial Distric...|    246|Manhattan|West Chelsea/Huds...|              1|    3.29|         1|   87|  246|           1|14.0|  0.0|    0.5| 1.5| 0.0|      16.3|2017-02-03|02:03:50|2017-02-03|02:20:55|    2| midnight|\n",
      "|     68|Manhattan|        East Chelsea|    239|Manhattan|Upper West Side S...|              1|     2.8|         1|   68|  239|           2|15.0|  0.0|    0.5| 0.0| 0.0|      15.8|2017-02-03|02:26:04|2017-02-03|02:46:47|    2| midnight|\n",
      "|    239|Manhattan|Upper West Side S...|     43|Manhattan|        Central Park|              1|     0.9|         1|  239|   43|           1| 6.0|  0.0|    0.5|1.36| 0.0|      8.16|2017-02-03|02:49:51|2017-02-03|09:56:17|    2| midnight|\n",
      "|    163|Manhattan|       Midtown North|    230|Manhattan|Times Sq/Theatre ...|              1|    0.72|         1|  163|  230|           1| 8.0|  0.0|    0.5|1.76| 0.0|     10.56|2017-02-03|04:41:54|2017-02-03|04:52:41|    2| midnight|\n",
      "|    186|Manhattan|Penn Station/Madi...|    230|Manhattan|Times Sq/Theatre ...|              1|     1.1|         1|  186|  230|           1|11.0|  0.0|    0.5|3.54| 0.0|     15.34|2017-02-03|04:57:38|2017-02-03|12:16:14|    2| midnight|\n",
      "|    141|Manhattan|     Lenox Hill West|    162|Manhattan|        Midtown East|              1|    0.93|         1|  141|  162|           2| 9.0|  0.0|    0.5| 0.0| 0.0|       9.8|2017-02-21|14:50:07|2017-02-21|15:03:08|    2|afternoon|\n",
      "|    234|Manhattan|            Union Sq|     68|Manhattan|        East Chelsea|              6|    0.84|         1|  234|   68|           1| 5.0|  0.5|    0.5|0.88| 0.0|      7.18|2017-02-21|23:23:09|2017-02-21|23:26:18|    2|  evening|\n",
      "|    249|Manhattan|        West Village|    161|Manhattan|      Midtown Center|              6|    2.01|         1|  249|  161|           1|10.0|  0.5|    0.5|2.82| 0.0|     14.12|2017-02-21|23:28:20|2017-02-21|23:39:56|    2|  evening|\n",
      "|    144|Manhattan| Little Italy/NoLiTa|     87|Manhattan|Financial Distric...|              6|    1.52|         1|  144|   87|           1| 7.0|  0.5|    0.5|2.08| 0.0|     10.38|2017-02-21|23:55:03|2017-02-22|00:01:38|    2|  evening|\n",
      "|    230|Manhattan|Times Sq/Theatre ...|     68|Manhattan|        East Chelsea|              1|    1.01|         1|  230|   68|           1| 8.0|  0.0|    0.5|2.64| 0.0|     11.44|2017-02-24|12:17:57|2017-02-24|12:28:02|    2|afternoon|\n",
      "|     68|Manhattan|        East Chelsea|     68|Manhattan|        East Chelsea|              1|    0.72|         1|   68|   68|           1| 4.5|  0.0|    0.5|1.59| 0.0|      6.89|2017-02-24|12:29:32|2017-02-24|12:33:03|    2|afternoon|\n",
      "|    231|Manhattan|TriBeCa/Civic Center|    113|Manhattan|Greenwich Village...|              1|     1.6|         1|  231|  113|           1| 9.0|  0.0|    0.5|1.96| 0.0|     11.76|2017-02-24|12:47:50|2017-02-24|12:59:48|    2|afternoon|\n",
      "|    113|Manhattan|Greenwich Village...|    239|Manhattan|Upper West Side S...|              1|    4.31|         1|  113|  239|           1|34.5|  0.0|    0.5| 3.0| 0.0|      38.3|2017-02-24|13:03:57|2017-02-24|22:04:42|    2|afternoon|\n",
      "|    138|   Queens|   LaGuardia Airport|    162|Manhattan|        Midtown East|              1|    10.3|         1|  138|  162|           2|30.5|  0.5|    0.5| 0.0|5.54|     37.34|2017-02-01|00:00:00|2017-02-01|00:20:43|    2| midnight|\n",
      "|    132|   Queens|         JFK Airport|    123| Brooklyn|           Homecrest|              1|   16.05|         1|  132|  123|           2|44.0|  0.5|    0.5| 0.0| 0.0|      45.3|2017-02-01|00:00:00|2017-02-01|00:24:23|    2| midnight|\n",
      "|    148|Manhattan|     Lower East Side|     68|Manhattan|        East Chelsea|              1|     2.4|         1|  148|   68|           1|12.0|  0.5|    0.5| 3.0| 0.0|      16.3|2017-02-01|00:00:01|2017-02-01|00:14:45|    2| midnight|\n",
      "|    137|Manhattan|            Kips Bay|    213|    Bronx|Soundview/Castle ...|              1|    10.4|         1|  137|  213|           1|30.5|  0.5|    0.5|6.35| 0.0|     38.15|2017-02-01|00:00:01|2017-02-01|00:21:12|    2| midnight|\n",
      "|    170|Manhattan|         Murray Hill|    170|Manhattan|         Murray Hill|              4|    0.76|         1|  170|  170|           1| 5.5|  0.5|    0.5|1.36| 0.0|      8.16|2017-02-01|00:00:01|2017-02-01|00:05:29|    2| midnight|\n",
      "|    230|Manhattan|Times Sq/Theatre ...|     79|Manhattan|        East Village|              2|     2.8|         1|  230|   79|           1|10.5|  0.5|    0.5|2.36| 0.0|     14.16|2017-02-01|00:00:02|2017-02-01|00:10:45|    2| midnight|\n",
      "|    142|Manhattan| Lincoln Square East|    246|Manhattan|West Chelsea/Huds...|              1|    2.48|         1|  142|  246|           2| 9.5|  0.5|    0.5| 0.0| 0.0|      10.8|2017-02-01|00:00:03|2017-02-01|00:07:27|    2| midnight|\n",
      "+-------+---------+--------------------+-------+---------+--------------------+---------------+--------+----------+-----+-----+------------+----+-----+-------+----+----+----------+----------+--------+----------+--------+-----+---------+\n",
      "only showing top 20 rows\n",
      "\n"
     ]
    }
   ],
   "source": [
    "#### manipulate time\n",
    "split_col = pyspark.sql.functions.split(df_joined['PUTime'], ':')\n",
    "df_joined = df_joined.withColumn('PUHour', split_col.getItem(0))\n",
    "\n",
    "from pyspark.sql.functions import when\n",
    "\n",
    "df_joined = df_joined.withColumn(\"PUHour\", when((df_joined[\"PUHour\"] >=0) & (df_joined[\"PUHour\"] <6), 'midnight').otherwise(df_joined[\"PUHour\"]))\n",
    "df_joined = df_joined.withColumn(\"PUHour\", when((df_joined[\"PUHour\"] >=6) & (df_joined[\"PUHour\"] <12), 'morning').otherwise(df_joined[\"PUHour\"]))\n",
    "df_joined = df_joined.withColumn(\"PUHour\", when((df_joined[\"PUHour\"] >=12) & (df_joined[\"PUHour\"] <18), 'afternoon').otherwise(df_joined[\"PUHour\"]))\n",
    "df_joined = df_joined.withColumn(\"PUHour\", when((df_joined[\"PUHour\"] >=18) & (df_joined[\"PUHour\"] <=23), 'evening').otherwise(df_joined[\"PUHour\"]))\n",
    "\n",
    "df_joined.show()"
   ]
  },
  {
   "cell_type": "code",
   "execution_count": 18,
   "metadata": {},
   "outputs": [
    {
     "name": "stdout",
     "output_type": "stream",
     "text": [
      "+---------+--------------------+-----+------+\n",
      "|   PUHour|              PUZone|month| count|\n",
      "+---------+--------------------+-----+------+\n",
      "|afternoon|Upper East Side S...|    1|157826|\n",
      "|afternoon|Upper East Side N...|    1|151358|\n",
      "|  evening|Times Sq/Theatre ...|    1|136867|\n",
      "|  evening|      Midtown Center|    1|136487|\n",
      "|afternoon|      Midtown Center|    1|134284|\n",
      "|  evening|            Union Sq|    1|129806|\n",
      "|  evening|        Midtown East|    1|123194|\n",
      "|  morning|Upper East Side N...|    1|115309|\n",
      "|afternoon|        Midtown East|    1|110824|\n",
      "|  evening|        East Village|    1|110726|\n",
      "|afternoon|            Union Sq|    1|109299|\n",
      "|  evening|Penn Station/Madi...|    1|108464|\n",
      "|  evening|Upper East Side S...|    1|105797|\n",
      "|  evening| Lincoln Square East|    1|104454|\n",
      "|  morning|Penn Station/Madi...|    1|104143|\n",
      "|  morning|Upper East Side S...|    1|103239|\n",
      "|afternoon|Penn Station/Madi...|    1|102715|\n",
      "|  evening|        Clinton East|    1|101075|\n",
      "|afternoon|Upper West Side S...|    1| 98988|\n",
      "|afternoon|         Murray Hill|    1| 98182|\n",
      "+---------+--------------------+-----+------+\n",
      "only showing top 20 rows\n",
      "\n"
     ]
    }
   ],
   "source": [
    "###### by time\n",
    "PUByTimet = df_joined.groupBy('PUHour', 'PUZone', 'month').count()\n",
    "PUByTimet = PUByTimet.orderBy('count', ascending=False)\n",
    "PUByTime = PUByTime.union(PUByTimet)\n",
    "PUByTime.show()"
   ]
  },
  {
   "cell_type": "code",
   "execution_count": 19,
   "metadata": {},
   "outputs": [
    {
     "name": "stdout",
     "output_type": "stream",
     "text": [
      "+--------------------+-----+------+\n",
      "|              PUZone|month| count|\n",
      "+--------------------+-----+------+\n",
      "|Upper East Side S...|    1|380663|\n",
      "|Upper East Side N...|    1|363649|\n",
      "|      Midtown Center|    1|360995|\n",
      "|Penn Station/Madi...|    1|339970|\n",
      "|Times Sq/Theatre ...|    1|334079|\n",
      "|            Union Sq|    1|333035|\n",
      "|        Midtown East|    1|330946|\n",
      "|         Murray Hill|    1|306244|\n",
      "|        East Village|    1|303580|\n",
      "|        Clinton East|    1|297414|\n",
      "| Lincoln Square East|    1|277230|\n",
      "|Upper West Side S...|    1|252264|\n",
      "|       Midtown North|    1|250939|\n",
      "|            Gramercy|    1|238695|\n",
      "|       Midtown South|    1|227768|\n",
      "|         JFK Airport|    1|227167|\n",
      "|     Lenox Hill West|    1|226739|\n",
      "|        East Chelsea|    1|224558|\n",
      "|   LaGuardia Airport|    1|212193|\n",
      "|        West Village|    1|211629|\n",
      "+--------------------+-----+------+\n",
      "only showing top 20 rows\n",
      "\n"
     ]
    }
   ],
   "source": [
    "####### best PU locs\n",
    "best_locst = df_joined.groupBy('PUZone', 'month').count()\n",
    "best_locs = best_locs.union(best_locst)\n",
    "best_locs.show()"
   ]
  },
  {
   "cell_type": "code",
   "execution_count": 20,
   "metadata": {},
   "outputs": [],
   "source": [
    "###############################################\n",
    "#### March\n",
    "\n",
    "jan = spark.read.csv('../bigdata/yellow_tripdata_2017-03.csv', header=True, inferSchema = True)\n",
    "jan = jan.drop('VendorID','store_and_fwd_flag' ,'improvement_surcharge')\n",
    "\n",
    "import pyspark.sql.functions\n",
    "\n",
    "split_col = pyspark.sql.functions.split(jan['tpep_pickup_datetime'], ' ')\n",
    "jan = jan.withColumn('PUDate', split_col.getItem(0))\n",
    "jan = jan.withColumn('PUTime', split_col.getItem(1))\n",
    "split_col = pyspark.sql.functions.split(jan['tpep_dropoff_datetime'], ' ')\n",
    "jan = jan.withColumn('DODate', split_col.getItem(0))\n",
    "jan = jan.withColumn('DOTime', split_col.getItem(1))\n",
    "\n",
    "jan = jan.drop('tpep_pickup_datetime','tpep_dropoff_datetime')\n"
   ]
  },
  {
   "cell_type": "code",
   "execution_count": 21,
   "metadata": {},
   "outputs": [
    {
     "name": "stdout",
     "output_type": "stream",
     "text": [
      "+-------+---------+--------------------+-------+---------+--------------------+---------------+--------+----------+-----+-----+------------+----+-----+-------+----+----+----------+----------+--------+----------+--------+\n",
      "|PULocID|PUBorough|              PUZone|DOLocID|DOBorough|              DOZone|passenger_count|distance|RateCodeID|srcID|dstID|payment_type|fare|extra|mta_tax| tip|toll|total_fare|    PUDate|  PUTime|    DODate|  DOTime|\n",
      "+-------+---------+--------------------+-------+---------+--------------------+---------------+--------+----------+-----+-----+------------+----+-----+-------+----+----+----------+----------+--------+----------+--------+\n",
      "|    148|Manhattan|     Lower East Side|     48|Manhattan|        Clinton East|              1|    4.06|         1|  148|   48|           1|14.0|  0.5|    0.5|3.06| 0.0|     18.36|2017-03-09|21:30:11|2017-03-09|21:44:20|\n",
      "|     48|Manhattan|        Clinton East|    107|Manhattan|            Gramercy|              1|    2.73|         1|   48|  107|           2|11.5|  0.5|    0.5| 0.0| 0.0|      12.8|2017-03-09|21:47:00|2017-03-09|21:58:01|\n",
      "|     79|Manhattan|        East Village|    162|Manhattan|        Midtown East|              1|    2.27|         1|   79|  162|           1|10.0|  0.5|    0.5|2.82| 0.0|     14.12|2017-03-09|22:01:08|2017-03-09|22:11:16|\n",
      "|    237|Manhattan|Upper East Side S...|     41|Manhattan|      Central Harlem|              1|    3.86|         1|  237|   41|           1|12.0|  0.5|    0.5|3.99| 0.0|     17.29|2017-03-09|22:16:05|2017-03-10|06:26:11|\n",
      "|     41|Manhattan|      Central Harlem|    162|Manhattan|        Midtown East|              1|    3.45|         1|   41|  162|           2|12.0|  0.5|    0.5| 0.0| 0.0|      13.3|2017-03-31|06:31:53|2017-03-31|06:41:48|\n",
      "|    261|Manhattan|  World Trade Center|     79|Manhattan|        East Village|              1|     2.8|         1|  261|   79|           1|12.5|  0.5|    0.5| 1.0| 0.0|      14.8|2017-03-01|00:00:00|2017-03-01|00:14:22|\n",
      "|     87|Manhattan|Financial Distric...|    142|Manhattan| Lincoln Square East|              1|     6.0|         1|   87|  142|           1|19.5|  0.5|    0.5| 3.5| 0.0|      24.3|2017-03-01|00:00:00|2017-03-01|00:19:30|\n",
      "|    142|Manhattan| Lincoln Square East|    181| Brooklyn|          Park Slope|              1|     8.7|         1|  142|  181|           1|30.0|  0.5|    0.5| 7.8| 0.0|      39.1|2017-03-01|00:00:00|2017-03-01|00:34:27|\n",
      "|     68|Manhattan|        East Chelsea|    141|Manhattan|     Lenox Hill West|              1|     3.7|         1|   68|  141|           1|16.5|  0.5|    0.5| 1.5| 0.0|      19.3|2017-03-01|00:00:00|2017-03-01|00:21:31|\n",
      "|    261|Manhattan|  World Trade Center|    163|Manhattan|       Midtown North|              1|    4.21|         1|  261|  163|           1|20.5|  0.0|    0.5|4.26| 0.0|     25.56|2017-03-15|00:07:59|2017-03-15|00:38:08|\n",
      "|    161|Manhattan|      Midtown Center|    113|Manhattan|Greenwich Village...|              1|    2.07|         1|  161|  113|           1| 8.5|  0.5|    0.5|1.96| 0.0|     11.76|2017-03-01|00:00:00|2017-03-01|00:07:26|\n",
      "|    170|Manhattan|         Murray Hill|    161|Manhattan|      Midtown Center|              2|    1.26|         1|  170|  161|           1| 7.0|  0.5|    0.5|1.66| 0.0|      9.96|2017-03-01|00:00:00|2017-03-01|00:07:51|\n",
      "|    256| Brooklyn|Williamsburg (Sou...|     65| Brooklyn|Downtown Brooklyn...|              1|    2.91|         1|  256|   65|           1|11.5|  0.5|    0.5|2.56| 0.0|     15.36|2017-03-01|00:00:00|2017-03-01|00:10:40|\n",
      "|    132|   Queens|         JFK Airport|     10|   Queens|        Baisley Park|              1|     4.7|         1|  132|   10|           1|15.5|  0.3|    0.5| 0.0| 0.0|      16.6|2017-03-01|00:00:00|2017-03-01|06:46:27|\n",
      "|    132|   Queens|         JFK Airport|     50|Manhattan|        Clinton West|              5|    1.86|         1|  132|   50|           1|19.0|  0.0|    0.5|2.97| 0.0|     22.77|2017-03-01|00:00:00|2017-03-01|00:00:00|\n",
      "|    138|   Queens|   LaGuardia Airport|     25| Brooklyn|         Boerum Hill|              5|    9.88|         1|  138|   25|           1|36.5|  1.0|    0.5|7.66| 0.0|     45.96|2017-03-01|00:00:00|2017-03-01|00:00:00|\n",
      "|     45|Manhattan|           Chinatown|    116|Manhattan|    Hamilton Heights|              3|     9.4|         1|   45|  116|           1|29.0|  0.5|    0.5|9.05| 0.0|     39.35|2017-03-01|00:00:01|2017-03-01|00:30:30|\n",
      "|    100|Manhattan|    Garment District|    230|Manhattan|Times Sq/Theatre ...|              1|    0.83|         1|  100|  230|           1| 6.0|  0.5|    0.5|1.82| 0.0|      9.12|2017-03-01|00:00:01|2017-03-01|00:06:09|\n",
      "|    170|Manhattan|         Murray Hill|    223|   Queens|            Steinway|              1|     5.7|         1|  170|  223|           1|21.5|  0.5|    0.5|4.55| 0.0|     27.35|2017-03-01|00:00:02|2017-03-01|00:25:33|\n",
      "|     79|Manhattan|        East Village|    161|Manhattan|      Midtown Center|              1|    2.43|         1|   79|  161|           1|10.5|  0.5|    0.5|2.95| 0.0|     14.75|2017-03-01|00:00:02|2017-03-01|00:10:41|\n",
      "+-------+---------+--------------------+-------+---------+--------------------+---------------+--------+----------+-----+-----+------------+----+-----+-------+----+----+----------+----------+--------+----------+--------+\n",
      "only showing top 20 rows\n",
      "\n"
     ]
    }
   ],
   "source": [
    "df_joined = jan.join(loc,[jan.PULocationID==loc.LocationID],'left_outer')\n",
    "df_joined = df_joined.selectExpr(\"LocationID as PULocID\", \"Borough as PUBorough\", \"Zone as PUZone\", \"passenger_count as passenger_count\", \"trip_distance as distance\", \"RateCodeID as RateCodeID\", \"PULocationID as srcID\", \"DOLocationID as dstID\", \"payment_type as payment_type\", \"fare_amount as fare\", \"extra as extra\", \"mta_tax as mta_tax\", \"tip_amount as tip\", \"tolls_amount as toll\", \"total_amount as total_fare\", \"PUDate as PUDate\", \"PUTime as PUTime\", \"DODate as DODate\", \"DOTime as DOTime\")\n",
    "df_joined = df_joined.join(loc,[df_joined.dstID==loc.LocationID],'left_outer')\n",
    "df_joined = df_joined.selectExpr(\"PULocID as PULocID\", \"PUBorough as PUBorough\", \"PUZone as PUZone\", \"LocationID as DOLocID\", \"Borough as DOBorough\", \"Zone as DOZone\", \"passenger_count as passenger_count\", \"distance as distance\", \"RateCodeID as RateCodeID\", \"srcID as srcID\", \"dstID as dstID\", \"payment_type as payment_type\", \"fare as fare\", \"extra as extra\", \"mta_tax as mta_tax\", \"tip as tip\", \"toll as toll\", \"total_fare as total_fare\", \"PUDate as PUDate\", \"PUTime as PUTime\", \"DODate as DODate\", \"DOTime as DOTime\")\n",
    "df_joined.show()"
   ]
  },
  {
   "cell_type": "code",
   "execution_count": 22,
   "metadata": {},
   "outputs": [
    {
     "name": "stdout",
     "output_type": "stream",
     "text": [
      "+--------------------+--------------------+-----+-----+------------------+\n",
      "|                 src|                 dst|count|month|          avg_fare|\n",
      "+--------------------+--------------------+-----+-----+------------------+\n",
      "|Allerton/Pelham G...|        East Tremont|    1|    1|              11.8|\n",
      "|        Battery Park|         Fort Greene|   10|    1|20.003000000000004|\n",
      "|        Battery Park|     Windsor Terrace|    4|    1|            30.445|\n",
      "|   Battery Park City|        East Village| 1716|    1| 18.92319930069934|\n",
      "|        Bloomingdale|           Chinatown|    7|    1| 32.61714285714286|\n",
      "|        Bloomingdale|     Mariners Harbor|    1|    1|             85.42|\n",
      "|           Bronxdale|         Eastchester|    1|    1|               9.3|\n",
      "|  Brooklyn Navy Yard|          Kensington|    1|    1|              18.3|\n",
      "|      Bushwick North|    Hamilton Heights|    4|    1|           53.8475|\n",
      "|      Bushwick South|Long Island City/...|    5|    1|            22.432|\n",
      "|     Carroll Gardens|Upper West Side S...|    9|    1| 38.09444444444445|\n",
      "|      Central Harlem|         Brownsville|    2|    1|            68.005|\n",
      "|Central Harlem North|   Crotona Park East|   18|    1|22.465000000000003|\n",
      "|Central Harlem North|        Far Rockaway|    1|    1|             72.84|\n",
      "|Central Harlem North|           Flatlands|    1|    1|             88.34|\n",
      "|Central Harlem North|              Inwood|   68|    1|18.413676470588236|\n",
      "|        Central Park|Briarwood/Jamaica...|    2|    1|             50.82|\n",
      "|        Clinton Hill|  Brooklyn Navy Yard|   17|    1| 7.828235294117646|\n",
      "|        Clinton Hill|      Central Harlem|    2|    1|             50.84|\n",
      "|        Clinton West|             Madison|    6|    1|52.306666666666665|\n",
      "+--------------------+--------------------+-----+-----+------------------+\n",
      "only showing top 20 rows\n",
      "\n"
     ]
    }
   ],
   "source": [
    "byTotalFare = df_joined.groupBy('PUZone', 'DOZone').avg('total_fare')\n",
    "byDistance = df_joined.groupBy('PUZone', 'DOZone').max('distance')\n",
    "\n",
    "from pyspark.sql.functions import lit\n",
    "df_joined = df_joined.withColumn(\"month\",lit(3))\n",
    "\n",
    "Grapht = df_joined.select('PUZone', 'DOZone', 'month')\n",
    "Grapht = Grapht.groupBy('PUZone', 'DOZone').count()\n",
    "Grapht = Grapht.withColumn(\"month\",lit(3))\n",
    "Grapht = Grapht.selectExpr(\"PUZone as src\", \"DOZone as dst\", \"count as count\", \"month as month\")\n",
    "\n",
    "byTotalFare = df_joined.groupBy('PUZone', 'DOZone').avg('total_fare')\n",
    "Grapht = Grapht.join(byTotalFare,[Grapht.src==byTotalFare.PUZone, Grapht.dst==byTotalFare.DOZone],'left_outer')\n",
    "Grapht = Grapht.drop('PUZone', 'DOZone')\n",
    "Grapht = Grapht.withColumnRenamed(\"avg(total_fare)\", \"avg_fare\")\n",
    "Graph = Graph.union(Grapht)\n",
    "Graph.show()"
   ]
  },
  {
   "cell_type": "code",
   "execution_count": 23,
   "metadata": {},
   "outputs": [
    {
     "name": "stdout",
     "output_type": "stream",
     "text": [
      "+--------------------+--------------------+------------+-----+\n",
      "|              PUZone|              DOZone|max_distance|month|\n",
      "+--------------------+--------------------+------------+-----+\n",
      "|Springfield Garde...|                  NA|      264.71|    1|\n",
      "|          Ocean Hill|Two Bridges/Sewar...|       180.7|    1|\n",
      "|         JFK Airport| UN/Turtle Bay South|       173.2|    1|\n",
      "|     Mariners Harbor|                  NA|      156.17|    1|\n",
      "|        Clinton East|                  NA|       151.7|    1|\n",
      "|Flushing Meadows-...|                  NA|      143.45|    1|\n",
      "|                  NA|                  NA|       143.4|    1|\n",
      "|         JFK Airport|                  NA|       143.4|    1|\n",
      "|       Richmond Hill|                  NA|       141.8|    1|\n",
      "|         JFK Airport|                  NA|      139.17|    1|\n",
      "|Prospect-Lefferts...|        Clinton Hill|       324.0|    2|\n",
      "|           Bay Ridge|                  NA|      298.47|    2|\n",
      "|             Bedford|             Bedford|       282.0|    2|\n",
      "|            Gramercy|                  NA|       221.7|    2|\n",
      "|    Garment District|                  NA|      196.73|    2|\n",
      "|      Sheepshead Bay|             Bedford|       190.2|    2|\n",
      "|Mott Haven/Port M...|                  NA|       182.3|    2|\n",
      "| Little Italy/NoLiTa|                  NA|       142.3|    2|\n",
      "| Little Italy/NoLiTa| Little Italy/NoLiTa|       138.4|    2|\n",
      "|         JFK Airport|  World Trade Center|      132.58|    2|\n",
      "+--------------------+--------------------+------------+-----+\n",
      "only showing top 20 rows\n",
      "\n"
     ]
    }
   ],
   "source": [
    "########## max distance\n",
    "max_distt = df_joined.orderBy('distance', ascending=False)\n",
    "max_distt = max_distt.limit(10)\n",
    "max_distt = max_distt.withColumnRenamed(\"distance\", \"max_distance\")\n",
    "max_distt = max_distt.select('PUZone', 'DOZone', 'max_distance', 'month')\n",
    "max_dist = max_dist.union(max_distt)\n",
    "max_dist.show()"
   ]
  },
  {
   "cell_type": "code",
   "execution_count": 24,
   "metadata": {},
   "outputs": [
    {
     "name": "stdout",
     "output_type": "stream",
     "text": [
      "+--------------------+--------------------+---------+-----+\n",
      "|              PUZone|              DOZone| max_fare|month|\n",
      "+--------------------+--------------------+---------+-----+\n",
      "|Upper West Side S...|                  NV| 625901.6|    1|\n",
      "|Two Bridges/Sewar...|Washington Height...| 538580.0|    1|\n",
      "|Upper East Side S...|     Lenox Hill West|   9001.3|    1|\n",
      "|                  NV|                  NV|  8043.84|    1|\n",
      "|       Midtown North|Times Sq/Theatre ...|   3009.8|    1|\n",
      "|                  NV|                  NV|   3009.3|    1|\n",
      "|           Sunnyside|           Sunnyside|  2000.28|    1|\n",
      "|           Sunnyside|           Sunnyside|  2000.28|    1|\n",
      "|           Sunnyside|           Sunnyside|  2000.28|    1|\n",
      "|           Sunnyside|           Sunnyside|  1000.29|    1|\n",
      "|            Union Sq|      Midtown Center|361772.02|    2|\n",
      "|Upper East Side N...|Upper West Side S...|335545.21|    2|\n",
      "|Upper West Side N...|      Midtown Center|171856.99|    2|\n",
      "|Upper East Side N...|            Gramercy|   8018.6|    2|\n",
      "|                  NV|                  NV|   8009.3|    2|\n",
      "|                  NV|                  NV|   8005.8|    2|\n",
      "|Upper West Side N...| Lincoln Square West|  7003.51|    2|\n",
      "|            Gramercy|            Kips Bay|   6722.4|    2|\n",
      "|                  NV|                  NV|  5447.82|    2|\n",
      "|             Bedford|             Bedford|  1206.24|    2|\n",
      "+--------------------+--------------------+---------+-----+\n",
      "only showing top 20 rows\n",
      "\n"
     ]
    }
   ],
   "source": [
    "######max fare\n",
    "max_faret = df_joined.orderBy('total_fare', ascending=False)\n",
    "max_faret = max_faret.limit(10)\n",
    "max_faret = max_faret.withColumnRenamed(\"total_fare\", \"max_fare\")\n",
    "max_faret = max_faret.select('PUZone', 'DOZone', 'max_fare', 'month')\n",
    "max_fare = max_fare.union(max_faret)\n",
    "max_fare.show()"
   ]
  },
  {
   "cell_type": "code",
   "execution_count": 25,
   "metadata": {},
   "outputs": [
    {
     "name": "stdout",
     "output_type": "stream",
     "text": [
      "+-------+---------+--------------------+-------+---------+--------------------+---------------+--------+----------+-----+-----+------------+----+-----+-------+----+----+----------+----------+--------+----------+--------+-----+--------+\n",
      "|PULocID|PUBorough|              PUZone|DOLocID|DOBorough|              DOZone|passenger_count|distance|RateCodeID|srcID|dstID|payment_type|fare|extra|mta_tax| tip|toll|total_fare|    PUDate|  PUTime|    DODate|  DOTime|month|  PUHour|\n",
      "+-------+---------+--------------------+-------+---------+--------------------+---------------+--------+----------+-----+-----+------------+----+-----+-------+----+----+----------+----------+--------+----------+--------+-----+--------+\n",
      "|    148|Manhattan|     Lower East Side|     48|Manhattan|        Clinton East|              1|    4.06|         1|  148|   48|           1|14.0|  0.5|    0.5|3.06| 0.0|     18.36|2017-03-09|21:30:11|2017-03-09|21:44:20|    3| evening|\n",
      "|     48|Manhattan|        Clinton East|    107|Manhattan|            Gramercy|              1|    2.73|         1|   48|  107|           2|11.5|  0.5|    0.5| 0.0| 0.0|      12.8|2017-03-09|21:47:00|2017-03-09|21:58:01|    3| evening|\n",
      "|     79|Manhattan|        East Village|    162|Manhattan|        Midtown East|              1|    2.27|         1|   79|  162|           1|10.0|  0.5|    0.5|2.82| 0.0|     14.12|2017-03-09|22:01:08|2017-03-09|22:11:16|    3| evening|\n",
      "|    237|Manhattan|Upper East Side S...|     41|Manhattan|      Central Harlem|              1|    3.86|         1|  237|   41|           1|12.0|  0.5|    0.5|3.99| 0.0|     17.29|2017-03-09|22:16:05|2017-03-10|06:26:11|    3| evening|\n",
      "|     41|Manhattan|      Central Harlem|    162|Manhattan|        Midtown East|              1|    3.45|         1|   41|  162|           2|12.0|  0.5|    0.5| 0.0| 0.0|      13.3|2017-03-31|06:31:53|2017-03-31|06:41:48|    3| morning|\n",
      "|    261|Manhattan|  World Trade Center|     79|Manhattan|        East Village|              1|     2.8|         1|  261|   79|           1|12.5|  0.5|    0.5| 1.0| 0.0|      14.8|2017-03-01|00:00:00|2017-03-01|00:14:22|    3|midnight|\n",
      "|     87|Manhattan|Financial Distric...|    142|Manhattan| Lincoln Square East|              1|     6.0|         1|   87|  142|           1|19.5|  0.5|    0.5| 3.5| 0.0|      24.3|2017-03-01|00:00:00|2017-03-01|00:19:30|    3|midnight|\n",
      "|    142|Manhattan| Lincoln Square East|    181| Brooklyn|          Park Slope|              1|     8.7|         1|  142|  181|           1|30.0|  0.5|    0.5| 7.8| 0.0|      39.1|2017-03-01|00:00:00|2017-03-01|00:34:27|    3|midnight|\n",
      "|     68|Manhattan|        East Chelsea|    141|Manhattan|     Lenox Hill West|              1|     3.7|         1|   68|  141|           1|16.5|  0.5|    0.5| 1.5| 0.0|      19.3|2017-03-01|00:00:00|2017-03-01|00:21:31|    3|midnight|\n",
      "|    261|Manhattan|  World Trade Center|    163|Manhattan|       Midtown North|              1|    4.21|         1|  261|  163|           1|20.5|  0.0|    0.5|4.26| 0.0|     25.56|2017-03-15|00:07:59|2017-03-15|00:38:08|    3|midnight|\n",
      "|    161|Manhattan|      Midtown Center|    113|Manhattan|Greenwich Village...|              1|    2.07|         1|  161|  113|           1| 8.5|  0.5|    0.5|1.96| 0.0|     11.76|2017-03-01|00:00:00|2017-03-01|00:07:26|    3|midnight|\n",
      "|    170|Manhattan|         Murray Hill|    161|Manhattan|      Midtown Center|              2|    1.26|         1|  170|  161|           1| 7.0|  0.5|    0.5|1.66| 0.0|      9.96|2017-03-01|00:00:00|2017-03-01|00:07:51|    3|midnight|\n",
      "|    256| Brooklyn|Williamsburg (Sou...|     65| Brooklyn|Downtown Brooklyn...|              1|    2.91|         1|  256|   65|           1|11.5|  0.5|    0.5|2.56| 0.0|     15.36|2017-03-01|00:00:00|2017-03-01|00:10:40|    3|midnight|\n",
      "|    132|   Queens|         JFK Airport|     10|   Queens|        Baisley Park|              1|     4.7|         1|  132|   10|           1|15.5|  0.3|    0.5| 0.0| 0.0|      16.6|2017-03-01|00:00:00|2017-03-01|06:46:27|    3|midnight|\n",
      "|    132|   Queens|         JFK Airport|     50|Manhattan|        Clinton West|              5|    1.86|         1|  132|   50|           1|19.0|  0.0|    0.5|2.97| 0.0|     22.77|2017-03-01|00:00:00|2017-03-01|00:00:00|    3|midnight|\n",
      "|    138|   Queens|   LaGuardia Airport|     25| Brooklyn|         Boerum Hill|              5|    9.88|         1|  138|   25|           1|36.5|  1.0|    0.5|7.66| 0.0|     45.96|2017-03-01|00:00:00|2017-03-01|00:00:00|    3|midnight|\n",
      "|     45|Manhattan|           Chinatown|    116|Manhattan|    Hamilton Heights|              3|     9.4|         1|   45|  116|           1|29.0|  0.5|    0.5|9.05| 0.0|     39.35|2017-03-01|00:00:01|2017-03-01|00:30:30|    3|midnight|\n",
      "|    100|Manhattan|    Garment District|    230|Manhattan|Times Sq/Theatre ...|              1|    0.83|         1|  100|  230|           1| 6.0|  0.5|    0.5|1.82| 0.0|      9.12|2017-03-01|00:00:01|2017-03-01|00:06:09|    3|midnight|\n",
      "|    170|Manhattan|         Murray Hill|    223|   Queens|            Steinway|              1|     5.7|         1|  170|  223|           1|21.5|  0.5|    0.5|4.55| 0.0|     27.35|2017-03-01|00:00:02|2017-03-01|00:25:33|    3|midnight|\n",
      "|     79|Manhattan|        East Village|    161|Manhattan|      Midtown Center|              1|    2.43|         1|   79|  161|           1|10.5|  0.5|    0.5|2.95| 0.0|     14.75|2017-03-01|00:00:02|2017-03-01|00:10:41|    3|midnight|\n",
      "+-------+---------+--------------------+-------+---------+--------------------+---------------+--------+----------+-----+-----+------------+----+-----+-------+----+----+----------+----------+--------+----------+--------+-----+--------+\n",
      "only showing top 20 rows\n",
      "\n"
     ]
    }
   ],
   "source": [
    "#### manipulate time\n",
    "split_col = pyspark.sql.functions.split(df_joined['PUTime'], ':')\n",
    "df_joined = df_joined.withColumn('PUHour', split_col.getItem(0))\n",
    "\n",
    "from pyspark.sql.functions import when\n",
    "\n",
    "df_joined = df_joined.withColumn(\"PUHour\", when((df_joined[\"PUHour\"] >=0) & (df_joined[\"PUHour\"] <6), 'midnight').otherwise(df_joined[\"PUHour\"]))\n",
    "df_joined = df_joined.withColumn(\"PUHour\", when((df_joined[\"PUHour\"] >=6) & (df_joined[\"PUHour\"] <12), 'morning').otherwise(df_joined[\"PUHour\"]))\n",
    "df_joined = df_joined.withColumn(\"PUHour\", when((df_joined[\"PUHour\"] >=12) & (df_joined[\"PUHour\"] <18), 'afternoon').otherwise(df_joined[\"PUHour\"]))\n",
    "df_joined = df_joined.withColumn(\"PUHour\", when((df_joined[\"PUHour\"] >=18) & (df_joined[\"PUHour\"] <=23), 'evening').otherwise(df_joined[\"PUHour\"]))\n",
    "df_joined.show()"
   ]
  },
  {
   "cell_type": "code",
   "execution_count": 26,
   "metadata": {},
   "outputs": [
    {
     "name": "stdout",
     "output_type": "stream",
     "text": [
      "+---------+--------------------+-----+------+\n",
      "|   PUHour|              PUZone|month| count|\n",
      "+---------+--------------------+-----+------+\n",
      "|afternoon|Upper East Side S...|    1|157826|\n",
      "|afternoon|Upper East Side N...|    1|151358|\n",
      "|  evening|Times Sq/Theatre ...|    1|136867|\n",
      "|  evening|      Midtown Center|    1|136487|\n",
      "|afternoon|      Midtown Center|    1|134284|\n",
      "|  evening|            Union Sq|    1|129806|\n",
      "|  evening|        Midtown East|    1|123194|\n",
      "|  morning|Upper East Side N...|    1|115309|\n",
      "|afternoon|        Midtown East|    1|110824|\n",
      "|  evening|        East Village|    1|110726|\n",
      "|afternoon|            Union Sq|    1|109299|\n",
      "|  evening|Penn Station/Madi...|    1|108464|\n",
      "|  evening|Upper East Side S...|    1|105797|\n",
      "|  evening| Lincoln Square East|    1|104454|\n",
      "|  morning|Penn Station/Madi...|    1|104143|\n",
      "|  morning|Upper East Side S...|    1|103239|\n",
      "|afternoon|Penn Station/Madi...|    1|102715|\n",
      "|  evening|        Clinton East|    1|101075|\n",
      "|afternoon|Upper West Side S...|    1| 98988|\n",
      "|afternoon|         Murray Hill|    1| 98182|\n",
      "+---------+--------------------+-----+------+\n",
      "only showing top 20 rows\n",
      "\n"
     ]
    }
   ],
   "source": [
    "###### by time\n",
    "PUByTimet = df_joined.groupBy('PUHour', 'PUZone', 'month').count()\n",
    "PUByTimet = PUByTimet.orderBy('count', ascending=False)\n",
    "PUByTime = PUByTime.union(PUByTimet)\n",
    "PUByTime.show()"
   ]
  },
  {
   "cell_type": "code",
   "execution_count": 27,
   "metadata": {},
   "outputs": [
    {
     "name": "stdout",
     "output_type": "stream",
     "text": [
      "+--------------------+-----+------+\n",
      "|              PUZone|month| count|\n",
      "+--------------------+-----+------+\n",
      "|Upper East Side S...|    1|380663|\n",
      "|Upper East Side N...|    1|363649|\n",
      "|      Midtown Center|    1|360995|\n",
      "|Penn Station/Madi...|    1|339970|\n",
      "|Times Sq/Theatre ...|    1|334079|\n",
      "|            Union Sq|    1|333035|\n",
      "|        Midtown East|    1|330946|\n",
      "|         Murray Hill|    1|306244|\n",
      "|        East Village|    1|303580|\n",
      "|        Clinton East|    1|297414|\n",
      "| Lincoln Square East|    1|277230|\n",
      "|Upper West Side S...|    1|252264|\n",
      "|       Midtown North|    1|250939|\n",
      "|            Gramercy|    1|238695|\n",
      "|       Midtown South|    1|227768|\n",
      "|         JFK Airport|    1|227167|\n",
      "|     Lenox Hill West|    1|226739|\n",
      "|        East Chelsea|    1|224558|\n",
      "|   LaGuardia Airport|    1|212193|\n",
      "|        West Village|    1|211629|\n",
      "+--------------------+-----+------+\n",
      "only showing top 20 rows\n",
      "\n"
     ]
    }
   ],
   "source": [
    "####### best PU locs\n",
    "best_locst = df_joined.groupBy('PUZone', 'month').count()\n",
    "best_locs = best_locs.union(best_locst)\n",
    "best_locs.show()"
   ]
  },
  {
   "cell_type": "code",
   "execution_count": 28,
   "metadata": {},
   "outputs": [],
   "source": [
    "#################################################################\n",
    "##### April\n",
    "jan = spark.read.csv('../bigdata/yellow_tripdata_2017-04.csv', header=True, inferSchema = True)\n",
    "jan = jan.drop('VendorID','store_and_fwd_flag' ,'improvement_surcharge')\n",
    "\n",
    "import pyspark.sql.functions\n",
    "\n",
    "split_col = pyspark.sql.functions.split(jan['tpep_pickup_datetime'], ' ')\n",
    "jan = jan.withColumn('PUDate', split_col.getItem(0))\n",
    "jan = jan.withColumn('PUTime', split_col.getItem(1))\n",
    "split_col = pyspark.sql.functions.split(jan['tpep_dropoff_datetime'], ' ')\n",
    "jan = jan.withColumn('DODate', split_col.getItem(0))\n",
    "jan = jan.withColumn('DOTime', split_col.getItem(1))\n",
    "\n",
    "jan = jan.drop('tpep_pickup_datetime','tpep_dropoff_datetime')"
   ]
  },
  {
   "cell_type": "code",
   "execution_count": 29,
   "metadata": {},
   "outputs": [
    {
     "name": "stdout",
     "output_type": "stream",
     "text": [
      "+-------+---------+--------------------+-------+---------+--------------------+---------------+--------+----------+-----+-----+------------+----+-----+-------+-----+----+----------+----------+--------+----------+--------+\n",
      "|PULocID|PUBorough|              PUZone|DOLocID|DOBorough|              DOZone|passenger_count|distance|RateCodeID|srcID|dstID|payment_type|fare|extra|mta_tax|  tip|toll|total_fare|    PUDate|  PUTime|    DODate|  DOTime|\n",
      "+-------+---------+--------------------+-------+---------+--------------------+---------------+--------+----------+-----+-----+------------+----+-----+-------+-----+----+----------+----------+--------+----------+--------+\n",
      "|    158|Manhattan|Meatpacking/West ...|    113|Manhattan|Greenwich Village...|              1|     1.8|         1|  158|  113|           2|10.5|  0.5|    0.5|  0.0| 0.0|      11.8|2017-04-01|00:00:00|2017-04-01|00:15:07|\n",
      "|     87|Manhattan|Financial Distric...|    158|Manhattan|Meatpacking/West ...|              3|     3.7|         1|   87|  158|           2|14.5|  0.5|    0.5|  0.0| 0.0|      15.8|2017-04-01|00:00:00|2017-04-01|00:16:23|\n",
      "|    264|  Unknown|                  NV|    193|   Queens|Queensbridge/Rave...|              1|     0.0|         1|  264|  193|           1| 0.0|  0.0|    0.0|  0.0| 0.0|       0.0|2017-04-01|00:00:00|2017-04-01|10:20:01|\n",
      "|    230|Manhattan|Times Sq/Theatre ...|      4|Manhattan|       Alphabet City|              2|     3.3|         1|  230|    4|           1|23.5|  0.5|    0.5| 4.95| 0.0|     29.75|2017-04-01|00:00:01|2017-04-01|00:37:05|\n",
      "|    142|Manhattan| Lincoln Square East|    143|Manhattan| Lincoln Square West|              1|     0.7|         1|  142|  143|           2| 4.5|  0.5|    0.5|  0.0| 0.0|       5.8|2017-04-01|00:00:01|2017-04-01|00:02:56|\n",
      "|    170|Manhattan|         Murray Hill|    263|Manhattan|      Yorkville West|              1|     2.2|         1|  170|  263|           1| 8.5|  0.5|    0.5| 2.45| 0.0|     12.25|2017-04-01|00:00:01|2017-04-01|00:07:28|\n",
      "|    100|Manhattan|    Garment District|     48|Manhattan|        Clinton East|              1|     0.7|         1|  100|   48|           1| 7.0|  0.5|    0.5| 1.65| 0.0|      9.95|2017-04-01|00:00:01|2017-04-01|00:08:30|\n",
      "|    166|Manhattan| Morningside Heights|    166|Manhattan| Morningside Heights|              1|     0.4|         1|  166|  166|           2| 4.0|  0.5|    0.5|  0.0| 0.0|       5.3|2017-04-01|00:00:01|2017-04-01|00:02:40|\n",
      "|    113|Manhattan|Greenwich Village...|     68|Manhattan|        East Chelsea|              1|    1.23|         1|  113|   68|           1| 8.0|  0.5|    0.5|  1.0| 0.0|      10.3|2017-04-01|00:00:01|2017-04-01|00:10:20|\n",
      "|     68|Manhattan|        East Chelsea|     68|Manhattan|        East Chelsea|              1|    0.55|         1|   68|   68|           1| 4.0|  0.0|    0.5|  0.0| 0.0|       4.8|2017-04-05|07:52:23|2017-04-05|07:55:02|\n",
      "|     88|Manhattan|Financial Distric...|    246|Manhattan|West Chelsea/Huds...|              6|    3.72|         1|   88|  246|           1|18.5|  1.0|    0.5| 3.04| 0.0|     25.29|2017-04-26|15:45:22|2017-04-26|16:10:00|\n",
      "|    246|Manhattan|West Chelsea/Huds...|    114|Manhattan|Greenwich Village...|              6|    2.29|         1|  246|  114|           1|12.5|  1.0|    0.5|  1.0| 0.0|      15.3|2017-04-26|16:12:29|2017-04-26|16:28:35|\n",
      "|    113|Manhattan|Greenwich Village...|    170|Manhattan|         Murray Hill|              6|    1.81|         1|  113|  170|           2|10.0|  1.0|    0.5|  0.0| 0.0|      11.8|2017-04-26|16:32:00|2017-04-26|23:46:19|\n",
      "|    162|Manhattan|        Midtown East|    261|Manhattan|  World Trade Center|              1|    5.67|         1|  162|  261|           2|33.0|  0.5|    0.5|  0.0| 0.0|      34.3|2017-04-01|00:00:01|2017-04-01|00:46:22|\n",
      "|    132|   Queens|         JFK Airport|    234|Manhattan|            Union Sq|              1|   18.21|         2|  132|  234|           1|52.0|  0.0|    0.5|14.64|5.76|      73.2|2017-04-01|00:00:01|2017-04-01|00:31:14|\n",
      "|    100|Manhattan|    Garment District|     52| Brooklyn|         Cobble Hill|              6|    7.27|         1|  100|   52|           1|50.5|  0.5|    0.5|12.95| 0.0|     64.75|2017-04-01|00:00:01|2017-04-01|01:19:57|\n",
      "|    230|Manhattan|Times Sq/Theatre ...|    142|Manhattan| Lincoln Square East|              6|    1.06|         1|  230|  142|           1| 6.5|  0.5|    0.5| 1.56| 0.0|      9.36|2017-04-01|00:00:01|2017-04-01|00:06:09|\n",
      "|    181| Brooklyn|          Park Slope|     61| Brooklyn| Crown Heights North|              2|     1.8|         1|  181|   61|           2| 9.0|  0.5|    0.5|  0.0| 0.0|      10.3|2017-04-01|00:00:02|2017-04-01|00:09:08|\n",
      "|    170|Manhattan|         Murray Hill|     79|Manhattan|        East Village|              1|    1.71|         1|  170|   79|           1| 9.5|  0.5|    0.5| 2.16| 0.0|     12.96|2017-04-01|00:00:02|2017-04-01|00:12:11|\n",
      "|    144|Manhattan| Little Italy/NoLiTa|     25| Brooklyn|         Boerum Hill|              1|    3.08|         1|  144|   25|           1|18.5|  0.5|    0.5| 3.96| 0.0|     23.76|2017-04-01|00:00:02|2017-04-01|00:26:29|\n",
      "+-------+---------+--------------------+-------+---------+--------------------+---------------+--------+----------+-----+-----+------------+----+-----+-------+-----+----+----------+----------+--------+----------+--------+\n",
      "only showing top 20 rows\n",
      "\n"
     ]
    }
   ],
   "source": [
    "df_joined = jan.join(loc,[jan.PULocationID==loc.LocationID],'left_outer')\n",
    "df_joined = df_joined.selectExpr(\"LocationID as PULocID\", \"Borough as PUBorough\", \"Zone as PUZone\", \"passenger_count as passenger_count\", \"trip_distance as distance\", \"RateCodeID as RateCodeID\", \"PULocationID as srcID\", \"DOLocationID as dstID\", \"payment_type as payment_type\", \"fare_amount as fare\", \"extra as extra\", \"mta_tax as mta_tax\", \"tip_amount as tip\", \"tolls_amount as toll\", \"total_amount as total_fare\", \"PUDate as PUDate\", \"PUTime as PUTime\", \"DODate as DODate\", \"DOTime as DOTime\")\n",
    "df_joined = df_joined.join(loc,[df_joined.dstID==loc.LocationID],'left_outer')\n",
    "df_joined = df_joined.selectExpr(\"PULocID as PULocID\", \"PUBorough as PUBorough\", \"PUZone as PUZone\", \"LocationID as DOLocID\", \"Borough as DOBorough\", \"Zone as DOZone\", \"passenger_count as passenger_count\", \"distance as distance\", \"RateCodeID as RateCodeID\", \"srcID as srcID\", \"dstID as dstID\", \"payment_type as payment_type\", \"fare as fare\", \"extra as extra\", \"mta_tax as mta_tax\", \"tip as tip\", \"toll as toll\", \"total_fare as total_fare\", \"PUDate as PUDate\", \"PUTime as PUTime\", \"DODate as DODate\", \"DOTime as DOTime\")\n",
    "df_joined.show()"
   ]
  },
  {
   "cell_type": "code",
   "execution_count": 30,
   "metadata": {},
   "outputs": [
    {
     "name": "stdout",
     "output_type": "stream",
     "text": [
      "+--------------------+--------------------+-----+-----+------------------+\n",
      "|                 src|                 dst|count|month|          avg_fare|\n",
      "+--------------------+--------------------+-----+-----+------------------+\n",
      "|Allerton/Pelham G...|        East Tremont|    1|    1|              11.8|\n",
      "|        Battery Park|         Fort Greene|   10|    1|20.003000000000004|\n",
      "|        Battery Park|     Windsor Terrace|    4|    1|            30.445|\n",
      "|   Battery Park City|        East Village| 1716|    1| 18.92319930069934|\n",
      "|        Bloomingdale|           Chinatown|    7|    1| 32.61714285714286|\n",
      "|        Bloomingdale|     Mariners Harbor|    1|    1|             85.42|\n",
      "|           Bronxdale|         Eastchester|    1|    1|               9.3|\n",
      "|  Brooklyn Navy Yard|          Kensington|    1|    1|              18.3|\n",
      "|      Bushwick North|    Hamilton Heights|    4|    1|           53.8475|\n",
      "|      Bushwick South|Long Island City/...|    5|    1|            22.432|\n",
      "|     Carroll Gardens|Upper West Side S...|    9|    1| 38.09444444444445|\n",
      "|      Central Harlem|         Brownsville|    2|    1|            68.005|\n",
      "|Central Harlem North|   Crotona Park East|   18|    1|22.465000000000003|\n",
      "|Central Harlem North|        Far Rockaway|    1|    1|             72.84|\n",
      "|Central Harlem North|           Flatlands|    1|    1|             88.34|\n",
      "|Central Harlem North|              Inwood|   68|    1|18.413676470588236|\n",
      "|        Central Park|Briarwood/Jamaica...|    2|    1|             50.82|\n",
      "|        Clinton Hill|  Brooklyn Navy Yard|   17|    1| 7.828235294117646|\n",
      "|        Clinton Hill|      Central Harlem|    2|    1|             50.84|\n",
      "|        Clinton West|             Madison|    6|    1|52.306666666666665|\n",
      "+--------------------+--------------------+-----+-----+------------------+\n",
      "only showing top 20 rows\n",
      "\n"
     ]
    }
   ],
   "source": [
    "byTotalFare = df_joined.groupBy('PUZone', 'DOZone').avg('total_fare')\n",
    "byDistance = df_joined.groupBy('PUZone', 'DOZone').max('distance')\n",
    "\n",
    "from pyspark.sql.functions import lit\n",
    "df_joined = df_joined.withColumn(\"month\",lit(4))\n",
    "\n",
    "Grapht = df_joined.select('PUZone', 'DOZone', 'month')\n",
    "Grapht = Grapht.groupBy('PUZone', 'DOZone').count()\n",
    "Grapht = Grapht.withColumn(\"month\",lit(4))\n",
    "Grapht = Grapht.selectExpr(\"PUZone as src\", \"DOZone as dst\", \"count as count\", \"month as month\")\n",
    "\n",
    "byTotalFare = df_joined.groupBy('PUZone', 'DOZone').avg('total_fare')\n",
    "Grapht = Grapht.join(byTotalFare,[Grapht.src==byTotalFare.PUZone, Grapht.dst==byTotalFare.DOZone],'left_outer')\n",
    "Grapht = Grapht.drop('PUZone', 'DOZone')\n",
    "Grapht = Grapht.withColumnRenamed(\"avg(total_fare)\", \"avg_fare\")\n",
    "Graph = Graph.union(Grapht)\n",
    "Graph.show()"
   ]
  },
  {
   "cell_type": "code",
   "execution_count": 31,
   "metadata": {},
   "outputs": [
    {
     "name": "stdout",
     "output_type": "stream",
     "text": [
      "+--------------------+--------------------+------------+-----+\n",
      "|              PUZone|              DOZone|max_distance|month|\n",
      "+--------------------+--------------------+------------+-----+\n",
      "|Springfield Garde...|                  NA|      264.71|    1|\n",
      "|          Ocean Hill|Two Bridges/Sewar...|       180.7|    1|\n",
      "|         JFK Airport| UN/Turtle Bay South|       173.2|    1|\n",
      "|     Mariners Harbor|                  NA|      156.17|    1|\n",
      "|        Clinton East|                  NA|       151.7|    1|\n",
      "|Flushing Meadows-...|                  NA|      143.45|    1|\n",
      "|                  NA|                  NA|       143.4|    1|\n",
      "|         JFK Airport|                  NA|       143.4|    1|\n",
      "|       Richmond Hill|                  NA|       141.8|    1|\n",
      "|         JFK Airport|                  NA|      139.17|    1|\n",
      "|Prospect-Lefferts...|        Clinton Hill|       324.0|    2|\n",
      "|           Bay Ridge|                  NA|      298.47|    2|\n",
      "|             Bedford|             Bedford|       282.0|    2|\n",
      "|            Gramercy|                  NA|       221.7|    2|\n",
      "|    Garment District|                  NA|      196.73|    2|\n",
      "|      Sheepshead Bay|             Bedford|       190.2|    2|\n",
      "|Mott Haven/Port M...|                  NA|       182.3|    2|\n",
      "| Little Italy/NoLiTa|                  NA|       142.3|    2|\n",
      "| Little Italy/NoLiTa| Little Italy/NoLiTa|       138.4|    2|\n",
      "|         JFK Airport|  World Trade Center|      132.58|    2|\n",
      "+--------------------+--------------------+------------+-----+\n",
      "only showing top 20 rows\n",
      "\n"
     ]
    }
   ],
   "source": [
    "########## max distance\n",
    "max_distt = df_joined.orderBy('distance', ascending=False)\n",
    "max_distt = max_distt.limit(10)\n",
    "max_distt = max_distt.withColumnRenamed(\"distance\", \"max_distance\")\n",
    "max_distt = max_distt.select('PUZone', 'DOZone', 'max_distance', 'month')\n",
    "max_dist = max_dist.union(max_distt)\n",
    "max_dist.show()"
   ]
  },
  {
   "cell_type": "code",
   "execution_count": 32,
   "metadata": {},
   "outputs": [
    {
     "name": "stdout",
     "output_type": "stream",
     "text": [
      "+--------------------+--------------------+---------+-----+\n",
      "|              PUZone|              DOZone| max_fare|month|\n",
      "+--------------------+--------------------+---------+-----+\n",
      "|Upper West Side S...|                  NV| 625901.6|    1|\n",
      "|Two Bridges/Sewar...|Washington Height...| 538580.0|    1|\n",
      "|Upper East Side S...|     Lenox Hill West|   9001.3|    1|\n",
      "|                  NV|                  NV|  8043.84|    1|\n",
      "|       Midtown North|Times Sq/Theatre ...|   3009.8|    1|\n",
      "|                  NV|                  NV|   3009.3|    1|\n",
      "|           Sunnyside|           Sunnyside|  2000.28|    1|\n",
      "|           Sunnyside|           Sunnyside|  2000.28|    1|\n",
      "|           Sunnyside|           Sunnyside|  2000.28|    1|\n",
      "|           Sunnyside|           Sunnyside|  1000.29|    1|\n",
      "|            Union Sq|      Midtown Center|361772.02|    2|\n",
      "|Upper East Side N...|Upper West Side S...|335545.21|    2|\n",
      "|Upper West Side N...|      Midtown Center|171856.99|    2|\n",
      "|Upper East Side N...|            Gramercy|   8018.6|    2|\n",
      "|                  NV|                  NV|   8009.3|    2|\n",
      "|                  NV|                  NV|   8005.8|    2|\n",
      "|Upper West Side N...| Lincoln Square West|  7003.51|    2|\n",
      "|            Gramercy|            Kips Bay|   6722.4|    2|\n",
      "|                  NV|                  NV|  5447.82|    2|\n",
      "|             Bedford|             Bedford|  1206.24|    2|\n",
      "+--------------------+--------------------+---------+-----+\n",
      "only showing top 20 rows\n",
      "\n"
     ]
    }
   ],
   "source": [
    "######max fare\n",
    "max_faret = df_joined.orderBy('total_fare', ascending=False)\n",
    "max_faret = max_faret.limit(10)\n",
    "max_faret = max_faret.withColumnRenamed(\"total_fare\", \"max_fare\")\n",
    "max_faret = max_faret.select('PUZone', 'DOZone', 'max_fare', 'month')\n",
    "max_fare = max_fare.union(max_faret)\n",
    "max_fare.show()"
   ]
  },
  {
   "cell_type": "code",
   "execution_count": 33,
   "metadata": {},
   "outputs": [
    {
     "name": "stdout",
     "output_type": "stream",
     "text": [
      "+-------+---------+--------------------+-------+---------+--------------------+---------------+--------+----------+-----+-----+------------+----+-----+-------+-----+----+----------+----------+--------+----------+--------+-----+---------+\n",
      "|PULocID|PUBorough|              PUZone|DOLocID|DOBorough|              DOZone|passenger_count|distance|RateCodeID|srcID|dstID|payment_type|fare|extra|mta_tax|  tip|toll|total_fare|    PUDate|  PUTime|    DODate|  DOTime|month|   PUHour|\n",
      "+-------+---------+--------------------+-------+---------+--------------------+---------------+--------+----------+-----+-----+------------+----+-----+-------+-----+----+----------+----------+--------+----------+--------+-----+---------+\n",
      "|    158|Manhattan|Meatpacking/West ...|    113|Manhattan|Greenwich Village...|              1|     1.8|         1|  158|  113|           2|10.5|  0.5|    0.5|  0.0| 0.0|      11.8|2017-04-01|00:00:00|2017-04-01|00:15:07|    4| midnight|\n",
      "|     87|Manhattan|Financial Distric...|    158|Manhattan|Meatpacking/West ...|              3|     3.7|         1|   87|  158|           2|14.5|  0.5|    0.5|  0.0| 0.0|      15.8|2017-04-01|00:00:00|2017-04-01|00:16:23|    4| midnight|\n",
      "|    264|  Unknown|                  NV|    193|   Queens|Queensbridge/Rave...|              1|     0.0|         1|  264|  193|           1| 0.0|  0.0|    0.0|  0.0| 0.0|       0.0|2017-04-01|00:00:00|2017-04-01|10:20:01|    4| midnight|\n",
      "|    230|Manhattan|Times Sq/Theatre ...|      4|Manhattan|       Alphabet City|              2|     3.3|         1|  230|    4|           1|23.5|  0.5|    0.5| 4.95| 0.0|     29.75|2017-04-01|00:00:01|2017-04-01|00:37:05|    4| midnight|\n",
      "|    142|Manhattan| Lincoln Square East|    143|Manhattan| Lincoln Square West|              1|     0.7|         1|  142|  143|           2| 4.5|  0.5|    0.5|  0.0| 0.0|       5.8|2017-04-01|00:00:01|2017-04-01|00:02:56|    4| midnight|\n",
      "|    170|Manhattan|         Murray Hill|    263|Manhattan|      Yorkville West|              1|     2.2|         1|  170|  263|           1| 8.5|  0.5|    0.5| 2.45| 0.0|     12.25|2017-04-01|00:00:01|2017-04-01|00:07:28|    4| midnight|\n",
      "|    100|Manhattan|    Garment District|     48|Manhattan|        Clinton East|              1|     0.7|         1|  100|   48|           1| 7.0|  0.5|    0.5| 1.65| 0.0|      9.95|2017-04-01|00:00:01|2017-04-01|00:08:30|    4| midnight|\n",
      "|    166|Manhattan| Morningside Heights|    166|Manhattan| Morningside Heights|              1|     0.4|         1|  166|  166|           2| 4.0|  0.5|    0.5|  0.0| 0.0|       5.3|2017-04-01|00:00:01|2017-04-01|00:02:40|    4| midnight|\n",
      "|    113|Manhattan|Greenwich Village...|     68|Manhattan|        East Chelsea|              1|    1.23|         1|  113|   68|           1| 8.0|  0.5|    0.5|  1.0| 0.0|      10.3|2017-04-01|00:00:01|2017-04-01|00:10:20|    4| midnight|\n",
      "|     68|Manhattan|        East Chelsea|     68|Manhattan|        East Chelsea|              1|    0.55|         1|   68|   68|           1| 4.0|  0.0|    0.5|  0.0| 0.0|       4.8|2017-04-05|07:52:23|2017-04-05|07:55:02|    4|  morning|\n",
      "|     88|Manhattan|Financial Distric...|    246|Manhattan|West Chelsea/Huds...|              6|    3.72|         1|   88|  246|           1|18.5|  1.0|    0.5| 3.04| 0.0|     25.29|2017-04-26|15:45:22|2017-04-26|16:10:00|    4|afternoon|\n",
      "|    246|Manhattan|West Chelsea/Huds...|    114|Manhattan|Greenwich Village...|              6|    2.29|         1|  246|  114|           1|12.5|  1.0|    0.5|  1.0| 0.0|      15.3|2017-04-26|16:12:29|2017-04-26|16:28:35|    4|afternoon|\n",
      "|    113|Manhattan|Greenwich Village...|    170|Manhattan|         Murray Hill|              6|    1.81|         1|  113|  170|           2|10.0|  1.0|    0.5|  0.0| 0.0|      11.8|2017-04-26|16:32:00|2017-04-26|23:46:19|    4|afternoon|\n",
      "|    162|Manhattan|        Midtown East|    261|Manhattan|  World Trade Center|              1|    5.67|         1|  162|  261|           2|33.0|  0.5|    0.5|  0.0| 0.0|      34.3|2017-04-01|00:00:01|2017-04-01|00:46:22|    4| midnight|\n",
      "|    132|   Queens|         JFK Airport|    234|Manhattan|            Union Sq|              1|   18.21|         2|  132|  234|           1|52.0|  0.0|    0.5|14.64|5.76|      73.2|2017-04-01|00:00:01|2017-04-01|00:31:14|    4| midnight|\n",
      "|    100|Manhattan|    Garment District|     52| Brooklyn|         Cobble Hill|              6|    7.27|         1|  100|   52|           1|50.5|  0.5|    0.5|12.95| 0.0|     64.75|2017-04-01|00:00:01|2017-04-01|01:19:57|    4| midnight|\n",
      "|    230|Manhattan|Times Sq/Theatre ...|    142|Manhattan| Lincoln Square East|              6|    1.06|         1|  230|  142|           1| 6.5|  0.5|    0.5| 1.56| 0.0|      9.36|2017-04-01|00:00:01|2017-04-01|00:06:09|    4| midnight|\n",
      "|    181| Brooklyn|          Park Slope|     61| Brooklyn| Crown Heights North|              2|     1.8|         1|  181|   61|           2| 9.0|  0.5|    0.5|  0.0| 0.0|      10.3|2017-04-01|00:00:02|2017-04-01|00:09:08|    4| midnight|\n",
      "|    170|Manhattan|         Murray Hill|     79|Manhattan|        East Village|              1|    1.71|         1|  170|   79|           1| 9.5|  0.5|    0.5| 2.16| 0.0|     12.96|2017-04-01|00:00:02|2017-04-01|00:12:11|    4| midnight|\n",
      "|    144|Manhattan| Little Italy/NoLiTa|     25| Brooklyn|         Boerum Hill|              1|    3.08|         1|  144|   25|           1|18.5|  0.5|    0.5| 3.96| 0.0|     23.76|2017-04-01|00:00:02|2017-04-01|00:26:29|    4| midnight|\n",
      "+-------+---------+--------------------+-------+---------+--------------------+---------------+--------+----------+-----+-----+------------+----+-----+-------+-----+----+----------+----------+--------+----------+--------+-----+---------+\n",
      "only showing top 20 rows\n",
      "\n"
     ]
    }
   ],
   "source": [
    "#### manipulate time\n",
    "split_col = pyspark.sql.functions.split(df_joined['PUTime'], ':')\n",
    "df_joined = df_joined.withColumn('PUHour', split_col.getItem(0))\n",
    "\n",
    "from pyspark.sql.functions import when\n",
    "\n",
    "df_joined = df_joined.withColumn(\"PUHour\", when((df_joined[\"PUHour\"] >=0) & (df_joined[\"PUHour\"] <6), 'midnight').otherwise(df_joined[\"PUHour\"]))\n",
    "df_joined = df_joined.withColumn(\"PUHour\", when((df_joined[\"PUHour\"] >=6) & (df_joined[\"PUHour\"] <12), 'morning').otherwise(df_joined[\"PUHour\"]))\n",
    "df_joined = df_joined.withColumn(\"PUHour\", when((df_joined[\"PUHour\"] >=12) & (df_joined[\"PUHour\"] <18), 'afternoon').otherwise(df_joined[\"PUHour\"]))\n",
    "df_joined = df_joined.withColumn(\"PUHour\", when((df_joined[\"PUHour\"] >=18) & (df_joined[\"PUHour\"] <=23), 'evening').otherwise(df_joined[\"PUHour\"]))\n",
    "df_joined.show()"
   ]
  },
  {
   "cell_type": "code",
   "execution_count": 34,
   "metadata": {},
   "outputs": [
    {
     "name": "stdout",
     "output_type": "stream",
     "text": [
      "+---------+--------------------+-----+------+\n",
      "|   PUHour|              PUZone|month| count|\n",
      "+---------+--------------------+-----+------+\n",
      "|afternoon|Upper East Side S...|    1|157826|\n",
      "|afternoon|Upper East Side N...|    1|151358|\n",
      "|  evening|Times Sq/Theatre ...|    1|136867|\n",
      "|  evening|      Midtown Center|    1|136487|\n",
      "|afternoon|      Midtown Center|    1|134284|\n",
      "|  evening|            Union Sq|    1|129806|\n",
      "|  evening|        Midtown East|    1|123194|\n",
      "|  morning|Upper East Side N...|    1|115309|\n",
      "|afternoon|        Midtown East|    1|110824|\n",
      "|  evening|        East Village|    1|110726|\n",
      "|afternoon|            Union Sq|    1|109299|\n",
      "|  evening|Penn Station/Madi...|    1|108464|\n",
      "|  evening|Upper East Side S...|    1|105797|\n",
      "|  evening| Lincoln Square East|    1|104454|\n",
      "|  morning|Penn Station/Madi...|    1|104143|\n",
      "|  morning|Upper East Side S...|    1|103239|\n",
      "|afternoon|Penn Station/Madi...|    1|102715|\n",
      "|  evening|        Clinton East|    1|101075|\n",
      "|afternoon|Upper West Side S...|    1| 98988|\n",
      "|afternoon|         Murray Hill|    1| 98182|\n",
      "+---------+--------------------+-----+------+\n",
      "only showing top 20 rows\n",
      "\n"
     ]
    }
   ],
   "source": [
    "###### by time\n",
    "PUByTimet = df_joined.groupBy('PUHour', 'PUZone', 'month').count()\n",
    "PUByTimet = PUByTimet.orderBy('count', ascending=False)\n",
    "PUByTime = PUByTime.union(PUByTimet)\n",
    "PUByTime.show()"
   ]
  },
  {
   "cell_type": "code",
   "execution_count": 35,
   "metadata": {},
   "outputs": [
    {
     "name": "stdout",
     "output_type": "stream",
     "text": [
      "+--------------------+-----+------+\n",
      "|              PUZone|month| count|\n",
      "+--------------------+-----+------+\n",
      "|Upper East Side S...|    1|380663|\n",
      "|Upper East Side N...|    1|363649|\n",
      "|      Midtown Center|    1|360995|\n",
      "|Penn Station/Madi...|    1|339970|\n",
      "|Times Sq/Theatre ...|    1|334079|\n",
      "|            Union Sq|    1|333035|\n",
      "|        Midtown East|    1|330946|\n",
      "|         Murray Hill|    1|306244|\n",
      "|        East Village|    1|303580|\n",
      "|        Clinton East|    1|297414|\n",
      "| Lincoln Square East|    1|277230|\n",
      "|Upper West Side S...|    1|252264|\n",
      "|       Midtown North|    1|250939|\n",
      "|            Gramercy|    1|238695|\n",
      "|       Midtown South|    1|227768|\n",
      "|         JFK Airport|    1|227167|\n",
      "|     Lenox Hill West|    1|226739|\n",
      "|        East Chelsea|    1|224558|\n",
      "|   LaGuardia Airport|    1|212193|\n",
      "|        West Village|    1|211629|\n",
      "+--------------------+-----+------+\n",
      "only showing top 20 rows\n",
      "\n"
     ]
    }
   ],
   "source": [
    "####### best PU locs\n",
    "best_locst = df_joined.groupBy('PUZone', 'month').count()\n",
    "best_locs = best_locs.union(best_locst)\n",
    "best_locs.show()"
   ]
  },
  {
   "cell_type": "code",
   "execution_count": 36,
   "metadata": {},
   "outputs": [],
   "source": [
    "import pandas as pd\n",
    "Graph.toPandas().to_csv('Graph.csv', index=False)"
   ]
  },
  {
   "cell_type": "code",
   "execution_count": 37,
   "metadata": {},
   "outputs": [],
   "source": [
    "max_dist.toPandas().to_csv('Max_distance.csv', index=False)"
   ]
  },
  {
   "cell_type": "code",
   "execution_count": 38,
   "metadata": {},
   "outputs": [],
   "source": [
    "max_fare.toPandas().to_csv('Max_fare.csv', index=False)"
   ]
  },
  {
   "cell_type": "code",
   "execution_count": 39,
   "metadata": {},
   "outputs": [],
   "source": [
    "PUByTime.toPandas().to_csv('PickUpByTime.csv', index=False)"
   ]
  },
  {
   "cell_type": "code",
   "execution_count": 40,
   "metadata": {},
   "outputs": [],
   "source": [
    "best_locs.toPandas().to_csv('Best_PickUp_Locs.csv', index=False)"
   ]
  },
  {
   "cell_type": "code",
   "execution_count": 41,
   "metadata": {},
   "outputs": [],
   "source": [
    "spark.stop()"
   ]
  },
  {
   "cell_type": "code",
   "execution_count": 42,
   "metadata": {},
   "outputs": [],
   "source": [
    "#######################Cluster\n",
    "\n",
    "import pyspark\n",
    "from pyspark.context import SparkContext\n",
    "from pyspark.sql.session import SparkSession\n",
    "sc = SparkContext('local')\n",
    "spark = SparkSession(sc)\n",
    "jan = spark.read.csv('../bigdata/yellow_tripdata_2017-01.csv', header=True, inferSchema = True)\n",
    "\n",
    "loc = spark.read.csv('taxi _zone_lookup.csv', header=True, inferSchema = True)"
   ]
  },
  {
   "cell_type": "code",
   "execution_count": 43,
   "metadata": {},
   "outputs": [
    {
     "name": "stdout",
     "output_type": "stream",
     "text": [
      "+-------+---------+--------------------+-------+---------+--------------------+---------------+--------+----------+-----+-----+------------+----+-----+-------+----+----+----------+----------+--------+----------+--------+-----+\n",
      "|PULocID|PUBorough|              PUZone|DOLocID|DOBorough|              DOZone|passenger_count|distance|RateCodeID|srcID|dstID|payment_type|fare|extra|mta_tax| tip|toll|total_fare|    PUDate|  PUTime|    DODate|  DOTime|month|\n",
      "+-------+---------+--------------------+-------+---------+--------------------+---------------+--------+----------+-----+-----+------------+----+-----+-------+----+----+----------+----------+--------+----------+--------+-----+\n",
      "|    263|Manhattan|      Yorkville West|    161|Manhattan|      Midtown Center|              1|     3.3|         1|  263|  161|           1|12.5|  0.0|    0.5| 2.0| 0.0|      15.3|2017-01-09|11:13:28|2017-01-09|11:25:45|    1|\n",
      "|    186|Manhattan|Penn Station/Madi...|    234|Manhattan|            Union Sq|              1|     0.9|         1|  186|  234|           1| 5.0|  0.0|    0.5|1.45| 0.0|      7.25|2017-01-09|11:32:27|2017-01-09|11:36:01|    1|\n",
      "|    164|Manhattan|       Midtown South|    161|Manhattan|      Midtown Center|              1|     1.1|         1|  164|  161|           1| 5.5|  0.0|    0.5| 1.0| 0.0|       7.3|2017-01-09|11:38:20|2017-01-09|11:42:05|    1|\n",
      "|    236|Manhattan|Upper East Side N...|     75|Manhattan|   East Harlem South|              1|     1.1|         1|  236|   75|           1| 6.0|  0.0|    0.5| 1.7| 0.0|       8.5|2017-01-09|11:52:13|2017-01-09|11:57:36|    1|\n",
      "|    249|Manhattan|        West Village|    234|Manhattan|            Union Sq|              1|    0.02|         2|  249|  234|           2|52.0|  0.0|    0.5| 0.0| 0.0|      52.8|2017-01-01|00:00:00|2017-01-01|00:00:00|    1|\n",
      "|     48|Manhattan|        Clinton East|     48|Manhattan|        Clinton East|              1|     0.5|         1|   48|   48|           2| 4.0|  0.5|    0.5| 0.0| 0.0|       5.3|2017-01-01|00:00:02|2017-01-01|00:03:50|    1|\n",
      "|    186|Manhattan|Penn Station/Madi...|     36| Brooklyn|      Bushwick North|              4|    7.75|         1|  186|   36|           1|22.0|  0.5|    0.5|4.66| 0.0|     27.96|2017-01-01|00:00:02|2017-01-01|00:39:22|    1|\n",
      "|    162|Manhattan|        Midtown East|    161|Manhattan|      Midtown Center|              1|     0.8|         1|  162|  161|           1| 6.0|  0.5|    0.5|1.45| 0.0|      8.75|2017-01-01|00:00:03|2017-01-01|00:06:58|    1|\n",
      "|     48|Manhattan|        Clinton East|     50|Manhattan|        Clinton West|              2|     0.9|         1|   48|   50|           1| 7.0|  0.5|    0.5| 0.0| 0.0|       8.3|2017-01-01|00:00:05|2017-01-01|00:08:33|    1|\n",
      "|    140|Manhattan|     Lenox Hill East|     74|Manhattan|   East Harlem North|              5|    1.76|         1|  140|   74|           2| 7.0|  0.5|    0.5| 0.0| 0.0|       8.3|2017-01-01|00:00:05|2017-01-01|00:05:04|    1|\n",
      "|    138|   Queens|   LaGuardia Airport|    262|Manhattan|      Yorkville East|              1|    8.47|         1|  138|  262|           1|24.0|  0.5|    0.5|7.71|5.54|     38.55|2017-01-01|00:00:05|2017-01-01|00:15:36|    1|\n",
      "|    142|Manhattan| Lincoln Square East|    236|Manhattan|Upper East Side N...|              2|     2.4|         1|  142|  236|           2|10.5|  0.5|    0.5| 0.0| 0.0|      11.8|2017-01-01|00:00:06|2017-01-01|00:11:56|    1|\n",
      "|    161|Manhattan|      Midtown Center|    265|  Unknown|                  NA|              2|    12.6|         5|  161|  265|           1|60.0|  0.0|    0.0|10.0| 0.0|      70.3|2017-01-01|00:00:06|2017-01-01|00:23:37|    1|\n",
      "|    234|Manhattan|            Union Sq|    186|Manhattan|Penn Station/Madi...|              1|     0.9|         1|  234|  186|           1| 7.0|  0.5|    0.5|2.05| 0.0|     10.35|2017-01-01|00:00:06|2017-01-01|00:08:53|    1|\n",
      "|    141|Manhattan|     Lenox Hill West|    107|Manhattan|            Gramercy|              4|    2.43|         1|  141|  107|           1| 9.5|  0.5|    0.5| 2.7| 0.0|      13.5|2017-01-01|00:00:06|2017-01-01|00:09:30|    1|\n",
      "|     79|Manhattan|        East Village|    163|Manhattan|       Midtown North|              2|     2.6|         1|   79|  163|           1|12.5|  0.5|    0.5|2.76| 0.0|     16.56|2017-01-01|00:00:06|2017-01-01|00:16:05|    1|\n",
      "|    148|Manhattan|     Lower East Side|     36| Brooklyn|      Bushwick North|              5|    4.25|         1|  148|   36|           2|16.5|  0.5|    0.5| 0.0| 0.0|      17.8|2017-01-01|00:00:06|2017-01-01|00:18:12|    1|\n",
      "|     48|Manhattan|        Clinton East|     68|Manhattan|        East Chelsea|              1|    0.65|         1|   48|   68|           1| 6.5|  0.5|    0.5| 1.7| 0.0|       9.5|2017-01-01|00:00:07|2017-01-01|00:07:42|    1|\n",
      "|    230|Manhattan|Times Sq/Theatre ...|    148|Manhattan|     Lower East Side|              1|    3.42|         1|  230|  148|           1|22.5|  0.5|    0.5| 0.0| 0.0|      23.8|2017-01-01|00:00:09|2017-01-01|00:34:21|    1|\n",
      "|    186|Manhattan|Penn Station/Madi...|    232|Manhattan|Two Bridges/Sewar...|              1|     6.6|         1|  186|  232|           2|23.0|  0.5|    0.5| 0.0| 0.0|      24.3|2017-01-01|00:00:10|2017-01-01|00:24:52|    1|\n",
      "+-------+---------+--------------------+-------+---------+--------------------+---------------+--------+----------+-----+-----+------------+----+-----+-------+----+----+----------+----------+--------+----------+--------+-----+\n",
      "only showing top 20 rows\n",
      "\n"
     ]
    }
   ],
   "source": [
    "import pyspark.sql.functions\n",
    "\n",
    "split_col = pyspark.sql.functions.split(jan['tpep_pickup_datetime'], ' ')\n",
    "jan = jan.withColumn('PUDate', split_col.getItem(0))\n",
    "jan = jan.withColumn('PUTime', split_col.getItem(1))\n",
    "split_col = pyspark.sql.functions.split(jan['tpep_dropoff_datetime'], ' ')\n",
    "jan = jan.withColumn('DODate', split_col.getItem(0))\n",
    "jan = jan.withColumn('DOTime', split_col.getItem(1))\n",
    "\n",
    "jan = jan.drop('tpep_pickup_datetime','tpep_dropoff_datetime')\n",
    "\n",
    "df_joined = jan.join(loc,[jan.PULocationID==loc.LocationID],'left_outer')\n",
    "df_joined = df_joined.selectExpr(\"LocationID as PULocID\", \"Borough as PUBorough\", \"Zone as PUZone\", \"passenger_count as passenger_count\", \"trip_distance as distance\", \"RateCodeID as RateCodeID\", \"PULocationID as srcID\", \"DOLocationID as dstID\", \"payment_type as payment_type\", \"fare_amount as fare\", \"extra as extra\", \"mta_tax as mta_tax\", \"tip_amount as tip\", \"tolls_amount as toll\", \"total_amount as total_fare\", \"PUDate as PUDate\", \"PUTime as PUTime\", \"DODate as DODate\", \"DOTime as DOTime\")\n",
    "df_joined = df_joined.join(loc,[df_joined.dstID==loc.LocationID],'left_outer')\n",
    "df_joined = df_joined.selectExpr(\"PULocID as PULocID\", \"PUBorough as PUBorough\", \"PUZone as PUZone\", \"LocationID as DOLocID\", \"Borough as DOBorough\", \"Zone as DOZone\", \"passenger_count as passenger_count\", \"distance as distance\", \"RateCodeID as RateCodeID\", \"srcID as srcID\", \"dstID as dstID\", \"payment_type as payment_type\", \"fare as fare\", \"extra as extra\", \"mta_tax as mta_tax\", \"tip as tip\", \"toll as toll\", \"total_fare as total_fare\", \"PUDate as PUDate\", \"PUTime as PUTime\", \"DODate as DODate\", \"DOTime as DOTime\")\n",
    "\n",
    "from pyspark.sql.functions import lit\n",
    "df_joined = df_joined.withColumn(\"month\",lit(1))\n",
    "\n",
    "df_joined.show()"
   ]
  },
  {
   "cell_type": "code",
   "execution_count": 44,
   "metadata": {},
   "outputs": [
    {
     "name": "stdout",
     "output_type": "stream",
     "text": [
      "+-------+---------+--------------------+-------+---------+-----------------+---------------+--------+----------+-----+-----+------------+----+-----+-------+----+----+----------+----------+--------+----------+--------+-----+--------+-------+\n",
      "|PULocID|PUBorough|              PUZone|DOLocID|DOBorough|           DOZone|passenger_count|distance|RateCodeID|srcID|dstID|payment_type|fare|extra|mta_tax| tip|toll|total_fare|    PUDate|  PUTime|    DODate|  DOTime|month|  PUHour|PUClock|\n",
      "+-------+---------+--------------------+-------+---------+-----------------+---------------+--------+----------+-----+-----+------------+----+-----+-------+----+----+----------+----------+--------+----------+--------+-----+--------+-------+\n",
      "|    263|Manhattan|      Yorkville West|    161|Manhattan|   Midtown Center|              1|     3.3|         1|  263|  161|           1|12.5|  0.0|    0.5| 2.0| 0.0|      15.3|2017-01-09|11:13:28|2017-01-09|11:25:45|    1| morning|     11|\n",
      "|    186|Manhattan|Penn Station/Madi...|    234|Manhattan|         Union Sq|              1|     0.9|         1|  186|  234|           1| 5.0|  0.0|    0.5|1.45| 0.0|      7.25|2017-01-09|11:32:27|2017-01-09|11:36:01|    1| morning|     11|\n",
      "|    164|Manhattan|       Midtown South|    161|Manhattan|   Midtown Center|              1|     1.1|         1|  164|  161|           1| 5.5|  0.0|    0.5| 1.0| 0.0|       7.3|2017-01-09|11:38:20|2017-01-09|11:42:05|    1| morning|     11|\n",
      "|    236|Manhattan|Upper East Side N...|     75|Manhattan|East Harlem South|              1|     1.1|         1|  236|   75|           1| 6.0|  0.0|    0.5| 1.7| 0.0|       8.5|2017-01-09|11:52:13|2017-01-09|11:57:36|    1| morning|     11|\n",
      "|    249|Manhattan|        West Village|    234|Manhattan|         Union Sq|              1|    0.02|         2|  249|  234|           2|52.0|  0.0|    0.5| 0.0| 0.0|      52.8|2017-01-01|00:00:00|2017-01-01|00:00:00|    1|midnight|     00|\n",
      "|     48|Manhattan|        Clinton East|     48|Manhattan|     Clinton East|              1|     0.5|         1|   48|   48|           2| 4.0|  0.5|    0.5| 0.0| 0.0|       5.3|2017-01-01|00:00:02|2017-01-01|00:03:50|    1|midnight|     00|\n",
      "|    186|Manhattan|Penn Station/Madi...|     36| Brooklyn|   Bushwick North|              4|    7.75|         1|  186|   36|           1|22.0|  0.5|    0.5|4.66| 0.0|     27.96|2017-01-01|00:00:02|2017-01-01|00:39:22|    1|midnight|     00|\n",
      "|    162|Manhattan|        Midtown East|    161|Manhattan|   Midtown Center|              1|     0.8|         1|  162|  161|           1| 6.0|  0.5|    0.5|1.45| 0.0|      8.75|2017-01-01|00:00:03|2017-01-01|00:06:58|    1|midnight|     00|\n",
      "|     48|Manhattan|        Clinton East|     50|Manhattan|     Clinton West|              2|     0.9|         1|   48|   50|           1| 7.0|  0.5|    0.5| 0.0| 0.0|       8.3|2017-01-01|00:00:05|2017-01-01|00:08:33|    1|midnight|     00|\n",
      "|    140|Manhattan|     Lenox Hill East|     74|Manhattan|East Harlem North|              5|    1.76|         1|  140|   74|           2| 7.0|  0.5|    0.5| 0.0| 0.0|       8.3|2017-01-01|00:00:05|2017-01-01|00:05:04|    1|midnight|     00|\n",
      "+-------+---------+--------------------+-------+---------+-----------------+---------------+--------+----------+-----+-----+------------+----+-----+-------+----+----+----------+----------+--------+----------+--------+-----+--------+-------+\n",
      "only showing top 10 rows\n",
      "\n"
     ]
    }
   ],
   "source": [
    "#### manipulate time\n",
    "split_col = pyspark.sql.functions.split(df_joined['PUTime'], ':')\n",
    "df_joined = df_joined.withColumn('PUHour', split_col.getItem(0))\n",
    "df_joined = df_joined.withColumn('PUClock', split_col.getItem(0))\n",
    "\n",
    "from pyspark.sql.functions import when\n",
    "\n",
    "df_joined = df_joined.withColumn(\"PUHour\", when((df_joined[\"PUHour\"] >=0) & (df_joined[\"PUHour\"] <6), 'midnight').otherwise(df_joined[\"PUHour\"]))\n",
    "df_joined = df_joined.withColumn(\"PUHour\", when((df_joined[\"PUHour\"] >=6) & (df_joined[\"PUHour\"] <12), 'morning').otherwise(df_joined[\"PUHour\"]))\n",
    "df_joined = df_joined.withColumn(\"PUHour\", when((df_joined[\"PUHour\"] >=12) & (df_joined[\"PUHour\"] <18), 'afternoon').otherwise(df_joined[\"PUHour\"]))\n",
    "df_joined = df_joined.withColumn(\"PUHour\", when((df_joined[\"PUHour\"] >=18) & (df_joined[\"PUHour\"] <=23), 'evening').otherwise(df_joined[\"PUHour\"]))\n",
    "\n",
    "df_joined.show(10)"
   ]
  },
  {
   "cell_type": "code",
   "execution_count": 45,
   "metadata": {},
   "outputs": [
    {
     "name": "stdout",
     "output_type": "stream",
     "text": [
      "+-------+---------+--------------------+-------+---------+-----------------+---------------+--------+----------+-----+-----+------------+----+-----+-------+----+----+----------+----------+--------+----------+--------+-----+--------+-------+\n",
      "|PULocID|PUBorough|              PUZone|DOLocID|DOBorough|           DOZone|passenger_count|distance|RateCodeID|srcID|dstID|payment_type|fare|extra|mta_tax| tip|toll|total_fare|    PUDate|  PUTime|    DODate|  DOTime|month|  PUHour|PUClock|\n",
      "+-------+---------+--------------------+-------+---------+-----------------+---------------+--------+----------+-----+-----+------------+----+-----+-------+----+----+----------+----------+--------+----------+--------+-----+--------+-------+\n",
      "|    263|Manhattan|      Yorkville West|    161|Manhattan|   Midtown Center|              1|     3.3|         1|  263|  161|           1|12.5|  0.0|    0.5| 2.0| 0.0|      15.3|2017-01-09|11:13:28|2017-01-09|11:25:45|    1| morning|     11|\n",
      "|    186|Manhattan|Penn Station/Madi...|    234|Manhattan|         Union Sq|              1|     0.9|         1|  186|  234|           1| 5.0|  0.0|    0.5|1.45| 0.0|      7.25|2017-01-09|11:32:27|2017-01-09|11:36:01|    1| morning|     11|\n",
      "|    164|Manhattan|       Midtown South|    161|Manhattan|   Midtown Center|              1|     1.1|         1|  164|  161|           1| 5.5|  0.0|    0.5| 1.0| 0.0|       7.3|2017-01-09|11:38:20|2017-01-09|11:42:05|    1| morning|     11|\n",
      "|    236|Manhattan|Upper East Side N...|     75|Manhattan|East Harlem South|              1|     1.1|         1|  236|   75|           1| 6.0|  0.0|    0.5| 1.7| 0.0|       8.5|2017-01-09|11:52:13|2017-01-09|11:57:36|    1| morning|     11|\n",
      "|    249|Manhattan|        West Village|    234|Manhattan|         Union Sq|              1|    0.02|         2|  249|  234|           2|52.0|  0.0|    0.5| 0.0| 0.0|      52.8|2017-01-01|00:00:00|2017-01-01|00:00:00|    1|midnight|      0|\n",
      "|     48|Manhattan|        Clinton East|     48|Manhattan|     Clinton East|              1|     0.5|         1|   48|   48|           2| 4.0|  0.5|    0.5| 0.0| 0.0|       5.3|2017-01-01|00:00:02|2017-01-01|00:03:50|    1|midnight|      0|\n",
      "|    186|Manhattan|Penn Station/Madi...|     36| Brooklyn|   Bushwick North|              4|    7.75|         1|  186|   36|           1|22.0|  0.5|    0.5|4.66| 0.0|     27.96|2017-01-01|00:00:02|2017-01-01|00:39:22|    1|midnight|      0|\n",
      "|    162|Manhattan|        Midtown East|    161|Manhattan|   Midtown Center|              1|     0.8|         1|  162|  161|           1| 6.0|  0.5|    0.5|1.45| 0.0|      8.75|2017-01-01|00:00:03|2017-01-01|00:06:58|    1|midnight|      0|\n",
      "|     48|Manhattan|        Clinton East|     50|Manhattan|     Clinton West|              2|     0.9|         1|   48|   50|           1| 7.0|  0.5|    0.5| 0.0| 0.0|       8.3|2017-01-01|00:00:05|2017-01-01|00:08:33|    1|midnight|      0|\n",
      "|    140|Manhattan|     Lenox Hill East|     74|Manhattan|East Harlem North|              5|    1.76|         1|  140|   74|           2| 7.0|  0.5|    0.5| 0.0| 0.0|       8.3|2017-01-01|00:00:05|2017-01-01|00:05:04|    1|midnight|      0|\n",
      "+-------+---------+--------------------+-------+---------+-----------------+---------------+--------+----------+-----+-----+------------+----+-----+-------+----+----+----------+----------+--------+----------+--------+-----+--------+-------+\n",
      "only showing top 10 rows\n",
      "\n"
     ]
    }
   ],
   "source": [
    "from pyspark.sql.types import IntegerType\n",
    "df_joined = df_joined.withColumn(\"PUClock\", df_joined[\"PUClock\"].cast(IntegerType()))\n",
    "df_joined.show(10)"
   ]
  },
  {
   "cell_type": "code",
   "execution_count": 46,
   "metadata": {},
   "outputs": [
    {
     "name": "stdout",
     "output_type": "stream",
     "text": [
      "+-------+---------+--------------------+-------+---------+--------------------+---------------+--------+----------+-----+-----+------------+----+-----+-------+----+----+----------+----------+--------+----------+--------+-----+--------+-------+--------------------+\n",
      "|PULocID|PUBorough|              PUZone|DOLocID|DOBorough|              DOZone|passenger_count|distance|RateCodeID|srcID|dstID|payment_type|fare|extra|mta_tax| tip|toll|total_fare|    PUDate|  PUTime|    DODate|  DOTime|month|  PUHour|PUClock|            features|\n",
      "+-------+---------+--------------------+-------+---------+--------------------+---------------+--------+----------+-----+-----+------------+----+-----+-------+----+----+----------+----------+--------+----------+--------+-----+--------+-------+--------------------+\n",
      "|    263|Manhattan|      Yorkville West|    161|Manhattan|      Midtown Center|              1|     3.3|         1|  263|  161|           1|12.5|  0.0|    0.5| 2.0| 0.0|      15.3|2017-01-09|11:13:28|2017-01-09|11:25:45|    1| morning|     11|[1.0,3.3,1.0,263....|\n",
      "|    186|Manhattan|Penn Station/Madi...|    234|Manhattan|            Union Sq|              1|     0.9|         1|  186|  234|           1| 5.0|  0.0|    0.5|1.45| 0.0|      7.25|2017-01-09|11:32:27|2017-01-09|11:36:01|    1| morning|     11|[1.0,0.9,1.0,186....|\n",
      "|    164|Manhattan|       Midtown South|    161|Manhattan|      Midtown Center|              1|     1.1|         1|  164|  161|           1| 5.5|  0.0|    0.5| 1.0| 0.0|       7.3|2017-01-09|11:38:20|2017-01-09|11:42:05|    1| morning|     11|[1.0,1.1,1.0,164....|\n",
      "|    236|Manhattan|Upper East Side N...|     75|Manhattan|   East Harlem South|              1|     1.1|         1|  236|   75|           1| 6.0|  0.0|    0.5| 1.7| 0.0|       8.5|2017-01-09|11:52:13|2017-01-09|11:57:36|    1| morning|     11|[1.0,1.1,1.0,236....|\n",
      "|    249|Manhattan|        West Village|    234|Manhattan|            Union Sq|              1|    0.02|         2|  249|  234|           2|52.0|  0.0|    0.5| 0.0| 0.0|      52.8|2017-01-01|00:00:00|2017-01-01|00:00:00|    1|midnight|      0|[1.0,0.02,2.0,249...|\n",
      "|     48|Manhattan|        Clinton East|     48|Manhattan|        Clinton East|              1|     0.5|         1|   48|   48|           2| 4.0|  0.5|    0.5| 0.0| 0.0|       5.3|2017-01-01|00:00:02|2017-01-01|00:03:50|    1|midnight|      0|[1.0,0.5,1.0,48.0...|\n",
      "|    186|Manhattan|Penn Station/Madi...|     36| Brooklyn|      Bushwick North|              4|    7.75|         1|  186|   36|           1|22.0|  0.5|    0.5|4.66| 0.0|     27.96|2017-01-01|00:00:02|2017-01-01|00:39:22|    1|midnight|      0|[4.0,7.75,1.0,186...|\n",
      "|    162|Manhattan|        Midtown East|    161|Manhattan|      Midtown Center|              1|     0.8|         1|  162|  161|           1| 6.0|  0.5|    0.5|1.45| 0.0|      8.75|2017-01-01|00:00:03|2017-01-01|00:06:58|    1|midnight|      0|[1.0,0.8,1.0,162....|\n",
      "|     48|Manhattan|        Clinton East|     50|Manhattan|        Clinton West|              2|     0.9|         1|   48|   50|           1| 7.0|  0.5|    0.5| 0.0| 0.0|       8.3|2017-01-01|00:00:05|2017-01-01|00:08:33|    1|midnight|      0|[2.0,0.9,1.0,48.0...|\n",
      "|    140|Manhattan|     Lenox Hill East|     74|Manhattan|   East Harlem North|              5|    1.76|         1|  140|   74|           2| 7.0|  0.5|    0.5| 0.0| 0.0|       8.3|2017-01-01|00:00:05|2017-01-01|00:05:04|    1|midnight|      0|[5.0,1.76,1.0,140...|\n",
      "|    138|   Queens|   LaGuardia Airport|    262|Manhattan|      Yorkville East|              1|    8.47|         1|  138|  262|           1|24.0|  0.5|    0.5|7.71|5.54|     38.55|2017-01-01|00:00:05|2017-01-01|00:15:36|    1|midnight|      0|[1.0,8.47,1.0,138...|\n",
      "|    142|Manhattan| Lincoln Square East|    236|Manhattan|Upper East Side N...|              2|     2.4|         1|  142|  236|           2|10.5|  0.5|    0.5| 0.0| 0.0|      11.8|2017-01-01|00:00:06|2017-01-01|00:11:56|    1|midnight|      0|[2.0,2.4,1.0,142....|\n",
      "|    161|Manhattan|      Midtown Center|    265|  Unknown|                  NA|              2|    12.6|         5|  161|  265|           1|60.0|  0.0|    0.0|10.0| 0.0|      70.3|2017-01-01|00:00:06|2017-01-01|00:23:37|    1|midnight|      0|[2.0,12.6,5.0,161...|\n",
      "|    234|Manhattan|            Union Sq|    186|Manhattan|Penn Station/Madi...|              1|     0.9|         1|  234|  186|           1| 7.0|  0.5|    0.5|2.05| 0.0|     10.35|2017-01-01|00:00:06|2017-01-01|00:08:53|    1|midnight|      0|[1.0,0.9,1.0,234....|\n",
      "|    141|Manhattan|     Lenox Hill West|    107|Manhattan|            Gramercy|              4|    2.43|         1|  141|  107|           1| 9.5|  0.5|    0.5| 2.7| 0.0|      13.5|2017-01-01|00:00:06|2017-01-01|00:09:30|    1|midnight|      0|[4.0,2.43,1.0,141...|\n",
      "|     79|Manhattan|        East Village|    163|Manhattan|       Midtown North|              2|     2.6|         1|   79|  163|           1|12.5|  0.5|    0.5|2.76| 0.0|     16.56|2017-01-01|00:00:06|2017-01-01|00:16:05|    1|midnight|      0|[2.0,2.6,1.0,79.0...|\n",
      "|    148|Manhattan|     Lower East Side|     36| Brooklyn|      Bushwick North|              5|    4.25|         1|  148|   36|           2|16.5|  0.5|    0.5| 0.0| 0.0|      17.8|2017-01-01|00:00:06|2017-01-01|00:18:12|    1|midnight|      0|[5.0,4.25,1.0,148...|\n",
      "|     48|Manhattan|        Clinton East|     68|Manhattan|        East Chelsea|              1|    0.65|         1|   48|   68|           1| 6.5|  0.5|    0.5| 1.7| 0.0|       9.5|2017-01-01|00:00:07|2017-01-01|00:07:42|    1|midnight|      0|[1.0,0.65,1.0,48....|\n",
      "|    230|Manhattan|Times Sq/Theatre ...|    148|Manhattan|     Lower East Side|              1|    3.42|         1|  230|  148|           1|22.5|  0.5|    0.5| 0.0| 0.0|      23.8|2017-01-01|00:00:09|2017-01-01|00:34:21|    1|midnight|      0|[1.0,3.42,1.0,230...|\n",
      "|    186|Manhattan|Penn Station/Madi...|    232|Manhattan|Two Bridges/Sewar...|              1|     6.6|         1|  186|  232|           2|23.0|  0.5|    0.5| 0.0| 0.0|      24.3|2017-01-01|00:00:10|2017-01-01|00:24:52|    1|midnight|      0|[1.0,6.6,1.0,186....|\n",
      "+-------+---------+--------------------+-------+---------+--------------------+---------------+--------+----------+-----+-----+------------+----+-----+-------+----+----+----------+----------+--------+----------+--------+-----+--------+-------+--------------------+\n",
      "only showing top 20 rows\n",
      "\n"
     ]
    }
   ],
   "source": [
    "from pyspark.ml.feature import VectorAssembler\n",
    "#vecAssembler = VectorAssembler(inputCols=[\"PULocID\", \"PUBorough\", \"PUZone\", \"DOLocID\",\"DOBorough\", \"DOZone\", \"passenger_count\" ,\"distance\" , \"RateCodeID\", \"srcID\", \"dstID\", \"payment_type\", \"fare\" ,\"extra\", \"mta_tax\",  \"tip\",\"toll\",\"total_fare\", \"PUDate\", \"PUTime\",\"DODate\",\"DOTime\",\"month\" ,\"PUHour\"], outputCol=\"features\")\n",
    "vecAssembler = VectorAssembler(inputCols=[\"passenger_count\" ,\"distance\" , \"RateCodeID\", \"srcID\", \"dstID\", \"payment_type\", \"fare\" ,\"extra\", \"mta_tax\",\"tip\",\"toll\",\"total_fare\",\"month\", \"PUClock\"], outputCol=\"features\")\n",
    "new_df = vecAssembler.transform(df_joined)\n",
    "new_df.show()"
   ]
  },
  {
   "cell_type": "code",
   "execution_count": 47,
   "metadata": {},
   "outputs": [],
   "source": [
    "from pyspark.ml.clustering import KMeans\n",
    "\n",
    "kmeans = KMeans(k=3, seed=1)  # 2 clusters here\n",
    "model = kmeans.fit(new_df.select('features'))"
   ]
  },
  {
   "cell_type": "code",
   "execution_count": 48,
   "metadata": {},
   "outputs": [
    {
     "name": "stdout",
     "output_type": "stream",
     "text": [
      "+-------+---------+--------------------+-------+---------+--------------------+---------------+--------+----------+-----+-----+------------+----+-----+-------+----+----+----------+----------+--------+----------+--------+-----+--------+-------+--------------------+----------+\n",
      "|PULocID|PUBorough|              PUZone|DOLocID|DOBorough|              DOZone|passenger_count|distance|RateCodeID|srcID|dstID|payment_type|fare|extra|mta_tax| tip|toll|total_fare|    PUDate|  PUTime|    DODate|  DOTime|month|  PUHour|PUClock|            features|prediction|\n",
      "+-------+---------+--------------------+-------+---------+--------------------+---------------+--------+----------+-----+-----+------------+----+-----+-------+----+----+----------+----------+--------+----------+--------+-----+--------+-------+--------------------+----------+\n",
      "|    263|Manhattan|      Yorkville West|    161|Manhattan|      Midtown Center|              1|     3.3|         1|  263|  161|           1|12.5|  0.0|    0.5| 2.0| 0.0|      15.3|2017-01-09|11:13:28|2017-01-09|11:25:45|    1| morning|     11|[1.0,3.3,1.0,263....|         2|\n",
      "|    186|Manhattan|Penn Station/Madi...|    234|Manhattan|            Union Sq|              1|     0.9|         1|  186|  234|           1| 5.0|  0.0|    0.5|1.45| 0.0|      7.25|2017-01-09|11:32:27|2017-01-09|11:36:01|    1| morning|     11|[1.0,0.9,1.0,186....|         2|\n",
      "|    164|Manhattan|       Midtown South|    161|Manhattan|      Midtown Center|              1|     1.1|         1|  164|  161|           1| 5.5|  0.0|    0.5| 1.0| 0.0|       7.3|2017-01-09|11:38:20|2017-01-09|11:42:05|    1| morning|     11|[1.0,1.1,1.0,164....|         2|\n",
      "|    236|Manhattan|Upper East Side N...|     75|Manhattan|   East Harlem South|              1|     1.1|         1|  236|   75|           1| 6.0|  0.0|    0.5| 1.7| 0.0|       8.5|2017-01-09|11:52:13|2017-01-09|11:57:36|    1| morning|     11|[1.0,1.1,1.0,236....|         0|\n",
      "|    249|Manhattan|        West Village|    234|Manhattan|            Union Sq|              1|    0.02|         2|  249|  234|           2|52.0|  0.0|    0.5| 0.0| 0.0|      52.8|2017-01-01|00:00:00|2017-01-01|00:00:00|    1|midnight|      0|[1.0,0.02,2.0,249...|         2|\n",
      "|     48|Manhattan|        Clinton East|     48|Manhattan|        Clinton East|              1|     0.5|         1|   48|   48|           2| 4.0|  0.5|    0.5| 0.0| 0.0|       5.3|2017-01-01|00:00:02|2017-01-01|00:03:50|    1|midnight|      0|[1.0,0.5,1.0,48.0...|         0|\n",
      "|    186|Manhattan|Penn Station/Madi...|     36| Brooklyn|      Bushwick North|              4|    7.75|         1|  186|   36|           1|22.0|  0.5|    0.5|4.66| 0.0|     27.96|2017-01-01|00:00:02|2017-01-01|00:39:22|    1|midnight|      0|[4.0,7.75,1.0,186...|         0|\n",
      "|    162|Manhattan|        Midtown East|    161|Manhattan|      Midtown Center|              1|     0.8|         1|  162|  161|           1| 6.0|  0.5|    0.5|1.45| 0.0|      8.75|2017-01-01|00:00:03|2017-01-01|00:06:58|    1|midnight|      0|[1.0,0.8,1.0,162....|         2|\n",
      "|     48|Manhattan|        Clinton East|     50|Manhattan|        Clinton West|              2|     0.9|         1|   48|   50|           1| 7.0|  0.5|    0.5| 0.0| 0.0|       8.3|2017-01-01|00:00:05|2017-01-01|00:08:33|    1|midnight|      0|[2.0,0.9,1.0,48.0...|         0|\n",
      "|    140|Manhattan|     Lenox Hill East|     74|Manhattan|   East Harlem North|              5|    1.76|         1|  140|   74|           2| 7.0|  0.5|    0.5| 0.0| 0.0|       8.3|2017-01-01|00:00:05|2017-01-01|00:05:04|    1|midnight|      0|[5.0,1.76,1.0,140...|         0|\n",
      "|    138|   Queens|   LaGuardia Airport|    262|Manhattan|      Yorkville East|              1|    8.47|         1|  138|  262|           1|24.0|  0.5|    0.5|7.71|5.54|     38.55|2017-01-01|00:00:05|2017-01-01|00:15:36|    1|midnight|      0|[1.0,8.47,1.0,138...|         2|\n",
      "|    142|Manhattan| Lincoln Square East|    236|Manhattan|Upper East Side N...|              2|     2.4|         1|  142|  236|           2|10.5|  0.5|    0.5| 0.0| 0.0|      11.8|2017-01-01|00:00:06|2017-01-01|00:11:56|    1|midnight|      0|[2.0,2.4,1.0,142....|         2|\n",
      "|    161|Manhattan|      Midtown Center|    265|  Unknown|                  NA|              2|    12.6|         5|  161|  265|           1|60.0|  0.0|    0.0|10.0| 0.0|      70.3|2017-01-01|00:00:06|2017-01-01|00:23:37|    1|midnight|      0|[2.0,12.6,5.0,161...|         2|\n",
      "|    234|Manhattan|            Union Sq|    186|Manhattan|Penn Station/Madi...|              1|     0.9|         1|  234|  186|           1| 7.0|  0.5|    0.5|2.05| 0.0|     10.35|2017-01-01|00:00:06|2017-01-01|00:08:53|    1|midnight|      0|[1.0,0.9,1.0,234....|         2|\n",
      "|    141|Manhattan|     Lenox Hill West|    107|Manhattan|            Gramercy|              4|    2.43|         1|  141|  107|           1| 9.5|  0.5|    0.5| 2.7| 0.0|      13.5|2017-01-01|00:00:06|2017-01-01|00:09:30|    1|midnight|      0|[4.0,2.43,1.0,141...|         0|\n",
      "|     79|Manhattan|        East Village|    163|Manhattan|       Midtown North|              2|     2.6|         1|   79|  163|           1|12.5|  0.5|    0.5|2.76| 0.0|     16.56|2017-01-01|00:00:06|2017-01-01|00:16:05|    1|midnight|      0|[2.0,2.6,1.0,79.0...|         0|\n",
      "|    148|Manhattan|     Lower East Side|     36| Brooklyn|      Bushwick North|              5|    4.25|         1|  148|   36|           2|16.5|  0.5|    0.5| 0.0| 0.0|      17.8|2017-01-01|00:00:06|2017-01-01|00:18:12|    1|midnight|      0|[5.0,4.25,1.0,148...|         0|\n",
      "|     48|Manhattan|        Clinton East|     68|Manhattan|        East Chelsea|              1|    0.65|         1|   48|   68|           1| 6.5|  0.5|    0.5| 1.7| 0.0|       9.5|2017-01-01|00:00:07|2017-01-01|00:07:42|    1|midnight|      0|[1.0,0.65,1.0,48....|         0|\n",
      "|    230|Manhattan|Times Sq/Theatre ...|    148|Manhattan|     Lower East Side|              1|    3.42|         1|  230|  148|           1|22.5|  0.5|    0.5| 0.0| 0.0|      23.8|2017-01-01|00:00:09|2017-01-01|00:34:21|    1|midnight|      0|[1.0,3.42,1.0,230...|         2|\n",
      "|    186|Manhattan|Penn Station/Madi...|    232|Manhattan|Two Bridges/Sewar...|              1|     6.6|         1|  186|  232|           2|23.0|  0.5|    0.5| 0.0| 0.0|      24.3|2017-01-01|00:00:10|2017-01-01|00:24:52|    1|midnight|      0|[1.0,6.6,1.0,186....|         2|\n",
      "+-------+---------+--------------------+-------+---------+--------------------+---------------+--------+----------+-----+-----+------------+----+-----+-------+----+----+----------+----------+--------+----------+--------+-----+--------+-------+--------------------+----------+\n",
      "only showing top 20 rows\n",
      "\n"
     ]
    }
   ],
   "source": [
    "transformed = model.transform(new_df)\n",
    "transformed.show()"
   ]
  },
  {
   "cell_type": "code",
   "execution_count": 49,
   "metadata": {},
   "outputs": [
    {
     "name": "stdout",
     "output_type": "stream",
     "text": [
      "+----------+------------------+------------------+------------------+-----------------+-------------------+------------------+------------------+-----------------+\n",
      "|prediction|          avg_fare|      avg_distance|     avg_passenger|          avg_tip|           var_fare|      var_distance|     var_passenger|          var_tip|\n",
      "+----------+------------------+------------------+------------------+-----------------+-------------------+------------------+------------------+-----------------+\n",
      "|         1|          582240.8|               0.0|               2.0|              0.0|3.812530913279998E9|               0.0|               2.0|              0.0|\n",
      "|         2|14.176325674156118|2.4422242609346267|1.6243608399910456|1.611476741317611| 153.42641663155626|10.230785947969945|1.6082686820964247|6.093270927128124|\n",
      "|         0|16.914793870864997| 3.269397492359212|1.6346444529247215|1.922589285284459|  243.2696916855305|16.115425474835977|1.6297981608965104|7.192955951568473|\n",
      "+----------+------------------+------------------+------------------+-----------------+-------------------+------------------+------------------+-----------------+\n",
      "\n"
     ]
    }
   ],
   "source": [
    "# load function\n",
    "from pyspark.sql import functions as F\n",
    "import pandas as pd\n",
    "\n",
    "# aggregate data\n",
    "stat = transformed.groupby('prediction').agg(\n",
    "    F.avg(F.col('total_fare')).alias('avg_fare'),\n",
    "    F.avg(F.col('distance')).alias('avg_distance'),\n",
    "    F.avg(F.col('passenger_count')).alias('avg_passenger'),\n",
    "    F.avg(F.col('tip')).alias('avg_tip'),\n",
    "    F.variance(F.col('total_fare')).alias('var_fare'),\n",
    "    F.variance(F.col('distance')).alias('var_distance'),\n",
    "    F.variance(F.col('passenger_count')).alias('var_passenger'),\n",
    "    F.variance(F.col('tip')).alias('var_tip')\n",
    ")\n",
    "stat.toPandas().to_csv('Cluster_stat_jan.csv', index=False)\n",
    "stat.show()"
   ]
  },
  {
   "cell_type": "code",
   "execution_count": 50,
   "metadata": {},
   "outputs": [],
   "source": [
    "spark.stop()"
   ]
  },
  {
   "cell_type": "code",
   "execution_count": null,
   "metadata": {},
   "outputs": [],
   "source": []
  }
 ],
 "metadata": {
  "kernelspec": {
   "display_name": "Python 3",
   "language": "python",
   "name": "python3"
  },
  "language_info": {
   "codemirror_mode": {
    "name": "ipython",
    "version": 3
   },
   "file_extension": ".py",
   "mimetype": "text/x-python",
   "name": "python",
   "nbconvert_exporter": "python",
   "pygments_lexer": "ipython3",
   "version": "3.7.2"
  }
 },
 "nbformat": 4,
 "nbformat_minor": 2
}
