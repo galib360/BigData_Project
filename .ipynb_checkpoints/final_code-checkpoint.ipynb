{
 "cells": [
  {
   "cell_type": "code",
   "execution_count": 9,
   "metadata": {},
   "outputs": [],
   "source": [
    "#########START\n",
    "spark.stop()\n",
    "import pyspark\n",
    "from pyspark.context import SparkContext\n",
    "from pyspark.sql.session import SparkSession\n",
    "sc = SparkContext('local')\n",
    "spark = SparkSession(sc)\n",
    "jan = spark.read.csv('../bigdata/yellow_tripdata_2017-01.csv', header=True, inferSchema = True)\n",
    "\n",
    "loc = spark.read.csv('taxi _zone_lookup.csv', header=True, inferSchema = True)\n"
   ]
  },
  {
   "cell_type": "code",
   "execution_count": 10,
   "metadata": {},
   "outputs": [
    {
     "name": "stdout",
     "output_type": "stream",
     "text": [
      "+-------+---------+--------------------+-------+---------+--------------------+---------------+--------+----------+-----+-----+------------+----+-----+-------+----+----+----------+----------+--------+----------+--------+\n",
      "|PULocID|PUBorough|              PUZone|DOLocID|DOBorough|              DOZone|passenger_count|distance|RateCodeID|srcID|dstID|payment_type|fare|extra|mta_tax| tip|toll|total_fare|    PUDate|  PUTime|    DODate|  DOTime|\n",
      "+-------+---------+--------------------+-------+---------+--------------------+---------------+--------+----------+-----+-----+------------+----+-----+-------+----+----+----------+----------+--------+----------+--------+\n",
      "|    263|Manhattan|      Yorkville West|    161|Manhattan|      Midtown Center|              1|     3.3|         1|  263|  161|           1|12.5|  0.0|    0.5| 2.0| 0.0|      15.3|2017-01-09|11:13:28|2017-01-09|11:25:45|\n",
      "|    186|Manhattan|Penn Station/Madi...|    234|Manhattan|            Union Sq|              1|     0.9|         1|  186|  234|           1| 5.0|  0.0|    0.5|1.45| 0.0|      7.25|2017-01-09|11:32:27|2017-01-09|11:36:01|\n",
      "|    164|Manhattan|       Midtown South|    161|Manhattan|      Midtown Center|              1|     1.1|         1|  164|  161|           1| 5.5|  0.0|    0.5| 1.0| 0.0|       7.3|2017-01-09|11:38:20|2017-01-09|11:42:05|\n",
      "|    236|Manhattan|Upper East Side N...|     75|Manhattan|   East Harlem South|              1|     1.1|         1|  236|   75|           1| 6.0|  0.0|    0.5| 1.7| 0.0|       8.5|2017-01-09|11:52:13|2017-01-09|11:57:36|\n",
      "|    249|Manhattan|        West Village|    234|Manhattan|            Union Sq|              1|    0.02|         2|  249|  234|           2|52.0|  0.0|    0.5| 0.0| 0.0|      52.8|2017-01-01|00:00:00|2017-01-01|00:00:00|\n",
      "|     48|Manhattan|        Clinton East|     48|Manhattan|        Clinton East|              1|     0.5|         1|   48|   48|           2| 4.0|  0.5|    0.5| 0.0| 0.0|       5.3|2017-01-01|00:00:02|2017-01-01|00:03:50|\n",
      "|    186|Manhattan|Penn Station/Madi...|     36| Brooklyn|      Bushwick North|              4|    7.75|         1|  186|   36|           1|22.0|  0.5|    0.5|4.66| 0.0|     27.96|2017-01-01|00:00:02|2017-01-01|00:39:22|\n",
      "|    162|Manhattan|        Midtown East|    161|Manhattan|      Midtown Center|              1|     0.8|         1|  162|  161|           1| 6.0|  0.5|    0.5|1.45| 0.0|      8.75|2017-01-01|00:00:03|2017-01-01|00:06:58|\n",
      "|     48|Manhattan|        Clinton East|     50|Manhattan|        Clinton West|              2|     0.9|         1|   48|   50|           1| 7.0|  0.5|    0.5| 0.0| 0.0|       8.3|2017-01-01|00:00:05|2017-01-01|00:08:33|\n",
      "|    140|Manhattan|     Lenox Hill East|     74|Manhattan|   East Harlem North|              5|    1.76|         1|  140|   74|           2| 7.0|  0.5|    0.5| 0.0| 0.0|       8.3|2017-01-01|00:00:05|2017-01-01|00:05:04|\n",
      "|    138|   Queens|   LaGuardia Airport|    262|Manhattan|      Yorkville East|              1|    8.47|         1|  138|  262|           1|24.0|  0.5|    0.5|7.71|5.54|     38.55|2017-01-01|00:00:05|2017-01-01|00:15:36|\n",
      "|    142|Manhattan| Lincoln Square East|    236|Manhattan|Upper East Side N...|              2|     2.4|         1|  142|  236|           2|10.5|  0.5|    0.5| 0.0| 0.0|      11.8|2017-01-01|00:00:06|2017-01-01|00:11:56|\n",
      "|    161|Manhattan|      Midtown Center|    265|  Unknown|                  NA|              2|    12.6|         5|  161|  265|           1|60.0|  0.0|    0.0|10.0| 0.0|      70.3|2017-01-01|00:00:06|2017-01-01|00:23:37|\n",
      "|    234|Manhattan|            Union Sq|    186|Manhattan|Penn Station/Madi...|              1|     0.9|         1|  234|  186|           1| 7.0|  0.5|    0.5|2.05| 0.0|     10.35|2017-01-01|00:00:06|2017-01-01|00:08:53|\n",
      "|    141|Manhattan|     Lenox Hill West|    107|Manhattan|            Gramercy|              4|    2.43|         1|  141|  107|           1| 9.5|  0.5|    0.5| 2.7| 0.0|      13.5|2017-01-01|00:00:06|2017-01-01|00:09:30|\n",
      "|     79|Manhattan|        East Village|    163|Manhattan|       Midtown North|              2|     2.6|         1|   79|  163|           1|12.5|  0.5|    0.5|2.76| 0.0|     16.56|2017-01-01|00:00:06|2017-01-01|00:16:05|\n",
      "|    148|Manhattan|     Lower East Side|     36| Brooklyn|      Bushwick North|              5|    4.25|         1|  148|   36|           2|16.5|  0.5|    0.5| 0.0| 0.0|      17.8|2017-01-01|00:00:06|2017-01-01|00:18:12|\n",
      "|     48|Manhattan|        Clinton East|     68|Manhattan|        East Chelsea|              1|    0.65|         1|   48|   68|           1| 6.5|  0.5|    0.5| 1.7| 0.0|       9.5|2017-01-01|00:00:07|2017-01-01|00:07:42|\n",
      "|    230|Manhattan|Times Sq/Theatre ...|    148|Manhattan|     Lower East Side|              1|    3.42|         1|  230|  148|           1|22.5|  0.5|    0.5| 0.0| 0.0|      23.8|2017-01-01|00:00:09|2017-01-01|00:34:21|\n",
      "|    186|Manhattan|Penn Station/Madi...|    232|Manhattan|Two Bridges/Sewar...|              1|     6.6|         1|  186|  232|           2|23.0|  0.5|    0.5| 0.0| 0.0|      24.3|2017-01-01|00:00:10|2017-01-01|00:24:52|\n",
      "+-------+---------+--------------------+-------+---------+--------------------+---------------+--------+----------+-----+-----+------------+----+-----+-------+----+----+----------+----------+--------+----------+--------+\n",
      "only showing top 20 rows\n",
      "\n"
     ]
    }
   ],
   "source": [
    "import pyspark.sql.functions\n",
    "\n",
    "split_col = pyspark.sql.functions.split(jan['tpep_pickup_datetime'], ' ')\n",
    "jan = jan.withColumn('PUDate', split_col.getItem(0))\n",
    "jan = jan.withColumn('PUTime', split_col.getItem(1))\n",
    "split_col = pyspark.sql.functions.split(jan['tpep_dropoff_datetime'], ' ')\n",
    "jan = jan.withColumn('DODate', split_col.getItem(0))\n",
    "jan = jan.withColumn('DOTime', split_col.getItem(1))\n",
    "\n",
    "jan = jan.drop('tpep_pickup_datetime','tpep_dropoff_datetime')\n",
    "\n",
    "df_joined = jan.join(loc,[jan.PULocationID==loc.LocationID],'left_outer')\n",
    "df_joined = df_joined.selectExpr(\"LocationID as PULocID\", \"Borough as PUBorough\", \"Zone as PUZone\", \"passenger_count as passenger_count\", \"trip_distance as distance\", \"RateCodeID as RateCodeID\", \"PULocationID as srcID\", \"DOLocationID as dstID\", \"payment_type as payment_type\", \"fare_amount as fare\", \"extra as extra\", \"mta_tax as mta_tax\", \"tip_amount as tip\", \"tolls_amount as toll\", \"total_amount as total_fare\", \"PUDate as PUDate\", \"PUTime as PUTime\", \"DODate as DODate\", \"DOTime as DOTime\")\n",
    "df_joined = df_joined.join(loc,[df_joined.dstID==loc.LocationID],'left_outer')\n",
    "df_joined = df_joined.selectExpr(\"PULocID as PULocID\", \"PUBorough as PUBorough\", \"PUZone as PUZone\", \"LocationID as DOLocID\", \"Borough as DOBorough\", \"Zone as DOZone\", \"passenger_count as passenger_count\", \"distance as distance\", \"RateCodeID as RateCodeID\", \"srcID as srcID\", \"dstID as dstID\", \"payment_type as payment_type\", \"fare as fare\", \"extra as extra\", \"mta_tax as mta_tax\", \"tip as tip\", \"toll as toll\", \"total_fare as total_fare\", \"PUDate as PUDate\", \"PUTime as PUTime\", \"DODate as DODate\", \"DOTime as DOTime\")\n",
    "df_joined.show()"
   ]
  },
  {
   "cell_type": "code",
   "execution_count": 11,
   "metadata": {},
   "outputs": [
    {
     "name": "stdout",
     "output_type": "stream",
     "text": [
      "+--------------------+--------------------+-----+-----+------------------+\n",
      "|                 src|                 dst|count|month|          avg_fare|\n",
      "+--------------------+--------------------+-----+-----+------------------+\n",
      "|Allerton/Pelham G...|        East Tremont|    1|    1|              11.8|\n",
      "|        Battery Park|         Fort Greene|   10|    1|20.003000000000004|\n",
      "|        Battery Park|     Windsor Terrace|    4|    1|            30.445|\n",
      "|   Battery Park City|        East Village| 1716|    1| 18.92319930069934|\n",
      "|        Bloomingdale|           Chinatown|    7|    1| 32.61714285714286|\n",
      "|        Bloomingdale|     Mariners Harbor|    1|    1|             85.42|\n",
      "|           Bronxdale|         Eastchester|    1|    1|               9.3|\n",
      "|  Brooklyn Navy Yard|          Kensington|    1|    1|              18.3|\n",
      "|      Bushwick North|    Hamilton Heights|    4|    1|           53.8475|\n",
      "|      Bushwick South|Long Island City/...|    5|    1|            22.432|\n",
      "|     Carroll Gardens|Upper West Side S...|    9|    1| 38.09444444444445|\n",
      "|      Central Harlem|         Brownsville|    2|    1|            68.005|\n",
      "|Central Harlem North|   Crotona Park East|   18|    1|22.465000000000003|\n",
      "|Central Harlem North|        Far Rockaway|    1|    1|             72.84|\n",
      "|Central Harlem North|           Flatlands|    1|    1|             88.34|\n",
      "|Central Harlem North|              Inwood|   68|    1|18.413676470588236|\n",
      "|        Central Park|Briarwood/Jamaica...|    2|    1|             50.82|\n",
      "|        Clinton Hill|  Brooklyn Navy Yard|   17|    1| 7.828235294117646|\n",
      "|        Clinton Hill|      Central Harlem|    2|    1|             50.84|\n",
      "|        Clinton West|             Madison|    6|    1|52.306666666666665|\n",
      "+--------------------+--------------------+-----+-----+------------------+\n",
      "only showing top 20 rows\n",
      "\n"
     ]
    }
   ],
   "source": [
    "byTotalFare = df_joined.groupBy('PUZone', 'DOZone').avg('total_fare')\n",
    "byDistance = df_joined.groupBy('PUZone', 'DOZone').max('distance')\n",
    "\n",
    "from pyspark.sql.functions import lit\n",
    "df_joined = df_joined.withColumn(\"month\",lit(1))\n",
    "\n",
    "Graph = df_joined.select('PUZone', 'DOZone', 'month')\n",
    "Graph = Graph.groupBy('PUZone', 'DOZone').count()\n",
    "Graph = Graph.withColumn(\"month\",lit(1))\n",
    "Graph = Graph.selectExpr(\"PUZone as src\", \"DOZone as dst\", \"count as count\", \"month as month\")\n",
    "\n",
    "byTotalFare = df_joined.groupBy('PUZone', 'DOZone').avg('total_fare')\n",
    "Graph = Graph.join(byTotalFare,[Graph.src==byTotalFare.PUZone, Graph.dst==byTotalFare.DOZone],'left_outer')\n",
    "Graph = Graph.drop('PUZone', 'DOZone')\n",
    "Graph = Graph.withColumnRenamed(\"avg(total_fare)\", \"avg_fare\")\n",
    "Graph.show()"
   ]
  },
  {
   "cell_type": "code",
   "execution_count": 5,
   "metadata": {},
   "outputs": [
    {
     "name": "stdout",
     "output_type": "stream",
     "text": [
      "+--------------------+--------------------+------------+-----+\n",
      "|              PUZone|              DOZone|max_distance|month|\n",
      "+--------------------+--------------------+------------+-----+\n",
      "|Springfield Garde...|                  NA|      264.71|    1|\n",
      "|          Ocean Hill|Two Bridges/Sewar...|       180.7|    1|\n",
      "|         JFK Airport| UN/Turtle Bay South|       173.2|    1|\n",
      "|     Mariners Harbor|                  NA|      156.17|    1|\n",
      "|        Clinton East|                  NA|       151.7|    1|\n",
      "|Flushing Meadows-...|                  NA|      143.45|    1|\n",
      "|                  NA|                  NA|       143.4|    1|\n",
      "|         JFK Airport|                  NA|       143.4|    1|\n",
      "|       Richmond Hill|                  NA|       141.8|    1|\n",
      "|         JFK Airport|                  NA|      139.17|    1|\n",
      "+--------------------+--------------------+------------+-----+\n",
      "\n"
     ]
    }
   ],
   "source": [
    "\n",
    "########## max distance\n",
    "max_dist = df_joined.orderBy('distance', ascending=False)\n",
    "max_dist = max_dist.limit(10)\n",
    "max_dist = max_dist.withColumnRenamed(\"distance\", \"max_distance\")\n",
    "max_dist = max_dist.select('PUZone', 'DOZone', 'max_distance', 'month')\n",
    "max_dist.show()"
   ]
  },
  {
   "cell_type": "code",
   "execution_count": 6,
   "metadata": {},
   "outputs": [
    {
     "name": "stdout",
     "output_type": "stream",
     "text": [
      "+--------------------+--------------------+--------+-----+\n",
      "|              PUZone|              DOZone|max_fare|month|\n",
      "+--------------------+--------------------+--------+-----+\n",
      "|Upper West Side S...|                  NV|625901.6|    1|\n",
      "|Two Bridges/Sewar...|Washington Height...|538580.0|    1|\n",
      "|Upper East Side S...|     Lenox Hill West|  9001.3|    1|\n",
      "|                  NV|                  NV| 8043.84|    1|\n",
      "|       Midtown North|Times Sq/Theatre ...|  3009.8|    1|\n",
      "|                  NV|                  NV|  3009.3|    1|\n",
      "|           Sunnyside|           Sunnyside| 2000.28|    1|\n",
      "|           Sunnyside|           Sunnyside| 2000.28|    1|\n",
      "|           Sunnyside|           Sunnyside| 2000.28|    1|\n",
      "|           Sunnyside|           Sunnyside| 1000.29|    1|\n",
      "+--------------------+--------------------+--------+-----+\n",
      "\n"
     ]
    }
   ],
   "source": [
    "\n",
    "######max fare\n",
    "max_fare = df_joined.orderBy('total_fare', ascending=False)\n",
    "max_fare = max_fare.limit(10)\n",
    "max_fare = max_fare.withColumnRenamed(\"total_fare\", \"max_fare\")\n",
    "max_fare = max_fare.select('PUZone', 'DOZone', 'max_fare', 'month')\n",
    "max_fare.show()"
   ]
  },
  {
   "cell_type": "code",
   "execution_count": 12,
   "metadata": {},
   "outputs": [
    {
     "name": "stdout",
     "output_type": "stream",
     "text": [
      "+-------+---------+--------------------+-------+---------+-----------------+---------------+--------+----------+-----+-----+------------+----+-----+-------+----+----+----------+----------+--------+----------+--------+-----+--------+-------+\n",
      "|PULocID|PUBorough|              PUZone|DOLocID|DOBorough|           DOZone|passenger_count|distance|RateCodeID|srcID|dstID|payment_type|fare|extra|mta_tax| tip|toll|total_fare|    PUDate|  PUTime|    DODate|  DOTime|month|  PUHour|PUClock|\n",
      "+-------+---------+--------------------+-------+---------+-----------------+---------------+--------+----------+-----+-----+------------+----+-----+-------+----+----+----------+----------+--------+----------+--------+-----+--------+-------+\n",
      "|    263|Manhattan|      Yorkville West|    161|Manhattan|   Midtown Center|              1|     3.3|         1|  263|  161|           1|12.5|  0.0|    0.5| 2.0| 0.0|      15.3|2017-01-09|11:13:28|2017-01-09|11:25:45|    1| morning|     11|\n",
      "|    186|Manhattan|Penn Station/Madi...|    234|Manhattan|         Union Sq|              1|     0.9|         1|  186|  234|           1| 5.0|  0.0|    0.5|1.45| 0.0|      7.25|2017-01-09|11:32:27|2017-01-09|11:36:01|    1| morning|     11|\n",
      "|    164|Manhattan|       Midtown South|    161|Manhattan|   Midtown Center|              1|     1.1|         1|  164|  161|           1| 5.5|  0.0|    0.5| 1.0| 0.0|       7.3|2017-01-09|11:38:20|2017-01-09|11:42:05|    1| morning|     11|\n",
      "|    236|Manhattan|Upper East Side N...|     75|Manhattan|East Harlem South|              1|     1.1|         1|  236|   75|           1| 6.0|  0.0|    0.5| 1.7| 0.0|       8.5|2017-01-09|11:52:13|2017-01-09|11:57:36|    1| morning|     11|\n",
      "|    249|Manhattan|        West Village|    234|Manhattan|         Union Sq|              1|    0.02|         2|  249|  234|           2|52.0|  0.0|    0.5| 0.0| 0.0|      52.8|2017-01-01|00:00:00|2017-01-01|00:00:00|    1|midnight|     00|\n",
      "|     48|Manhattan|        Clinton East|     48|Manhattan|     Clinton East|              1|     0.5|         1|   48|   48|           2| 4.0|  0.5|    0.5| 0.0| 0.0|       5.3|2017-01-01|00:00:02|2017-01-01|00:03:50|    1|midnight|     00|\n",
      "|    186|Manhattan|Penn Station/Madi...|     36| Brooklyn|   Bushwick North|              4|    7.75|         1|  186|   36|           1|22.0|  0.5|    0.5|4.66| 0.0|     27.96|2017-01-01|00:00:02|2017-01-01|00:39:22|    1|midnight|     00|\n",
      "|    162|Manhattan|        Midtown East|    161|Manhattan|   Midtown Center|              1|     0.8|         1|  162|  161|           1| 6.0|  0.5|    0.5|1.45| 0.0|      8.75|2017-01-01|00:00:03|2017-01-01|00:06:58|    1|midnight|     00|\n",
      "|     48|Manhattan|        Clinton East|     50|Manhattan|     Clinton West|              2|     0.9|         1|   48|   50|           1| 7.0|  0.5|    0.5| 0.0| 0.0|       8.3|2017-01-01|00:00:05|2017-01-01|00:08:33|    1|midnight|     00|\n",
      "|    140|Manhattan|     Lenox Hill East|     74|Manhattan|East Harlem North|              5|    1.76|         1|  140|   74|           2| 7.0|  0.5|    0.5| 0.0| 0.0|       8.3|2017-01-01|00:00:05|2017-01-01|00:05:04|    1|midnight|     00|\n",
      "+-------+---------+--------------------+-------+---------+-----------------+---------------+--------+----------+-----+-----+------------+----+-----+-------+----+----+----------+----------+--------+----------+--------+-----+--------+-------+\n",
      "only showing top 10 rows\n",
      "\n"
     ]
    }
   ],
   "source": [
    "#### manipulate time\n",
    "split_col = pyspark.sql.functions.split(df_joined['PUTime'], ':')\n",
    "df_joined = df_joined.withColumn('PUHour', split_col.getItem(0))\n",
    "df_joined = df_joined.withColumn('PUClock', split_col.getItem(0))\n",
    "\n",
    "from pyspark.sql.functions import when\n",
    "\n",
    "df_joined = df_joined.withColumn(\"PUHour\", when((df_joined[\"PUHour\"] >=0) & (df_joined[\"PUHour\"] <6), 'midnight').otherwise(df_joined[\"PUHour\"]))\n",
    "df_joined = df_joined.withColumn(\"PUHour\", when((df_joined[\"PUHour\"] >=6) & (df_joined[\"PUHour\"] <12), 'morning').otherwise(df_joined[\"PUHour\"]))\n",
    "df_joined = df_joined.withColumn(\"PUHour\", when((df_joined[\"PUHour\"] >=12) & (df_joined[\"PUHour\"] <18), 'afternoon').otherwise(df_joined[\"PUHour\"]))\n",
    "df_joined = df_joined.withColumn(\"PUHour\", when((df_joined[\"PUHour\"] >=18) & (df_joined[\"PUHour\"] <=23), 'evening').otherwise(df_joined[\"PUHour\"]))\n",
    "\n",
    "df_joined.show(10)"
   ]
  },
  {
   "cell_type": "code",
   "execution_count": 13,
   "metadata": {},
   "outputs": [
    {
     "name": "stdout",
     "output_type": "stream",
     "text": [
      "+---------+--------------------+-----+------+\n",
      "|   PUHour|              PUZone|month| count|\n",
      "+---------+--------------------+-----+------+\n",
      "|afternoon|Upper East Side S...|    1|157826|\n",
      "|afternoon|Upper East Side N...|    1|151358|\n",
      "|  evening|Times Sq/Theatre ...|    1|136867|\n",
      "|  evening|      Midtown Center|    1|136487|\n",
      "|afternoon|      Midtown Center|    1|134284|\n",
      "|  evening|            Union Sq|    1|129806|\n",
      "|  evening|        Midtown East|    1|123194|\n",
      "|  morning|Upper East Side N...|    1|115309|\n",
      "|afternoon|        Midtown East|    1|110824|\n",
      "|  evening|        East Village|    1|110726|\n",
      "+---------+--------------------+-----+------+\n",
      "only showing top 10 rows\n",
      "\n"
     ]
    }
   ],
   "source": [
    "###### by time\n",
    "PUByTime = df_joined.groupBy('PUHour', 'PUZone', 'month').count()\n",
    "PUByTime = PUByTime.orderBy('count', ascending=False)\n",
    "PUByTime.show(10)"
   ]
  },
  {
   "cell_type": "code",
   "execution_count": 9,
   "metadata": {},
   "outputs": [
    {
     "name": "stdout",
     "output_type": "stream",
     "text": [
      "+--------------------+-----+------+\n",
      "|              PUZone|month| count|\n",
      "+--------------------+-----+------+\n",
      "|Upper East Side S...|    1|380663|\n",
      "|Upper East Side N...|    1|363649|\n",
      "|      Midtown Center|    1|360995|\n",
      "|Penn Station/Madi...|    1|339970|\n",
      "|Times Sq/Theatre ...|    1|334079|\n",
      "|            Union Sq|    1|333035|\n",
      "|        Midtown East|    1|330946|\n",
      "|         Murray Hill|    1|306244|\n",
      "|        East Village|    1|303580|\n",
      "|        Clinton East|    1|297414|\n",
      "+--------------------+-----+------+\n",
      "only showing top 10 rows\n",
      "\n"
     ]
    }
   ],
   "source": [
    "####### best PU locs\n",
    "best_locs = df_joined.groupBy('PUZone', 'month').count()\n",
    "best_locs = best_locs.orderBy('count', ascending=False)\n",
    "best_locs.show(10)"
   ]
  },
  {
   "cell_type": "code",
   "execution_count": 14,
   "metadata": {},
   "outputs": [
    {
     "name": "stdout",
     "output_type": "stream",
     "text": [
      "+-------+---------+--------------------+-------+---------+-----------------+---------------+--------+----------+-----+-----+------------+----+-----+-------+----+----+----------+----------+--------+----------+--------+-----+--------+-------+\n",
      "|PULocID|PUBorough|              PUZone|DOLocID|DOBorough|           DOZone|passenger_count|distance|RateCodeID|srcID|dstID|payment_type|fare|extra|mta_tax| tip|toll|total_fare|    PUDate|  PUTime|    DODate|  DOTime|month|  PUHour|PUClock|\n",
      "+-------+---------+--------------------+-------+---------+-----------------+---------------+--------+----------+-----+-----+------------+----+-----+-------+----+----+----------+----------+--------+----------+--------+-----+--------+-------+\n",
      "|    263|Manhattan|      Yorkville West|    161|Manhattan|   Midtown Center|              1|     3.3|         1|  263|  161|           1|12.5|  0.0|    0.5| 2.0| 0.0|      15.3|2017-01-09|11:13:28|2017-01-09|11:25:45|    1| morning|     11|\n",
      "|    186|Manhattan|Penn Station/Madi...|    234|Manhattan|         Union Sq|              1|     0.9|         1|  186|  234|           1| 5.0|  0.0|    0.5|1.45| 0.0|      7.25|2017-01-09|11:32:27|2017-01-09|11:36:01|    1| morning|     11|\n",
      "|    164|Manhattan|       Midtown South|    161|Manhattan|   Midtown Center|              1|     1.1|         1|  164|  161|           1| 5.5|  0.0|    0.5| 1.0| 0.0|       7.3|2017-01-09|11:38:20|2017-01-09|11:42:05|    1| morning|     11|\n",
      "|    236|Manhattan|Upper East Side N...|     75|Manhattan|East Harlem South|              1|     1.1|         1|  236|   75|           1| 6.0|  0.0|    0.5| 1.7| 0.0|       8.5|2017-01-09|11:52:13|2017-01-09|11:57:36|    1| morning|     11|\n",
      "|    249|Manhattan|        West Village|    234|Manhattan|         Union Sq|              1|    0.02|         2|  249|  234|           2|52.0|  0.0|    0.5| 0.0| 0.0|      52.8|2017-01-01|00:00:00|2017-01-01|00:00:00|    1|midnight|      0|\n",
      "|     48|Manhattan|        Clinton East|     48|Manhattan|     Clinton East|              1|     0.5|         1|   48|   48|           2| 4.0|  0.5|    0.5| 0.0| 0.0|       5.3|2017-01-01|00:00:02|2017-01-01|00:03:50|    1|midnight|      0|\n",
      "|    186|Manhattan|Penn Station/Madi...|     36| Brooklyn|   Bushwick North|              4|    7.75|         1|  186|   36|           1|22.0|  0.5|    0.5|4.66| 0.0|     27.96|2017-01-01|00:00:02|2017-01-01|00:39:22|    1|midnight|      0|\n",
      "|    162|Manhattan|        Midtown East|    161|Manhattan|   Midtown Center|              1|     0.8|         1|  162|  161|           1| 6.0|  0.5|    0.5|1.45| 0.0|      8.75|2017-01-01|00:00:03|2017-01-01|00:06:58|    1|midnight|      0|\n",
      "|     48|Manhattan|        Clinton East|     50|Manhattan|     Clinton West|              2|     0.9|         1|   48|   50|           1| 7.0|  0.5|    0.5| 0.0| 0.0|       8.3|2017-01-01|00:00:05|2017-01-01|00:08:33|    1|midnight|      0|\n",
      "|    140|Manhattan|     Lenox Hill East|     74|Manhattan|East Harlem North|              5|    1.76|         1|  140|   74|           2| 7.0|  0.5|    0.5| 0.0| 0.0|       8.3|2017-01-01|00:00:05|2017-01-01|00:05:04|    1|midnight|      0|\n",
      "+-------+---------+--------------------+-------+---------+-----------------+---------------+--------+----------+-----+-----+------------+----+-----+-------+----+----+----------+----------+--------+----------+--------+-----+--------+-------+\n",
      "only showing top 10 rows\n",
      "\n"
     ]
    }
   ],
   "source": [
    "from pyspark.sql.types import IntegerType\n",
    "df_joined = df_joined.withColumn(\"PUClock\", df_joined[\"PUClock\"].cast(IntegerType()))\n",
    "df_joined.show(10)"
   ]
  },
  {
   "cell_type": "code",
   "execution_count": 15,
   "metadata": {},
   "outputs": [
    {
     "name": "stdout",
     "output_type": "stream",
     "text": [
      "+-------+---------+--------------------+-------+---------+--------------------+---------------+--------+----------+-----+-----+------------+----+-----+-------+----+----+----------+----------+--------+----------+--------+-----+--------+-------+--------------------+\n",
      "|PULocID|PUBorough|              PUZone|DOLocID|DOBorough|              DOZone|passenger_count|distance|RateCodeID|srcID|dstID|payment_type|fare|extra|mta_tax| tip|toll|total_fare|    PUDate|  PUTime|    DODate|  DOTime|month|  PUHour|PUClock|            features|\n",
      "+-------+---------+--------------------+-------+---------+--------------------+---------------+--------+----------+-----+-----+------------+----+-----+-------+----+----+----------+----------+--------+----------+--------+-----+--------+-------+--------------------+\n",
      "|    263|Manhattan|      Yorkville West|    161|Manhattan|      Midtown Center|              1|     3.3|         1|  263|  161|           1|12.5|  0.0|    0.5| 2.0| 0.0|      15.3|2017-01-09|11:13:28|2017-01-09|11:25:45|    1| morning|     11|[1.0,3.3,1.0,263....|\n",
      "|    186|Manhattan|Penn Station/Madi...|    234|Manhattan|            Union Sq|              1|     0.9|         1|  186|  234|           1| 5.0|  0.0|    0.5|1.45| 0.0|      7.25|2017-01-09|11:32:27|2017-01-09|11:36:01|    1| morning|     11|[1.0,0.9,1.0,186....|\n",
      "|    164|Manhattan|       Midtown South|    161|Manhattan|      Midtown Center|              1|     1.1|         1|  164|  161|           1| 5.5|  0.0|    0.5| 1.0| 0.0|       7.3|2017-01-09|11:38:20|2017-01-09|11:42:05|    1| morning|     11|[1.0,1.1,1.0,164....|\n",
      "|    236|Manhattan|Upper East Side N...|     75|Manhattan|   East Harlem South|              1|     1.1|         1|  236|   75|           1| 6.0|  0.0|    0.5| 1.7| 0.0|       8.5|2017-01-09|11:52:13|2017-01-09|11:57:36|    1| morning|     11|[1.0,1.1,1.0,236....|\n",
      "|    249|Manhattan|        West Village|    234|Manhattan|            Union Sq|              1|    0.02|         2|  249|  234|           2|52.0|  0.0|    0.5| 0.0| 0.0|      52.8|2017-01-01|00:00:00|2017-01-01|00:00:00|    1|midnight|      0|[1.0,0.02,2.0,249...|\n",
      "|     48|Manhattan|        Clinton East|     48|Manhattan|        Clinton East|              1|     0.5|         1|   48|   48|           2| 4.0|  0.5|    0.5| 0.0| 0.0|       5.3|2017-01-01|00:00:02|2017-01-01|00:03:50|    1|midnight|      0|[1.0,0.5,1.0,48.0...|\n",
      "|    186|Manhattan|Penn Station/Madi...|     36| Brooklyn|      Bushwick North|              4|    7.75|         1|  186|   36|           1|22.0|  0.5|    0.5|4.66| 0.0|     27.96|2017-01-01|00:00:02|2017-01-01|00:39:22|    1|midnight|      0|[4.0,7.75,1.0,186...|\n",
      "|    162|Manhattan|        Midtown East|    161|Manhattan|      Midtown Center|              1|     0.8|         1|  162|  161|           1| 6.0|  0.5|    0.5|1.45| 0.0|      8.75|2017-01-01|00:00:03|2017-01-01|00:06:58|    1|midnight|      0|[1.0,0.8,1.0,162....|\n",
      "|     48|Manhattan|        Clinton East|     50|Manhattan|        Clinton West|              2|     0.9|         1|   48|   50|           1| 7.0|  0.5|    0.5| 0.0| 0.0|       8.3|2017-01-01|00:00:05|2017-01-01|00:08:33|    1|midnight|      0|[2.0,0.9,1.0,48.0...|\n",
      "|    140|Manhattan|     Lenox Hill East|     74|Manhattan|   East Harlem North|              5|    1.76|         1|  140|   74|           2| 7.0|  0.5|    0.5| 0.0| 0.0|       8.3|2017-01-01|00:00:05|2017-01-01|00:05:04|    1|midnight|      0|[5.0,1.76,1.0,140...|\n",
      "|    138|   Queens|   LaGuardia Airport|    262|Manhattan|      Yorkville East|              1|    8.47|         1|  138|  262|           1|24.0|  0.5|    0.5|7.71|5.54|     38.55|2017-01-01|00:00:05|2017-01-01|00:15:36|    1|midnight|      0|[1.0,8.47,1.0,138...|\n",
      "|    142|Manhattan| Lincoln Square East|    236|Manhattan|Upper East Side N...|              2|     2.4|         1|  142|  236|           2|10.5|  0.5|    0.5| 0.0| 0.0|      11.8|2017-01-01|00:00:06|2017-01-01|00:11:56|    1|midnight|      0|[2.0,2.4,1.0,142....|\n",
      "|    161|Manhattan|      Midtown Center|    265|  Unknown|                  NA|              2|    12.6|         5|  161|  265|           1|60.0|  0.0|    0.0|10.0| 0.0|      70.3|2017-01-01|00:00:06|2017-01-01|00:23:37|    1|midnight|      0|[2.0,12.6,5.0,161...|\n",
      "|    234|Manhattan|            Union Sq|    186|Manhattan|Penn Station/Madi...|              1|     0.9|         1|  234|  186|           1| 7.0|  0.5|    0.5|2.05| 0.0|     10.35|2017-01-01|00:00:06|2017-01-01|00:08:53|    1|midnight|      0|[1.0,0.9,1.0,234....|\n",
      "|    141|Manhattan|     Lenox Hill West|    107|Manhattan|            Gramercy|              4|    2.43|         1|  141|  107|           1| 9.5|  0.5|    0.5| 2.7| 0.0|      13.5|2017-01-01|00:00:06|2017-01-01|00:09:30|    1|midnight|      0|[4.0,2.43,1.0,141...|\n",
      "|     79|Manhattan|        East Village|    163|Manhattan|       Midtown North|              2|     2.6|         1|   79|  163|           1|12.5|  0.5|    0.5|2.76| 0.0|     16.56|2017-01-01|00:00:06|2017-01-01|00:16:05|    1|midnight|      0|[2.0,2.6,1.0,79.0...|\n",
      "|    148|Manhattan|     Lower East Side|     36| Brooklyn|      Bushwick North|              5|    4.25|         1|  148|   36|           2|16.5|  0.5|    0.5| 0.0| 0.0|      17.8|2017-01-01|00:00:06|2017-01-01|00:18:12|    1|midnight|      0|[5.0,4.25,1.0,148...|\n",
      "|     48|Manhattan|        Clinton East|     68|Manhattan|        East Chelsea|              1|    0.65|         1|   48|   68|           1| 6.5|  0.5|    0.5| 1.7| 0.0|       9.5|2017-01-01|00:00:07|2017-01-01|00:07:42|    1|midnight|      0|[1.0,0.65,1.0,48....|\n",
      "|    230|Manhattan|Times Sq/Theatre ...|    148|Manhattan|     Lower East Side|              1|    3.42|         1|  230|  148|           1|22.5|  0.5|    0.5| 0.0| 0.0|      23.8|2017-01-01|00:00:09|2017-01-01|00:34:21|    1|midnight|      0|[1.0,3.42,1.0,230...|\n",
      "|    186|Manhattan|Penn Station/Madi...|    232|Manhattan|Two Bridges/Sewar...|              1|     6.6|         1|  186|  232|           2|23.0|  0.5|    0.5| 0.0| 0.0|      24.3|2017-01-01|00:00:10|2017-01-01|00:24:52|    1|midnight|      0|[1.0,6.6,1.0,186....|\n",
      "+-------+---------+--------------------+-------+---------+--------------------+---------------+--------+----------+-----+-----+------------+----+-----+-------+----+----+----------+----------+--------+----------+--------+-----+--------+-------+--------------------+\n",
      "only showing top 20 rows\n",
      "\n"
     ]
    }
   ],
   "source": [
    "#########################################################################################################\n",
    "####Clustering\n",
    "\n",
    "from pyspark.ml.feature import VectorAssembler\n",
    "#vecAssembler = VectorAssembler(inputCols=[\"PULocID\", \"PUBorough\", \"PUZone\", \"DOLocID\",\"DOBorough\", \"DOZone\", \"passenger_count\" ,\"distance\" , \"RateCodeID\", \"srcID\", \"dstID\", \"payment_type\", \"fare\" ,\"extra\", \"mta_tax\",  \"tip\",\"toll\",\"total_fare\", \"PUDate\", \"PUTime\",\"DODate\",\"DOTime\",\"month\" ,\"PUHour\"], outputCol=\"features\")\n",
    "vecAssembler = VectorAssembler(inputCols=[\"passenger_count\" ,\"distance\" , \"RateCodeID\", \"srcID\", \"dstID\", \"payment_type\", \"fare\" ,\"extra\", \"mta_tax\",\"tip\",\"toll\",\"total_fare\",\"month\", \"PUClock\"], outputCol=\"features\")\n",
    "new_df = vecAssembler.transform(df_joined)\n",
    "new_df.show()\n"
   ]
  },
  {
   "cell_type": "code",
   "execution_count": null,
   "metadata": {},
   "outputs": [],
   "source": [
    "from pyspark.ml.clustering import KMeans\n",
    "\n",
    "kmeans = KMeans(k=3, seed=1)  # 2 clusters here\n",
    "model = kmeans.fit(new_df.select('features'))"
   ]
  },
  {
   "cell_type": "code",
   "execution_count": null,
   "metadata": {},
   "outputs": [],
   "source": [
    "transformed = model.transform(new_df)\n",
    "transformed.show()"
   ]
  },
  {
   "cell_type": "code",
   "execution_count": null,
   "metadata": {},
   "outputs": [],
   "source": [
    "# load function\n",
    "from pyspark.sql import functions as F\n",
    "import pandas as pd\n",
    "\n",
    "# aggregate data\n",
    "stat = transformed.groupby('prediction').agg(\n",
    "    F.avg(F.col('total_fare')).alias('avg_fare'),\n",
    "    F.avg(F.col('distance')).alias('avg_distance'),\n",
    "    F.avg(F.col('passenger_count')).alias('avg_passenger'),\n",
    "    F.avg(F.col('tip')).alias('avg_tip'),\n",
    "    F.variance(F.col('total_fare')).alias('var_fare'),\n",
    "    F.variance(F.col('distance')).alias('var_distance'),\n",
    "    F.variance(F.col('passenger_count')).alias('var_passenger'),\n",
    "    F.variance(F.col('tip')).alias('var_tip')\n",
    ")\n",
    "stat.toPandas().to_csv('Cluster_stat_jan.csv', index=False)\n",
    "stat.show()"
   ]
  },
  {
   "cell_type": "code",
   "execution_count": null,
   "metadata": {},
   "outputs": [],
   "source": [
    "vertexP = df_joined.select(\"PUZone\").distinct()\n",
    "vertexP = vertexP.selectExpr(\"PUZone as Zone\")\n",
    "print(vertexP.count())\n",
    "vertexD = df_joined.select(\"DOZone\").distinct()\n",
    "vertexD = vertexD.selectExpr(\"DOZone as Zone\")\n",
    "print(vertexD.count())\n",
    "if vertexD.count() > vertexP.count():\n",
    "  vertex = vertexD.unionAll(vertexP)\n",
    "else : vertex = vertexP.unionAll(vertexD)\n",
    "print(vertex.count())\n",
    "vertex = vertex.select(\"Zone\").distinct()\n",
    "print(vertex.count())\n",
    "vertex.toPandas().to_csv('Zones.csv', index=False)\n",
    "vertex.show()"
   ]
  },
  {
   "cell_type": "code",
   "execution_count": null,
   "metadata": {},
   "outputs": [],
   "source": [
    "edge = df_joined.groupBy('PUZone', 'DOZone').count()\n",
    "edge = edge.selectExpr(\"PUZone as src\", \"DOZone as dst\", \"count as weight\")\n",
    "edge.toPandas().to_csv('Edges_jan.csv', index=False)\n",
    "edge.show()"
   ]
  },
  {
   "cell_type": "code",
   "execution_count": null,
   "metadata": {},
   "outputs": [],
   "source": [
    "#####################################################  \n",
    "### Feb\n",
    "\n",
    "jan = spark.read.csv('../bigdata/yellow_tripdata_2017-02.csv', header=True, inferSchema = True)\n",
    "jan = jan.drop('VendorID','store_and_fwd_flag' ,'improvement_surcharge')\n",
    "\n",
    "import pyspark.sql.functions\n",
    "\n",
    "split_col = pyspark.sql.functions.split(jan['tpep_pickup_datetime'], ' ')\n",
    "jan = jan.withColumn('PUDate', split_col.getItem(0))\n",
    "jan = jan.withColumn('PUTime', split_col.getItem(1))\n",
    "split_col = pyspark.sql.functions.split(jan['tpep_dropoff_datetime'], ' ')\n",
    "jan = jan.withColumn('DODate', split_col.getItem(0))\n",
    "jan = jan.withColumn('DOTime', split_col.getItem(1))\n",
    "\n",
    "jan = jan.drop('tpep_pickup_datetime','tpep_dropoff_datetime')\n"
   ]
  },
  {
   "cell_type": "code",
   "execution_count": null,
   "metadata": {},
   "outputs": [],
   "source": [
    "df_joined = jan.join(loc,[jan.PULocationID==loc.LocationID],'left_outer')\n",
    "df_joined = df_joined.selectExpr(\"LocationID as PULocID\", \"Borough as PUBorough\", \"Zone as PUZone\", \"passenger_count as passenger_count\", \"trip_distance as distance\", \"RateCodeID as RateCodeID\", \"PULocationID as srcID\", \"DOLocationID as dstID\", \"payment_type as payment_type\", \"fare_amount as fare\", \"extra as extra\", \"mta_tax as mta_tax\", \"tip_amount as tip\", \"tolls_amount as toll\", \"total_amount as total_fare\", \"PUDate as PUDate\", \"PUTime as PUTime\", \"DODate as DODate\", \"DOTime as DOTime\")\n",
    "df_joined = df_joined.join(loc,[df_joined.dstID==loc.LocationID],'left_outer')\n",
    "df_joined = df_joined.selectExpr(\"PULocID as PULocID\", \"PUBorough as PUBorough\", \"PUZone as PUZone\", \"LocationID as DOLocID\", \"Borough as DOBorough\", \"Zone as DOZone\", \"passenger_count as passenger_count\", \"distance as distance\", \"RateCodeID as RateCodeID\", \"srcID as srcID\", \"dstID as dstID\", \"payment_type as payment_type\", \"fare as fare\", \"extra as extra\", \"mta_tax as mta_tax\", \"tip as tip\", \"toll as toll\", \"total_fare as total_fare\", \"PUDate as PUDate\", \"PUTime as PUTime\", \"DODate as DODate\", \"DOTime as DOTime\")\n"
   ]
  },
  {
   "cell_type": "code",
   "execution_count": null,
   "metadata": {},
   "outputs": [],
   "source": [
    "byTotalFare = df_joined.groupBy('PUZone', 'DOZone').avg('total_fare')\n",
    "byDistance = df_joined.groupBy('PUZone', 'DOZone').max('distance')\n",
    "\n",
    "from pyspark.sql.functions import lit\n",
    "df_joined = df_joined.withColumn(\"month\",lit(2))\n",
    "\n",
    "Grapht = df_joined.select('PUZone', 'DOZone', 'month')\n",
    "Grapht = Grapht.groupBy('PUZone', 'DOZone').count()\n",
    "Grapht = Grapht.withColumn(\"month\",lit(2))\n",
    "Grapht = Grapht.selectExpr(\"PUZone as src\", \"DOZone as dst\", \"count as count\", \"month as month\")\n",
    "\n",
    "byTotalFare = df_joined.groupBy('PUZone', 'DOZone').avg('total_fare')\n",
    "Grapht = Grapht.join(byTotalFare,[Grapht.src==byTotalFare.PUZone, Grapht.dst==byTotalFare.DOZone],'left_outer')\n",
    "Grapht = Grapht.drop('PUZone', 'DOZone')\n",
    "Grapht = Grapht.withColumnRenamed(\"avg(total_fare)\", \"avg_fare\")\n",
    "Graph = Graph.union(Grapht)"
   ]
  },
  {
   "cell_type": "code",
   "execution_count": null,
   "metadata": {},
   "outputs": [],
   "source": [
    "########## max distance\n",
    "max_distt = df_joined.orderBy('distance', ascending=False)\n",
    "max_distt = max_distt.limit(10)\n",
    "max_distt = max_distt.withColumnRenamed(\"distance\", \"max_distance\")\n",
    "max_distt = max_distt.select('PUZone', 'DOZone', 'max_distance', 'month')\n",
    "max_dist = max_dist.union(max_distt)"
   ]
  },
  {
   "cell_type": "code",
   "execution_count": null,
   "metadata": {},
   "outputs": [],
   "source": [
    "######max fare\n",
    "max_faret = df_joined.orderBy('total_fare', ascending=False)\n",
    "max_faret = max_faret.limit(10)\n",
    "max_faret = max_faret.withColumnRenamed(\"total_fare\", \"max_fare\")\n",
    "max_faret = max_faret.select('PUZone', 'DOZone', 'max_fare', 'month')\n",
    "max_fare = max_fare.union(max_faret)"
   ]
  },
  {
   "cell_type": "code",
   "execution_count": null,
   "metadata": {},
   "outputs": [],
   "source": [
    "#### manipulate time\n",
    "split_col = pyspark.sql.functions.split(df_joined['PUTime'], ':')\n",
    "df_joined = df_joined.withColumn('PUHour', split_col.getItem(0))\n",
    "\n",
    "from pyspark.sql.functions import when\n",
    "\n",
    "df_joined = df_joined.withColumn(\"PUHour\", when((df_joined[\"PUHour\"] >=0) & (df_joined[\"PUHour\"] <6), 'midnight').otherwise(df_joined[\"PUHour\"]))\n",
    "df_joined = df_joined.withColumn(\"PUHour\", when((df_joined[\"PUHour\"] >=6) & (df_joined[\"PUHour\"] <12), 'morning').otherwise(df_joined[\"PUHour\"]))\n",
    "df_joined = df_joined.withColumn(\"PUHour\", when((df_joined[\"PUHour\"] >=12) & (df_joined[\"PUHour\"] <18), 'afternoon').otherwise(df_joined[\"PUHour\"]))\n",
    "df_joined = df_joined.withColumn(\"PUHour\", when((df_joined[\"PUHour\"] >=18) & (df_joined[\"PUHour\"] <=23), 'evening').otherwise(df_joined[\"PUHour\"]))\n"
   ]
  },
  {
   "cell_type": "code",
   "execution_count": null,
   "metadata": {},
   "outputs": [],
   "source": [
    "###### by time\n",
    "PUByTimet = df_joined.groupBy('PUHour', 'PUZone', 'month').count()\n",
    "PUByTimet = PUByTimet.orderBy('count', ascending=False)\n",
    "PUByTime = PUByTime.union(PUByTimet)"
   ]
  },
  {
   "cell_type": "code",
   "execution_count": null,
   "metadata": {},
   "outputs": [],
   "source": [
    "####### best PU locs\n",
    "best_locst = df_joined.groupBy('PUZone', 'month').count()\n",
    "best_locs = best_locs.union(best_locst)"
   ]
  },
  {
   "cell_type": "code",
   "execution_count": null,
   "metadata": {},
   "outputs": [],
   "source": [
    "###############################################\n",
    "#### March\n",
    "\n",
    "jan = spark.read.csv('../bigdata/yellow_tripdata_2017-03.csv', header=True, inferSchema = True)\n",
    "jan = jan.drop('VendorID','store_and_fwd_flag' ,'improvement_surcharge')\n",
    "\n",
    "import pyspark.sql.functions\n",
    "\n",
    "split_col = pyspark.sql.functions.split(jan['tpep_pickup_datetime'], ' ')\n",
    "jan = jan.withColumn('PUDate', split_col.getItem(0))\n",
    "jan = jan.withColumn('PUTime', split_col.getItem(1))\n",
    "split_col = pyspark.sql.functions.split(jan['tpep_dropoff_datetime'], ' ')\n",
    "jan = jan.withColumn('DODate', split_col.getItem(0))\n",
    "jan = jan.withColumn('DOTime', split_col.getItem(1))\n",
    "\n",
    "jan = jan.drop('tpep_pickup_datetime','tpep_dropoff_datetime')\n"
   ]
  },
  {
   "cell_type": "code",
   "execution_count": null,
   "metadata": {},
   "outputs": [],
   "source": [
    "df_joined = jan.join(loc,[jan.PULocationID==loc.LocationID],'left_outer')\n",
    "df_joined = df_joined.selectExpr(\"LocationID as PULocID\", \"Borough as PUBorough\", \"Zone as PUZone\", \"passenger_count as passenger_count\", \"trip_distance as distance\", \"RateCodeID as RateCodeID\", \"PULocationID as srcID\", \"DOLocationID as dstID\", \"payment_type as payment_type\", \"fare_amount as fare\", \"extra as extra\", \"mta_tax as mta_tax\", \"tip_amount as tip\", \"tolls_amount as toll\", \"total_amount as total_fare\", \"PUDate as PUDate\", \"PUTime as PUTime\", \"DODate as DODate\", \"DOTime as DOTime\")\n",
    "df_joined = df_joined.join(loc,[df_joined.dstID==loc.LocationID],'left_outer')\n",
    "df_joined = df_joined.selectExpr(\"PULocID as PULocID\", \"PUBorough as PUBorough\", \"PUZone as PUZone\", \"LocationID as DOLocID\", \"Borough as DOBorough\", \"Zone as DOZone\", \"passenger_count as passenger_count\", \"distance as distance\", \"RateCodeID as RateCodeID\", \"srcID as srcID\", \"dstID as dstID\", \"payment_type as payment_type\", \"fare as fare\", \"extra as extra\", \"mta_tax as mta_tax\", \"tip as tip\", \"toll as toll\", \"total_fare as total_fare\", \"PUDate as PUDate\", \"PUTime as PUTime\", \"DODate as DODate\", \"DOTime as DOTime\")\n"
   ]
  },
  {
   "cell_type": "code",
   "execution_count": null,
   "metadata": {},
   "outputs": [],
   "source": [
    "byTotalFare = df_joined.groupBy('PUZone', 'DOZone').avg('total_fare')\n",
    "byDistance = df_joined.groupBy('PUZone', 'DOZone').max('distance')\n",
    "\n",
    "from pyspark.sql.functions import lit\n",
    "df_joined = df_joined.withColumn(\"month\",lit(3))\n",
    "\n",
    "Grapht = df_joined.select('PUZone', 'DOZone', 'month')\n",
    "Grapht = Grapht.groupBy('PUZone', 'DOZone').count()\n",
    "Grapht = Grapht.withColumn(\"month\",lit(3))\n",
    "Grapht = Grapht.selectExpr(\"PUZone as src\", \"DOZone as dst\", \"count as count\", \"month as month\")\n",
    "\n",
    "byTotalFare = df_joined.groupBy('PUZone', 'DOZone').avg('total_fare')\n",
    "Grapht = Grapht.join(byTotalFare,[Grapht.src==byTotalFare.PUZone, Grapht.dst==byTotalFare.DOZone],'left_outer')\n",
    "Grapht = Grapht.drop('PUZone', 'DOZone')\n",
    "Grapht = Grapht.withColumnRenamed(\"avg(total_fare)\", \"avg_fare\")\n",
    "Graph = Graph.union(Grapht)"
   ]
  },
  {
   "cell_type": "code",
   "execution_count": null,
   "metadata": {},
   "outputs": [],
   "source": [
    "########## max distance\n",
    "max_distt = df_joined.orderBy('distance', ascending=False)\n",
    "max_distt = max_distt.limit(10)\n",
    "max_distt = max_distt.withColumnRenamed(\"distance\", \"max_distance\")\n",
    "max_distt = max_distt.select('PUZone', 'DOZone', 'max_distance', 'month')\n",
    "max_dist = max_dist.union(max_distt)"
   ]
  },
  {
   "cell_type": "code",
   "execution_count": null,
   "metadata": {},
   "outputs": [],
   "source": [
    "######max fare\n",
    "max_faret = df_joined.orderBy('total_fare', ascending=False)\n",
    "max_faret = max_faret.limit(10)\n",
    "max_faret = max_faret.withColumnRenamed(\"total_fare\", \"max_fare\")\n",
    "max_faret = max_faret.select('PUZone', 'DOZone', 'max_fare', 'month')\n",
    "max_fare = max_fare.union(max_faret)"
   ]
  },
  {
   "cell_type": "code",
   "execution_count": null,
   "metadata": {},
   "outputs": [],
   "source": [
    "#### manipulate time\n",
    "split_col = pyspark.sql.functions.split(df_joined['PUTime'], ':')\n",
    "df_joined = df_joined.withColumn('PUHour', split_col.getItem(0))\n",
    "\n",
    "from pyspark.sql.functions import when\n",
    "\n",
    "df_joined = df_joined.withColumn(\"PUHour\", when((df_joined[\"PUHour\"] >=0) & (df_joined[\"PUHour\"] <6), 'midnight').otherwise(df_joined[\"PUHour\"]))\n",
    "df_joined = df_joined.withColumn(\"PUHour\", when((df_joined[\"PUHour\"] >=6) & (df_joined[\"PUHour\"] <12), 'morning').otherwise(df_joined[\"PUHour\"]))\n",
    "df_joined = df_joined.withColumn(\"PUHour\", when((df_joined[\"PUHour\"] >=12) & (df_joined[\"PUHour\"] <18), 'afternoon').otherwise(df_joined[\"PUHour\"]))\n",
    "df_joined = df_joined.withColumn(\"PUHour\", when((df_joined[\"PUHour\"] >=18) & (df_joined[\"PUHour\"] <=23), 'evening').otherwise(df_joined[\"PUHour\"]))\n"
   ]
  },
  {
   "cell_type": "code",
   "execution_count": null,
   "metadata": {},
   "outputs": [],
   "source": [
    "###### by time\n",
    "PUByTimet = df_joined.groupBy('PUHour', 'PUZone', 'month').count()\n",
    "PUByTimet = PUByTimet.orderBy('count', ascending=False)\n",
    "PUByTime = PUByTime.union(PUByTimet)"
   ]
  },
  {
   "cell_type": "code",
   "execution_count": null,
   "metadata": {},
   "outputs": [],
   "source": [
    "####### best PU locs\n",
    "best_locst = df_joined.groupBy('PUZone', 'month').count()\n",
    "best_locs = best_locs.union(best_locst)"
   ]
  },
  {
   "cell_type": "code",
   "execution_count": null,
   "metadata": {},
   "outputs": [],
   "source": [
    "#################################################################\n",
    "##### April\n",
    "jan = spark.read.csv('../bigdata/yellow_tripdata_2017-03.csv', header=True, inferSchema = True)\n",
    "jan = jan.drop('VendorID','store_and_fwd_flag' ,'improvement_surcharge')\n",
    "\n",
    "import pyspark.sql.functions\n",
    "\n",
    "split_col = pyspark.sql.functions.split(jan['tpep_pickup_datetime'], ' ')\n",
    "jan = jan.withColumn('PUDate', split_col.getItem(0))\n",
    "jan = jan.withColumn('PUTime', split_col.getItem(1))\n",
    "split_col = pyspark.sql.functions.split(jan['tpep_dropoff_datetime'], ' ')\n",
    "jan = jan.withColumn('DODate', split_col.getItem(0))\n",
    "jan = jan.withColumn('DOTime', split_col.getItem(1))\n",
    "\n",
    "jan = jan.drop('tpep_pickup_datetime','tpep_dropoff_datetime')"
   ]
  },
  {
   "cell_type": "code",
   "execution_count": null,
   "metadata": {},
   "outputs": [],
   "source": [
    "df_joined = jan.join(loc,[jan.PULocationID==loc.LocationID],'left_outer')\n",
    "df_joined = df_joined.selectExpr(\"LocationID as PULocID\", \"Borough as PUBorough\", \"Zone as PUZone\", \"passenger_count as passenger_count\", \"trip_distance as distance\", \"RateCodeID as RateCodeID\", \"PULocationID as srcID\", \"DOLocationID as dstID\", \"payment_type as payment_type\", \"fare_amount as fare\", \"extra as extra\", \"mta_tax as mta_tax\", \"tip_amount as tip\", \"tolls_amount as toll\", \"total_amount as total_fare\", \"PUDate as PUDate\", \"PUTime as PUTime\", \"DODate as DODate\", \"DOTime as DOTime\")\n",
    "df_joined = df_joined.join(loc,[df_joined.dstID==loc.LocationID],'left_outer')\n",
    "df_joined = df_joined.selectExpr(\"PULocID as PULocID\", \"PUBorough as PUBorough\", \"PUZone as PUZone\", \"LocationID as DOLocID\", \"Borough as DOBorough\", \"Zone as DOZone\", \"passenger_count as passenger_count\", \"distance as distance\", \"RateCodeID as RateCodeID\", \"srcID as srcID\", \"dstID as dstID\", \"payment_type as payment_type\", \"fare as fare\", \"extra as extra\", \"mta_tax as mta_tax\", \"tip as tip\", \"toll as toll\", \"total_fare as total_fare\", \"PUDate as PUDate\", \"PUTime as PUTime\", \"DODate as DODate\", \"DOTime as DOTime\")\n"
   ]
  },
  {
   "cell_type": "code",
   "execution_count": null,
   "metadata": {},
   "outputs": [],
   "source": [
    "byTotalFare = df_joined.groupBy('PUZone', 'DOZone').avg('total_fare')\n",
    "byDistance = df_joined.groupBy('PUZone', 'DOZone').max('distance')\n",
    "\n",
    "from pyspark.sql.functions import lit\n",
    "df_joined = df_joined.withColumn(\"month\",lit(3))\n",
    "\n",
    "Grapht = df_joined.select('PUZone', 'DOZone', 'month')\n",
    "Grapht = Grapht.groupBy('PUZone', 'DOZone').count()\n",
    "Grapht = Grapht.withColumn(\"month\",lit(3))\n",
    "Grapht = Grapht.selectExpr(\"PUZone as src\", \"DOZone as dst\", \"count as count\", \"month as month\")\n",
    "\n",
    "byTotalFare = df_joined.groupBy('PUZone', 'DOZone').avg('total_fare')\n",
    "Grapht = Grapht.join(byTotalFare,[Grapht.src==byTotalFare.PUZone, Grapht.dst==byTotalFare.DOZone],'left_outer')\n",
    "Grapht = Grapht.drop('PUZone', 'DOZone')\n",
    "Grapht = Grapht.withColumnRenamed(\"avg(total_fare)\", \"avg_fare\")\n",
    "Graph = Graph.union(Grapht)"
   ]
  },
  {
   "cell_type": "code",
   "execution_count": null,
   "metadata": {},
   "outputs": [],
   "source": [
    "########## max distance\n",
    "max_distt = df_joined.orderBy('distance', ascending=False)\n",
    "max_distt = max_distt.limit(10)\n",
    "max_distt = max_distt.withColumnRenamed(\"distance\", \"max_distance\")\n",
    "max_distt = max_distt.select('PUZone', 'DOZone', 'max_distance', 'month')\n",
    "max_dist = max_dist.union(max_distt)"
   ]
  },
  {
   "cell_type": "code",
   "execution_count": null,
   "metadata": {},
   "outputs": [],
   "source": [
    "######max fare\n",
    "max_faret = df_joined.orderBy('total_fare', ascending=False)\n",
    "max_faret = max_faret.limit(10)\n",
    "max_faret = max_faret.withColumnRenamed(\"total_fare\", \"max_fare\")\n",
    "max_faret = max_faret.select('PUZone', 'DOZone', 'max_fare', 'month')\n",
    "max_fare = max_fare.union(max_faret)"
   ]
  },
  {
   "cell_type": "code",
   "execution_count": null,
   "metadata": {},
   "outputs": [],
   "source": [
    "#### manipulate time\n",
    "split_col = pyspark.sql.functions.split(df_joined['PUTime'], ':')\n",
    "df_joined = df_joined.withColumn('PUHour', split_col.getItem(0))\n",
    "\n",
    "from pyspark.sql.functions import when\n",
    "\n",
    "df_joined = df_joined.withColumn(\"PUHour\", when((df_joined[\"PUHour\"] >=0) & (df_joined[\"PUHour\"] <6), 'midnight').otherwise(df_joined[\"PUHour\"]))\n",
    "df_joined = df_joined.withColumn(\"PUHour\", when((df_joined[\"PUHour\"] >=6) & (df_joined[\"PUHour\"] <12), 'morning').otherwise(df_joined[\"PUHour\"]))\n",
    "df_joined = df_joined.withColumn(\"PUHour\", when((df_joined[\"PUHour\"] >=12) & (df_joined[\"PUHour\"] <18), 'afternoon').otherwise(df_joined[\"PUHour\"]))\n",
    "df_joined = df_joined.withColumn(\"PUHour\", when((df_joined[\"PUHour\"] >=18) & (df_joined[\"PUHour\"] <=23), 'evening').otherwise(df_joined[\"PUHour\"]))\n"
   ]
  },
  {
   "cell_type": "code",
   "execution_count": null,
   "metadata": {},
   "outputs": [],
   "source": [
    "###### by time\n",
    "PUByTimet = df_joined.groupBy('PUHour', 'PUZone', 'month').count()\n",
    "PUByTimet = PUByTimet.orderBy('count', ascending=False)\n",
    "PUByTime = PUByTime.union(PUByTimet)"
   ]
  },
  {
   "cell_type": "code",
   "execution_count": null,
   "metadata": {},
   "outputs": [],
   "source": [
    "####### best PU locs\n",
    "best_locst = df_joined.groupBy('PUZone', 'month').count()\n",
    "best_locs = best_locs.union(best_locst)"
   ]
  },
  {
   "cell_type": "code",
   "execution_count": null,
   "metadata": {},
   "outputs": [],
   "source": [
    "import pandas as pd\n",
    "Graph.toPandas().to_csv('Graph.csv', index=False)"
   ]
  },
  {
   "cell_type": "code",
   "execution_count": null,
   "metadata": {},
   "outputs": [],
   "source": [
    "max_dist.toPandas().to_csv('Max_distance.csv', index=False)"
   ]
  },
  {
   "cell_type": "code",
   "execution_count": null,
   "metadata": {},
   "outputs": [],
   "source": [
    "max_fare.toPandas().to_csv('Max_fare.csv', index=False)"
   ]
  },
  {
   "cell_type": "code",
   "execution_count": null,
   "metadata": {},
   "outputs": [],
   "source": [
    "PUByTime.toPandas().to_csv('PickUpByTime.csv', index=False)"
   ]
  },
  {
   "cell_type": "code",
   "execution_count": null,
   "metadata": {},
   "outputs": [],
   "source": [
    "best_locs.toPandas().to_csv('Best_PickUp_Locs.csv', index=False)"
   ]
  },
  {
   "cell_type": "code",
   "execution_count": null,
   "metadata": {},
   "outputs": [],
   "source": [
    "spark.stop()"
   ]
  }
 ],
 "metadata": {
  "kernelspec": {
   "display_name": "Python 3",
   "language": "python",
   "name": "python3"
  },
  "language_info": {
   "codemirror_mode": {
    "name": "ipython",
    "version": 3
   },
   "file_extension": ".py",
   "mimetype": "text/x-python",
   "name": "python",
   "nbconvert_exporter": "python",
   "pygments_lexer": "ipython3",
   "version": "3.7.2"
  }
 },
 "nbformat": 4,
 "nbformat_minor": 2
}
